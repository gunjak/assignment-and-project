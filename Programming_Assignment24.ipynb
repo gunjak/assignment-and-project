{
 "cells": [
  {
   "cell_type": "markdown",
   "metadata": {},
   "source": [
    "# Create a function that takes an integer and returns a list from 1 to the given number, where:\n",
    "1. If the number can be divided evenly by 4, amplify it by 10 (i.e. return 10 times the\n",
    "number).\n",
    "2. If the number cannot be divided evenly by 4, simply return the number."
   ]
  },
  {
   "cell_type": "code",
   "execution_count": null,
   "metadata": {},
   "outputs": [],
   "source": [
    "def amplify(num):\n",
    "    \"\"\"a function that takes an integer and returns a list from 1 to the given number, where:\n",
    "    1. If the number can be divided evenly by 4, amplify it by 10 (i.e. return 10 times the\n",
    "    number).\n",
    "    2. If the number cannot be divided evenly by 4, simply return the number.\"\"\"\n",
    "    try:\n",
    "        l=[i*10 if i%4==0 else i for i in range(1,num+1)]\n",
    "        return l\n",
    "    except Exception as e:\n",
    "        print(e)\n",
    "#check\n",
    "print(amplify(4))\n",
    "print(amplify(3) )   "
   ]
  },
  {
   "cell_type": "markdown",
   "metadata": {},
   "source": [
    "# Create a function that takes a list of numbers and return the number that's unique."
   ]
  },
  {
   "cell_type": "code",
   "execution_count": null,
   "metadata": {},
   "outputs": [],
   "source": [
    "def unique(lis):\n",
    "    try:\n",
    "        \"\"\"a function that takes a list of numbers and return the number that's unique.\"\"\"\n",
    "        a=list(set(lis[2:]).symmetric_difference(set(lis[:2])))\n",
    "        if len(a)>1:\n",
    "            raise Exception(\"Invalid input\")\n",
    "        else:\n",
    "            return a[0]      \n",
    "    except Exception as e:\n",
    "        print(e)\n",
    "print(unique([3, 3, 3, 7, 3, 3])) \n",
    "print(unique([0, 0, 0.77, 0, 0]))"
   ]
  },
  {
   "cell_type": "markdown",
   "metadata": {},
   "source": [
    "# Your task is to create a Circle constructor that creates a circle with a radius provided by anargument. The circles constructed must have two getters getArea() (PIr^2) andgetPerimeter() (2PI*r) which give both respective areas and perimeter (circumference)."
   ]
  },
  {
   "cell_type": "code",
   "execution_count": null,
   "metadata": {},
   "outputs": [],
   "source": [
    "class Circle:\n",
    "    \"\"\"create a Circle constructor that creates a circle with a radius provided by an\n",
    "argument. The circles constructed must have two getters getArea() (PIr^2) and\n",
    "getPerimeter() (2PI*r) which give both respective areas and perimeter (circumference).\"\"\"\n",
    "    import math\n",
    "    def __init__(self,radius):\n",
    "        self.radius=radius\n",
    "    def getArea(self):\n",
    "        return (math.pi*self.radius*self.radius)\n",
    "    def getPerimeter(self):\n",
    "        return round(2*math.pi*self.radius)\n",
    "\n",
    "circy = Circle(11)\n",
    "print(circy.getArea())    "
   ]
  },
  {
   "cell_type": "markdown",
   "metadata": {},
   "source": [
    "# Create a function that takes a list of strings and return a list, sorted from shortest to longest."
   ]
  },
  {
   "cell_type": "code",
   "execution_count": null,
   "metadata": {},
   "outputs": [],
   "source": [
    "def sort_by_length(lis):\n",
    "    \"\"\"a function that takes a list of strings and return a list, sorted from shortest to longest.\"\"\"\n",
    "    try:\n",
    "        l=list(map(len,lis))\n",
    "        li=[]\n",
    "        s=l\n",
    "        for i in range(len(lis)):\n",
    "            s=sorted(s)\n",
    "            li.append(lis[l.index(s[0])])\n",
    "            print(l,li,s)\n",
    "            s.remove(s[0])\n",
    "        return li\n",
    "    except Exception as e:\n",
    "        print(e)\n",
    "        "
   ]
  },
  {
   "cell_type": "markdown",
   "metadata": {},
   "source": [
    "# Create a function that validates whether three given integers form a Pythagorean triplet. Thesum of the squares of the two smallest integers must equal the square of the largest number to be validated."
   ]
  },
  {
   "cell_type": "code",
   "execution_count": null,
   "metadata": {},
   "outputs": [],
   "source": [
    "def is_triplet(a,b,c):\n",
    "    \"\"\"function that validates whether three given integers form a Pythagorean triplet. The\n",
    "sum of the squares of the two smallest integers must equal the square of the largest number to\n",
    "be validated.\"\"\"\n",
    "    try:\n",
    "        a,b,c=a*a,b*b,c*c\n",
    "        if max(a,b,c)==sum([a,b,c])-max(a,b,c):\n",
    "            return True\n",
    "        else:\n",
    "            return False\n",
    "    except Exception as e:\n",
    "        print(e)\n",
    "    "
   ]
  }
 ],
 "metadata": {
  "kernelspec": {
   "display_name": "Python 3 (ipykernel)",
   "language": "python",
   "name": "python3"
  },
  "language_info": {
   "codemirror_mode": {
    "name": "ipython",
    "version": 3
   },
   "file_extension": ".py",
   "mimetype": "text/x-python",
   "name": "python",
   "nbconvert_exporter": "python",
   "pygments_lexer": "ipython3",
   "version": "3.7.6"
  }
 },
 "nbformat": 4,
 "nbformat_minor": 4
}
