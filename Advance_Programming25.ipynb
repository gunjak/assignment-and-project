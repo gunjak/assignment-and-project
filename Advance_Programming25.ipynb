{
 "cells": [
  {
   "cell_type": "markdown",
   "metadata": {},
   "source": [
    "# 1. Write four functions that directly mutate a list:\n",
    "repeat(lst, n): Repeat lst n times.\n",
    "add(lst, x): Adds x to the end of the lst.\n",
    "remove(lst, m, n): Removes all elements between indices m and n inclusive in lst.\n",
    "concat(lst, x): concatenates lst with x (another list).\n",
    "Examples:\n",
    "lst = [1, 2, 3, 4]\n",
    "repeat(lst, 3) ➞ [1, 2, 3, 4, 1, 2, 3, 4, 1, 2, 3, 4]\n",
    "add(lst, 1) ➞ [1, 2, 3, 4, 1, 2, 3, 4, 1, 2, 3, 4, 1]\n",
    "remove(lst, 1, 12) ➞ [1]\n",
    "concat(lst, [3, 4]) ➞ [1, 3, 4]"
   ]
  },
  {
   "cell_type": "code",
   "execution_count": 1,
   "metadata": {},
   "outputs": [
    {
     "name": "stdout",
     "output_type": "stream",
     "text": [
      "[1, 2, 3, 4, 1, 2, 3, 4, 1, 2, 3, 4]\n",
      "[1, 2, 3, 4, 1]\n",
      "[2, 3, 4, 1]\n",
      "[1, 2, 3, 4, 1, 3, 4]\n"
     ]
    }
   ],
   "source": [
    "lst=[1,2,3,4]\n",
    "def repeat(lst,n):\n",
    "    lst=lst*n\n",
    "    return lst\n",
    "def add(lst,num):\n",
    "    lst+=[num]\n",
    "    return lst\n",
    "def remove(lst,m,n):\n",
    "    lst=lst[m:n]\n",
    "    return lst\n",
    "def concat(lst,l):\n",
    "    lst+=l\n",
    "    return lst\n",
    "print(repeat(lst,3))\n",
    "print(add(lst,1))\n",
    "print(remove(lst,1,12))\n",
    "print(concat(lst,[3, 4]))"
   ]
  },
  {
   "cell_type": "markdown",
   "metadata": {},
   "source": [
    "# 2. The classic game of Mastermind is played on a tray on which the Mastermind conceals a code and the Guesser has 10 tries to\n",
    "guess it. The code is a sequence of 4 (or 6, sometimes more) pegs of different colors. Each guess is a corresponding sequence \n",
    "of 4 (or more) pegs of different colors. A guess is \"correct\" when the color of every peg in the guess exactly matches the \n",
    "corresponding peg in the Mastermind's code.\n",
    "After each guess by the Guesser, the Mastermind will give a score comprising black & white pegs, not arranged in any \n",
    "order:\n",
    "\n",
    "Black peg == guess peg matches the color of a code peg in the same position.\n",
    "White peg == guess peg matches the color of a code peg in another position.\n",
    "Create a function that takes two strings, code and guess as arguments, and returns the score in a dictionary.\n",
    "\n",
    "The code and guess are strings of numeric digits\n",
    "The color of the pegs are represented by numeric digits\n",
    "no \"peg\" may be double-scored\n",
    "Examples:\n",
    "guess_score(\"1423\", \"5678\") ➞ {\"black\": 0, \"white\": 0}\n",
    "guess_score(\"1423\", \"2222\") ➞ {\"black\": 1, \"white\": 0}\n",
    "guess_score(\"1423\", \"1234\") ➞ {\"black\": 1, \"white\": 3}\n",
    "guess_score(\"1423\", \"2211\") ➞ {\"black\": 0, \"white\": 2}"
   ]
  },
  {
   "cell_type": "code",
   "execution_count": 2,
   "metadata": {},
   "outputs": [
    {
     "name": "stdout",
     "output_type": "stream",
     "text": [
      "{'black': 0, 'white': 0}\n",
      "{'black': 1, 'white': 0}\n",
      "{'black': 1, 'white': 3}\n",
      "{'black': 0, 'white': 2}\n"
     ]
    }
   ],
   "source": [
    "def guess_score(st1,st2):\n",
    "    try:\n",
    "        d={'black':0,\"white\":0}\n",
    "        for i in range(len(st1)):\n",
    "            if st1[i]==st2[i]:\n",
    "                d['black']+=1\n",
    "        se1,se2=set(st1),set(st2)\n",
    "        d['white']=len(se1.intersection(se2))-d['black']\n",
    "        return d\n",
    "    except Exception as e:\n",
    "        print(e)\n",
    "print(guess_score('1423','5678')) \n",
    "print(guess_score('1423','2222'))\n",
    "print(guess_score('1423','1234'))\n",
    "print(guess_score('1423','2211'))"
   ]
  },
  {
   "cell_type": "markdown",
   "metadata": {},
   "source": [
    "# 3. Create a function that takes a list lst and a number N and returns a list of two integers from lst whose product equals N.\n",
    "Examples\n",
    "two_product([1, 2, -1, 4, 5], 20) ➞ [4, 5]\n",
    "two_product([1, 2, 3, 4, 5], 10) ➞ [2, 5]\n",
    "two_product([100, 12, 4, 1, 2], 15) ➞ None"
   ]
  },
  {
   "cell_type": "code",
   "execution_count": 3,
   "metadata": {},
   "outputs": [
    {
     "name": "stdout",
     "output_type": "stream",
     "text": [
      "[4, 5]\n",
      "[2, 5]\n",
      "None\n"
     ]
    }
   ],
   "source": [
    "def two_product(lis,num):\n",
    "    try:\n",
    "        import itertools,numpy\n",
    "        for i in itertools.combinations(lis,2):\n",
    "            if numpy.prod(i)==num:\n",
    "                return list(i)\n",
    "        return \"None\"    \n",
    "    except Exception as e:\n",
    "        print(e)        \n",
    "print(two_product([1, 2, -1, 4, 5], 20))\n",
    "print(two_product([1, 2, 3, 4, 5], 10))\n",
    "print(two_product([100, 12, 4, 1, 2], 15))"
   ]
  },
  {
   "cell_type": "markdown",
   "metadata": {},
   "source": [
    "# 4. In this challenge, sort a list containing a series of dates given as strings. Each date is given in the format \n",
    "DD-MM-YYYY_HH:MM: \"12-02-2012_13:44\"\n",
    "\n",
    "The priority of criteria used for sorting will be:\n",
    "Year\n",
    "Month\n",
    "Day\n",
    "Hours\n",
    "Minutes\n",
    "Given a list lst and a string mode, implement a function that returns:\n",
    "\n",
    "if mode is equal to \"ASC\", the list lst sorted in ascending order.\n",
    "if mode is equal to \"DSC\", the list lst sorted in descending order.\n",
    "Examples:\n",
    "\n",
    "sort_dates([\"10-02-2018_12:30\", \"10-02-2016_12:30\", \"10-02-2018_12:15\"], \"ASC\") ➞ [\"10-02-2016_12:30\", \"10-02-\n",
    "2018_12:15\", \"10-02-2018_12:30\"]\n",
    "\n",
    "sort_dates([\"10-02-2018_12:30\", \"10-02-2016_12:30\", \"10-02-2018_12:15\"], \"DSC\") ➞ [\"10-02-2018_12:30\", \"10-02-\n",
    "2018_12:15\", \"10-02-2016_12:30\"]\n",
    "\n",
    "sort_dates([\"09-02-2000_10:03\", \"10-02-2000_18:29\", \"01-01-1999_00:55\"], \"ASC\") ➞ [\"01-01-1999_00:55\", \"09-02-\n",
    "2000_10:03\", \"10-02-2000_18:29\"]"
   ]
  },
  {
   "cell_type": "code",
   "execution_count": 4,
   "metadata": {},
   "outputs": [
    {
     "name": "stdout",
     "output_type": "stream",
     "text": [
      "['10-02-2016_12:30', '10-02-2018_12:15', '10-02-2018_12:30']\n",
      "['10-02-2018_12:30', '10-02-2018_12:15', '10-02-2016_12:30']\n",
      "['01-01-1999_00:55', '09-02-2000_10:03', '10-02-2000_18:29']\n"
     ]
    }
   ],
   "source": [
    "def sort_dates(dates,sort):\n",
    "    try:\n",
    "        from datetime import datetime\n",
    "        date_lis,new=[],[]\n",
    "        for i in dates:\n",
    "            date_lis.append(datetime.strptime(i,\"%d-%m-%Y_%H:%M\").timestamp())\n",
    "        if sort==\"ASC\":\n",
    "            date_lis.sort()\n",
    "        else:\n",
    "            date_lis.sort(reverse=True)   \n",
    "        for i in date_lis:\n",
    "            new.append(datetime.fromtimestamp(i).strftime(\"%d-%m-%Y_%H:%M\"))\n",
    "        return new    \n",
    "    except Exception as e:\n",
    "        print(e) \n",
    "\n",
    "print(sort_dates([\"10-02-2018_12:30\", \"10-02-2016_12:30\", \"10-02-2018_12:15\"], \"ASC\")) \n",
    "print(sort_dates([\"10-02-2018_12:30\", \"10-02-2016_12:30\", \"10-02-2018_12:15\"], \"DSC\"))\n",
    "print(sort_dates([\"09-02-2000_10:03\", \"10-02-2000_18:29\", \"01-01-1999_00:55\"], \"ASC\"))"
   ]
  },
  {
   "cell_type": "markdown",
   "metadata": {},
   "source": [
    "# 5. Write a function that selects all words that have all the same vowels (in any order and/or number) as the first word, \n",
    "including the first word.\n",
    "Examples:\n",
    "same_vowel_group([\"toe\", \"ocelot\", \"maniac\"]) ➞ [\"toe\", \"ocelot\"]\n",
    "same_vowel_group([\"many\", \"carriage\", \"emit\", \"apricot\", \"animal\"]) ➞ [\"many\", \"carriage\", \"apricot\", \"animal\"]\n",
    "same_vowel_group([\"hoops\", \"chuff\", \"bot\", \"bottom\"]) ➞ [\"hoops\", \"bot\", \"bottom\"]"
   ]
  },
  {
   "cell_type": "code",
   "execution_count": 5,
   "metadata": {},
   "outputs": [
    {
     "name": "stdout",
     "output_type": "stream",
     "text": [
      "['toe', 'ocelot']\n",
      "['many']\n",
      "['hoops', 'bot', 'bottom']\n"
     ]
    }
   ],
   "source": [
    "def same_vowel_group(lis):\n",
    "    try:\n",
    "        l,group=[],[lis[0]]\n",
    "        for i in lis[0]:\n",
    "            if i in ['a','e','i','o','u']:\n",
    "                l.append(i)\n",
    "        vowel=set(l) \n",
    "        for j in lis[1:]:\n",
    "            l=[]\n",
    "            for k in j:\n",
    "                if k in ['a','e','i','o','u']:\n",
    "                    l.append(k)\n",
    "            if set(l)==vowel:\n",
    "                group.append(j)\n",
    "        return group\n",
    "    except Exception as e:\n",
    "        print(e)\n",
    "print(same_vowel_group([\"toe\", \"ocelot\", \"maniac\"]))\n",
    "print(same_vowel_group([\"many\", \"carriage\", \"emit\", \"apricot\", \"animal\"]))\n",
    "print(same_vowel_group([\"hoops\", \"chuff\", \"bot\", \"bottom\"]))\n",
    "                \n",
    "                    "
   ]
  },
  {
   "cell_type": "markdown",
   "metadata": {},
   "source": [
    "# 6. Create a function that takes a list of more than three numbers and returns the Least Common Multiple (LCM).\n",
    "Examples:\n",
    "lcm_of_list([1, 2, 3, 4, 5, 6, 7, 8, 9, 10]) ➞ 2520\n",
    "lcm_of_list([13, 6, 17, 18, 19, 20, 37]) ➞ 27965340\n",
    "lcm_of_list([44, 64, 12, 17, 65]) ➞ 2333760"
   ]
  },
  {
   "cell_type": "code",
   "execution_count": 6,
   "metadata": {},
   "outputs": [
    {
     "name": "stdout",
     "output_type": "stream",
     "text": [
      "2520\n",
      "27965340\n",
      "2333760\n"
     ]
    }
   ],
   "source": [
    "def lcm_of_list(lis):\n",
    "    try:\n",
    "        if len(lis)<4:\n",
    "            raise Exception(\"enter more than three\")\n",
    "        from math import gcd\n",
    "        lcm = 1\n",
    "        for i in lis:\n",
    "            lcm = lcm*i//gcd(lcm, i)\n",
    "        return lcm    \n",
    "    except Exception as e:\n",
    "        print(e)\n",
    "\n",
    "print(lcm_of_list([1, 2, 3, 4, 5, 6, 7, 8, 9, 10])) \n",
    "print(lcm_of_list([13, 6, 17, 18, 19, 20, 37]))\n",
    "print(lcm_of_list([44, 64, 12, 17, 65]))\n",
    "        "
   ]
  }
 ],
 "metadata": {
  "kernelspec": {
   "display_name": "Python 3 (ipykernel)",
   "language": "python",
   "name": "python3"
  },
  "language_info": {
   "codemirror_mode": {
    "name": "ipython",
    "version": 3
   },
   "file_extension": ".py",
   "mimetype": "text/x-python",
   "name": "python",
   "nbconvert_exporter": "python",
   "pygments_lexer": "ipython3",
   "version": "3.7.6"
  }
 },
 "nbformat": 4,
 "nbformat_minor": 4
}
