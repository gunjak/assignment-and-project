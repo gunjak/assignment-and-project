{
 "cells": [
  {
   "cell_type": "code",
   "execution_count": null,
   "metadata": {},
   "outputs": [],
   "source": [
    "1. What are Corpora?"
   ]
  },
  {
   "cell_type": "code",
   "execution_count": null,
   "metadata": {},
   "outputs": [],
   "source": [
    "A corpra is a large and structured set of machine-readable texts that have been produced in a natural communicative setting.They\n",
    "can be derived in different ways like text that was originally electronic, transcripts of spoken language and optical character\n",
    "recognition, etc."
   ]
  },
  {
   "cell_type": "code",
   "execution_count": null,
   "metadata": {},
   "outputs": [],
   "source": [
    "2. What are Tokens?"
   ]
  },
  {
   "cell_type": "code",
   "execution_count": null,
   "metadata": {},
   "outputs": [],
   "source": [
    "A token is an instance of a sequence of characters in some particular document that are grouped together as a useful semantic \n",
    "unit for processing. A type is the class of all tokens containing the same character sequence."
   ]
  },
  {
   "cell_type": "code",
   "execution_count": null,
   "metadata": {},
   "outputs": [],
   "source": [
    "3. What are Unigrams, Bigrams, Trigrams?"
   ]
  },
  {
   "cell_type": "code",
   "execution_count": null,
   "metadata": {},
   "outputs": [],
   "source": [
    "A unigram is a one-word sequence.\n",
    "A unigram is a two-word sequence.\n",
    "A unigram is a three-word sequence."
   ]
  },
  {
   "cell_type": "code",
   "execution_count": null,
   "metadata": {},
   "outputs": [],
   "source": [
    "4. How to generate n-grams from text?"
   ]
  },
  {
   "cell_type": "code",
   "execution_count": null,
   "metadata": {},
   "outputs": [],
   "source": [
    "Creating a function to generate N-Grams.\n",
    "def generate_ngrams(text, WordsToCombine):\n",
    "words = text. split()\n",
    "output = []\n",
    "for i in range(len(words)- WordsToCombine.\n",
    "output. append(words[i:i+WordsToCombine.\n",
    "return output."
   ]
  },
  {
   "cell_type": "code",
   "execution_count": null,
   "metadata": {},
   "outputs": [],
   "source": [
    "5. Explain Lemmatization"
   ]
  },
  {
   "cell_type": "code",
   "execution_count": null,
   "metadata": {},
   "outputs": [],
   "source": [
    "The output we will get after lemmatization is called ‘lemma’, which is a root word rather than root stem, the output of stemming\n",
    ". After lemmatization, we will be getting a valid word that means the same thing."
   ]
  },
  {
   "cell_type": "code",
   "execution_count": null,
   "metadata": {},
   "outputs": [],
   "source": [
    "6. Explain Stemming"
   ]
  },
  {
   "cell_type": "code",
   "execution_count": null,
   "metadata": {},
   "outputs": [],
   "source": [
    "Stemming is the process of reducing a word to its word stem that affixes to suffixes and prefixes or to the roots of words known\n",
    "as a lemma. Stemming is important in natural language understanding  and natural language processing"
   ]
  },
  {
   "cell_type": "code",
   "execution_count": null,
   "metadata": {},
   "outputs": [],
   "source": [
    "7. Explain Part-of-speech (POS) tagging"
   ]
  },
  {
   "cell_type": "code",
   "execution_count": null,
   "metadata": {},
   "outputs": [],
   "source": [
    "Part-of-speech tagging is a popular Natural Language Processing process which refers to categorizing words in a text  in \n",
    "correspondence with a particular part of speech, depending on the definition of the word and its context"
   ]
  },
  {
   "cell_type": "code",
   "execution_count": null,
   "metadata": {},
   "outputs": [],
   "source": [
    "8. Explain Chunking or shallow parsing"
   ]
  },
  {
   "cell_type": "code",
   "execution_count": null,
   "metadata": {},
   "outputs": [],
   "source": [
    "Shallow parsing  is an analysis of a sentence which first identifies constituent parts of sentences  and then links them to \n",
    "higher order units that have discrete grammatical meanings."
   ]
  },
  {
   "cell_type": "code",
   "execution_count": null,
   "metadata": {},
   "outputs": [],
   "source": [
    "9. Explain Noun Phrase (NP) chunking"
   ]
  },
  {
   "cell_type": "code",
   "execution_count": null,
   "metadata": {},
   "outputs": [],
   "source": [
    "Noun phrase chunking deals with extracting the noun phrases from a sentence. While NP chunking is much simpler than parsing, it \n",
    "is still a challenging task to build a accurate and very efficient NP chunker. The importance of NP chunking derives from the \n",
    "fact that it is used in many applications."
   ]
  },
  {
   "cell_type": "code",
   "execution_count": null,
   "metadata": {},
   "outputs": [],
   "source": [
    "10. Explain Named Entity Recognition"
   ]
  },
  {
   "cell_type": "code",
   "execution_count": null,
   "metadata": {},
   "outputs": [],
   "source": [
    "The named entity recognition  is one of the most data preprocessing task. It involves the identification of key information in \n",
    "the text and classification into a set of predefined categories. An entity is basically the thing that is consistently talked \n",
    "about or refer to in the text."
   ]
  }
 ],
 "metadata": {
  "kernelspec": {
   "display_name": "Python 3 (ipykernel)",
   "language": "python",
   "name": "python3"
  },
  "language_info": {
   "codemirror_mode": {
    "name": "ipython",
    "version": 3
   },
   "file_extension": ".py",
   "mimetype": "text/x-python",
   "name": "python",
   "nbconvert_exporter": "python",
   "pygments_lexer": "ipython3",
   "version": "3.7.6"
  }
 },
 "nbformat": 4,
 "nbformat_minor": 4
}
