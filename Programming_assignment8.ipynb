{
 "cells": [
  {
   "cell_type": "code",
   "execution_count": null,
   "metadata": {},
   "outputs": [],
   "source": [
    "def add(a,b):\n",
    "    try:\n",
    "        \"\"\"this function add two array\"\"\"\n",
    "        import numpy\n",
    "        array_1=numpy.array(a)\n",
    "        array_2=numpy.array(b)\n",
    "        return numpy.add(a,b)\n",
    "    except exception as e:\n",
    "        print(e)    "
   ]
  },
  {
   "cell_type": "code",
   "execution_count": null,
   "metadata": {},
   "outputs": [],
   "source": [
    "def mult(a,b):\n",
    "    try:\n",
    "        \"\"\"this function multiply two array\"\"\"\n",
    "        import numpy\n",
    "        array_1=numpy.array(a)\n",
    "        array_2=numpy.array(b)\n",
    "        return numpy.dot(a,b)\n",
    "    except exception as e:\n",
    "        print(e)  "
   ]
  },
  {
   "cell_type": "code",
   "execution_count": null,
   "metadata": {},
   "outputs": [],
   "source": [
    "def transpose(a):\n",
    "    try:\n",
    "        \"\"\"this function return transpose of matrix\"\"\"\n",
    "        import numpy\n",
    "        array_1=numpy.array(a)\n",
    "        return numpy.transpose(array_1)\n",
    "    except exception as e:\n",
    "        print(e)   "
   ]
  },
  {
   "cell_type": "code",
   "execution_count": null,
   "metadata": {},
   "outputs": [],
   "source": [
    "def sort_word(s):\n",
    "    try:\n",
    "        \"\"\"function to Sort Words in Alphabetic Order\"\"\"\n",
    "        s=s.replace(\"\",\" \")\n",
    "        s=s.split()\n",
    "        s.sort()\n",
    "        return \"\".join(s)\n",
    "    except exception as e:\n",
    "        print(e)      "
   ]
  },
  {
   "cell_type": "code",
   "execution_count": 46,
   "metadata": {},
   "outputs": [],
   "source": [
    "def rem_pun(st):\n",
    "    \"this function remove punctuation\"\n",
    "    try:\n",
    "        import re\n",
    "        return re.sub('[/,@;:(){}*\\\\\\'-_.\"]',\"\",st)\n",
    "    except exception as e:\n",
    "        print(e)      \n"
   ]
  },
  {
   "cell_type": "code",
   "execution_count": null,
   "metadata": {},
   "outputs": [],
   "source": []
  }
 ],
 "metadata": {
  "kernelspec": {
   "display_name": "Python 3 (ipykernel)",
   "language": "python",
   "name": "python3"
  },
  "language_info": {
   "codemirror_mode": {
    "name": "ipython",
    "version": 3
   },
   "file_extension": ".py",
   "mimetype": "text/x-python",
   "name": "python",
   "nbconvert_exporter": "python",
   "pygments_lexer": "ipython3",
   "version": "3.7.6"
  }
 },
 "nbformat": 4,
 "nbformat_minor": 4
}
