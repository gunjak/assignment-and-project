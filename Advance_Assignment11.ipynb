{
 "cells": [
  {
   "cell_type": "code",
   "execution_count": null,
   "metadata": {},
   "outputs": [],
   "source": [
    "Q1.What is the concept of a metaclass?\n",
    "\n",
    "A Class is an instance   Metaclass. A special class type creates the Class objects. The type class is default metaclass which \n",
    "is responsible for making classes in python."
   ]
  },
  {
   "cell_type": "code",
   "execution_count": null,
   "metadata": {},
   "outputs": [],
   "source": [
    "Q2. What is the best way to declare a class's metaclass?\n",
    "\n",
    "\n",
    "class Meta2(type):\n",
    "    \n",
    "    def __init__(cls, name, bases, dct):\n",
    "        cls.variable = 876\n",
    "\n",
    "class A(metaclass=Meta2):  # The class's metaclass declaration\n",
    "    pass\n",
    "\n",
    "A.variable"
   ]
  },
  {
   "cell_type": "code",
   "execution_count": null,
   "metadata": {},
   "outputs": [],
   "source": [
    "How do class decorators overlap with metaclasses for handling classes?\n",
    "\n",
    "\n",
    "Both decorators and metaclasses can be used to generate classes.\n",
    "\n",
    "Decorators can be used to manage both instances and classes, \n",
    "and they intersect with metaclasses in the second of these roles."
   ]
  },
  {
   "cell_type": "code",
   "execution_count": null,
   "metadata": {},
   "outputs": [],
   "source": [
    "Q4. How do class decorators overlap with metaclasses for handling instances?\n",
    "\n",
    "Decorators and Metaclasses can be used to create instances.\n",
    "Class decorators as a tool for augmenting instance creation calls. \n",
    "Because they work by automatically rebinding a class name to the result of a function"
   ]
  }
 ],
 "metadata": {
  "kernelspec": {
   "display_name": "Python 3 (ipykernel)",
   "language": "python",
   "name": "python3"
  },
  "language_info": {
   "codemirror_mode": {
    "name": "ipython",
    "version": 3
   },
   "file_extension": ".py",
   "mimetype": "text/x-python",
   "name": "python",
   "nbconvert_exporter": "python",
   "pygments_lexer": "ipython3",
   "version": "3.7.6"
  }
 },
 "nbformat": 4,
 "nbformat_minor": 4
}
