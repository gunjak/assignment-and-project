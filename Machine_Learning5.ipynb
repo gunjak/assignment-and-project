{
 "cells": [
  {
   "cell_type": "markdown",
   "metadata": {},
   "source": [
    "# 1. What are the key tasks that machine learning entails? What does data pre-processing imply?"
   ]
  },
  {
   "cell_type": "code",
   "execution_count": null,
   "metadata": {},
   "outputs": [],
   "source": [
    "A machine learning task is the type of prediction or inference being made, based on the problem or question that is being asked,\n",
    "and the available data.Data preprocessing means preparing the raw data and making it suitable for a machine learning model."
   ]
  },
  {
   "cell_type": "markdown",
   "metadata": {},
   "source": [
    "# 2. Describe quantitative and qualitative data in depth. Make a distinction between the two."
   ]
  },
  {
   "cell_type": "code",
   "execution_count": null,
   "metadata": {},
   "outputs": [],
   "source": [
    "Quantitative data refers to any information that can be quantified, counted or measured, and given a numerical value.Qualitative\n",
    "data is descriptive in nature, expressed in terms of language rather than numerical values.\n",
    "Quantitative data is numbers-based, countable, or measurable. Qualitative data is interpretation-based, descriptive,and relating\n",
    "to language.\n",
    "Quantitative data tells us how many, how much, or how often in calculations. Qualitative data can help us to understand why,how,\n",
    "or what happened behind certain behaviors.\n",
    "Quantitative data is fixed and universal. Qualitative data is subjective and unique.\n",
    "Quantitative research methods are measuring and counting. Qualitative research methods are interviewing and observing.\n",
    "Quantitative data is analyzed using statistical analysis. Qualitative data is analyzed by grouping the data into categories and\n",
    "themes."
   ]
  },
  {
   "cell_type": "markdown",
   "metadata": {},
   "source": [
    "# Create a basic data collection that includes some sample records. Have at least one attribute from each of the machine learning data types."
   ]
  },
  {
   "cell_type": "code",
   "execution_count": null,
   "metadata": {},
   "outputs": [],
   "source": [
    "a={'int':3,4,5,6,7,\"float\":23.4,56.7,67.8,5.4,5.6,'object':'yes','no','yes','yes','no'}"
   ]
  },
  {
   "cell_type": "markdown",
   "metadata": {},
   "source": [
    "# What are the various causes of machine learning data issues? What are the ramifications?"
   ]
  },
  {
   "cell_type": "code",
   "execution_count": null,
   "metadata": {},
   "outputs": [],
   "source": [
    "Poor Quality of Data\n",
    "Underfitting of Training Data\n",
    "Overfitting of Training Data\n",
    "Lack of Training Data\n",
    "Slow Implementation\n",
    "Imperfections in the Algorithm When Data Grows\n"
   ]
  },
  {
   "cell_type": "markdown",
   "metadata": {},
   "source": [
    "# Demonstrate various approaches to categorical data exploration with appropriate examples."
   ]
  },
  {
   "cell_type": "code",
   "execution_count": null,
   "metadata": {},
   "outputs": [],
   "source": [
    "Unique value count\n",
    "One of the first things which can be useful during data exploration is to see how many unique values are there in categorical\n",
    "columns.\n",
    "Frequency Count\n",
    "Frequency count is finding how frequent individual values occur in column.\n",
    "Variance\n",
    "When it comes to analysing numeric values, some basic information such as minimum, maximum and variance are very useful.\n",
    "Variance gives a good indication how the values are spread."
   ]
  },
  {
   "cell_type": "markdown",
   "metadata": {},
   "source": [
    "# How would the learning activity be affected if certain variables have missing values? Having said that, what can be done about it?"
   ]
  },
  {
   "cell_type": "code",
   "execution_count": null,
   "metadata": {},
   "outputs": [],
   "source": [
    "Missing data can reduce the statistical power of a study and can produce biased estimates, leading to invalid conclusions.\n",
    "Reduce the missing data. "
   ]
  },
  {
   "cell_type": "markdown",
   "metadata": {},
   "source": [
    "# Describe the various methods for dealing with missing data values in depth. "
   ]
  },
  {
   "cell_type": "code",
   "execution_count": null,
   "metadata": {},
   "outputs": [],
   "source": [
    "Deleting Rows with missing values:\n",
    "    Missing values can be handled by deleting the rows or columns having null values.\n",
    "    \n",
    "Impute missing values for continuous variable:\n",
    "    Columns in the dataset which are having numeric continuous values can be replaced with the mean, median, or mode of \n",
    "    remaining values in the column.\n",
    "Impute missing values for categorical variable:\n",
    "    When missing values is from categorical columns (string or numerical) then the missing values can be replaced with the most\n",
    "    frequent category.\n",
    "Other Imputation Methods:\n",
    "    \n",
    "Using Algorithms that support missing values:\n",
    "    All the machine learning algorithms don’t support missing values but some ML algorithms are robust to missing values in the\n",
    "    dataset. The k-NN algorithm can ignore a column from a distance measure when a value is missing. \n",
    "Prediction of missing values:\n",
    "    In the earlier methods to handle missing values, we do not use the correlation advantage of the variable containing the \n",
    "    missing value and other variables. Using the other features which don’t have nulls can be used to predict missing values."
   ]
  },
  {
   "cell_type": "markdown",
   "metadata": {},
   "source": [
    "# What is the IQR? What criteria are used to assess it?\n",
    "\n",
    "ii. Describe the various components of a box plot in detail? When will the lower whisker\n",
    "surpass the upper whisker in length? How can box plots be used to identify outliers?"
   ]
  },
  {
   "cell_type": "code",
   "execution_count": null,
   "metadata": {},
   "outputs": [],
   "source": [
    "An interquartile range is a measure of where the bulk of the values lie. It is defined as the spread difference between the 75th\n",
    "and 25th percentiles of the data.\n",
    "the  components of box plot are minimum, first quartile, median, third quartile, and maximum\n",
    "Data points that are located outside the whiskers of the box plot are outliers."
   ]
  },
  {
   "cell_type": "markdown",
   "metadata": {},
   "source": [
    "# 10. Make brief notes on any two of the following:\n",
    "\n",
    "1. Data collected at regular intervals\n",
    "\n",
    "2. The gap between the quartiles\n",
    "\n",
    "3. Use a cross-tab\n",
    "\n",
    "1. Make a comparison between:\n",
    "\n",
    "1. Data with nominal and ordinal values\n",
    "\n",
    "2. Histogram and box plot\n",
    "\n",
    "3. The average and median"
   ]
  },
  {
   "cell_type": "code",
   "execution_count": null,
   "metadata": {},
   "outputs": [],
   "source": [
    "The gap between the quartiles  is the difference between the upper quartile and the lower quartile. \n",
    "\n",
    "Nominal data simply names something without assigning it to an order in relation to other numbered objects or pieces of data.\n",
    "Ordinal data, unlike nominal data, involves some order; ordinal numbers stand in relation to each other in a ranked fashion.\n",
    "\n",
    "Difference between average and median:\n",
    "The average is calculated by adding up all of the individual values and dividing this total by the number of observations. The \n",
    "median is calculated by taking the “middle” value, the value for which half of the observations are larger and half are smaller.\n",
    "\n",
    "Difference between histogram and box plt:\n",
    "Histograms are better in determining the underlying distribution of the data, box plots allow us to compare multiple data sets \n",
    "better than histograms as they are less detailed    \n"
   ]
  }
 ],
 "metadata": {
  "kernelspec": {
   "display_name": "Python 3 (ipykernel)",
   "language": "python",
   "name": "python3"
  },
  "language_info": {
   "codemirror_mode": {
    "name": "ipython",
    "version": 3
   },
   "file_extension": ".py",
   "mimetype": "text/x-python",
   "name": "python",
   "nbconvert_exporter": "python",
   "pygments_lexer": "ipython3",
   "version": "3.7.6"
  }
 },
 "nbformat": 4,
 "nbformat_minor": 4
}
