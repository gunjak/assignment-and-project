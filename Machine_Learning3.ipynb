{
 "cells": [
  {
   "cell_type": "markdown",
   "metadata": {},
   "source": [
    "# 1.Explain the term machine learning, and how does it work? Explain two machine learning\n",
    "applications in the business world. What are some of the ethical concerns that machine learning\n",
    "applications could raise?"
   ]
  },
  {
   "cell_type": "code",
   "execution_count": null,
   "metadata": {},
   "outputs": [],
   "source": [
    "Machine Learning is a subset of Artificial Intelligence and it allows machines to learn from their experiences without any \n",
    "coding.It teaches computers to think in a similar way to how humans do: Learning and improving upon past experiences. It works by\n",
    "exploring data and identifying patterns, and involves minimal  human intervention. \n",
    "\n",
    "The two machine learning applications:\n",
    "Amazon Machine Learning offers a service  in creating an ML model without needing to delve into the complex world of the \n",
    "algorithms themselves.\n",
    "Google offers a top-class MLaaS platform as well. Across all their Cloud AI services, they offer a Machine Learning Engine, \n",
    "as well as services for natural language processing and APIs for video, and image recognition, speech, etc. \n",
    "\n",
    "The ethical concerns that machine learning applications could raise:\n",
    "Cost to innovation.\n",
    "Harm to physical integrity.\n",
    "Lack of access to public services.\n",
    "Lack of trust.\n",
    "“Awakening” of AI.\n",
    "Security problems.\n",
    "Lack of quality data.\n",
    "Disappearance of jobs."
   ]
  },
  {
   "cell_type": "markdown",
   "metadata": {},
   "source": [
    "# 2. Describe the process of human learning:\n",
    "i. Under the supervision of experts\n",
    "\n",
    "ii. With the assistance of experts in an indirect manner\n",
    "\n",
    "iii. Self-education"
   ]
  },
  {
   "cell_type": "markdown",
   "metadata": {},
   "source": [
    "# 3.Provide a few examples of various types of machine learning."
   ]
  },
  {
   "cell_type": "code",
   "execution_count": null,
   "metadata": {},
   "outputs": [],
   "source": [
    "There are three types of machine learning: supervised learning, unsupervised learning, and reinforcement learning"
   ]
  },
  {
   "cell_type": "markdown",
   "metadata": {},
   "source": [
    "# Examine the various forms of machine learning."
   ]
  },
  {
   "cell_type": "code",
   "execution_count": null,
   "metadata": {},
   "outputs": [],
   "source": [
    "Supervised learning is one of the most basic types of machine learning.\n",
    "It  finds relationships between the parameters given, essentially establishing a cause and effect relationship \n",
    "between the variables in the dataset. At the end of the training, the algorithm has an idea of how the data works and the\n",
    "relationship between the input and the output.his solution is then deployed for use with the final dataset, which it learns \n",
    "from in the same way as the training dataset. This means that supervised machine learning algorithms will continue to improve\n",
    "even after being deployed, discovering new patterns and relationships as it trains itself on new data.\n",
    "\n",
    "Unsupervised machine learning holds the advantage of being able to work with unlabeled data. The human labor is not \n",
    "required to make the dataset machine-readable, allowing much larger datasets to be worked on by the program.\n",
    "\n",
    "Reinforcement learning directly takes inspiration from how human beings learn from data in their lives. It features an algorithm\n",
    "that improves upon itself and learns from new situations using a trial-and-error method. Favorable outputs are encouraged or \n",
    "‘reinforced’, and non-favorable outputs are discouraged or ‘punished’."
   ]
  },
  {
   "cell_type": "markdown",
   "metadata": {},
   "source": [
    "# 5. Can you explain what a well-posed learning problem is? Explain the main characteristics that must\n",
    "be present to identify a learning problem properly. "
   ]
  },
  {
   "cell_type": "code",
   "execution_count": null,
   "metadata": {},
   "outputs": [],
   "source": [
    "A computer program is said to learn from experience E in context to some task T and some performance measure P, if its \n",
    "performance on T, as was measured by P, upgrades with experience E. \n",
    "\n",
    "Any problem can be segregated as well-posed learning problem if it has three traits – \n",
    "\n",
    "Task\n",
    "Performance Measure \n",
    "Experience "
   ]
  },
  {
   "cell_type": "markdown",
   "metadata": {},
   "source": [
    "# Is machine learning capable of solving all problems? Give a detailed explanation of your answer."
   ]
  },
  {
   "cell_type": "code",
   "execution_count": null,
   "metadata": {},
   "outputs": [],
   "source": [
    "No  machine learning is not capable of solving all problems\n",
    "Machine Learning cannot think as to why a particular method is happening that way or ‘introspect’ their own outcomes.\n",
    "\n",
    "ML implementations being deployed on a significant basis, it all depends on data as well as its scalability. Data is growing at\n",
    "an enormous rate and has many forms which largely affects the scalability of an ML project. Algorithms cannot do much about \n",
    "this unless they are updated constantly for new changes to handle data. This is where ML regularly requires human intervention \n",
    "in terms of scalability and remains unsolved mostly.\n",
    "\n",
    "This sub-field of ML is actually responsible for today’s AI growth. What was once just a theory has appeared to be the most \n",
    "powerful aspect of ML. Deep Learning (DL) now powers applications such as voice recognition, image recognition and so on through\n",
    "artificial neural networks."
   ]
  },
  {
   "cell_type": "markdown",
   "metadata": {},
   "source": [
    "# What are the various methods and technologies for solving machine learning problems? Any two\n",
    "of them should be defined in detail."
   ]
  },
  {
   "cell_type": "code",
   "execution_count": null,
   "metadata": {},
   "outputs": [],
   "source": [
    "REGRESSION\n",
    "   Regression methods are used for training supervised ML.The goal of regression techniques is typically to explain or predict a\n",
    "    specific numerical value while using a previous data set. For example, regression methods can take historical pricing data, \n",
    "    and then predict the price of a similar property to retail demand forecasting.\n",
    "CLASSIFICATION\n",
    "   Classification algorithms can explain or predict a class value.Classification is an essential component for many AI \n",
    "    applications, but it is especially useful for eCommerce applications. For example, classification algorithms can help \n",
    "    predict if a customer will purchase a product, or not. The two classes in this case are “yes” and “no”. Classification \n",
    "    algorithms are not limited to two classes and can be used to classify items into a large number of categories.\n"
   ]
  },
  {
   "cell_type": "markdown",
   "metadata": {},
   "source": [
    "# Can you explain the various forms of supervised learning? Explain each one with an example\n",
    "application."
   ]
  },
  {
   "cell_type": "code",
   "execution_count": null,
   "metadata": {},
   "outputs": [],
   "source": [
    "1. Regression\n",
    "In regression, a single output value is produced using training data. This value is a probabilistic interpretation, which is\n",
    "ascertained after considering the strength of correlation among the input variables. For example, regression can help predict\n",
    "the price of a house based on its locality, size, etc.\n",
    "2.Classification\n",
    "It involves grouping the data into classes.  If you are thinking of extending credit to a person, you can use classification to\n",
    "determine whether or not a person would be a loan defaulter. When the supervised learning algorithm labels input data into two \n",
    "distinct classes, it is called binary classification. Multiple classifications means categorizing data into more than two \n",
    "classes.\n",
    "3. Naive Bayesian Model\n",
    "The Bayesian model of classification is used for large finite datasets. It is a method of assigning class labels using a direct\n",
    "acyclic graph. The graph comprises one parent node and multiple children nodes. And each child node is assumed to be \n",
    "independent and separate from the parent. \n",
    "4. Random Forest Model\n",
    "The random forest model is an ensemble method. It operates by constructing a multitude of decision trees and outputs a \n",
    "classification of the individual trees."
   ]
  },
  {
   "cell_type": "markdown",
   "metadata": {},
   "source": [
    "# What is the difference between supervised and unsupervised learning? With a sample application\n",
    "in each region, explain the differences."
   ]
  },
  {
   "cell_type": "code",
   "execution_count": null,
   "metadata": {},
   "outputs": [],
   "source": [
    "In supervised learning, the algorithm “learns” from the training dataset by iteratively making predictions on the data and \n",
    "adjusting for the correct answer. While supervised learning models tend to be more accurate than unsupervised learning models, \n",
    "they require upfront human intervention to label the data appropriately. i.e-supervised learning model can predict how long your\n",
    "commute will be based on the time of day, weather conditions and so on. But first, you’ll have to train it to know that rainy \n",
    "weather extends the driving time.\n",
    "\n",
    "Unsupervised learning models, in contrast, work on their own to discover the inherent structure of unlabeled data. Note that \n",
    "they still require some human intervention for validating output variables. For example, an unsupervised learning model can \n",
    "identify that online shoppers often purchase groups of products at the same time. However, a data analyst would need to validate\n",
    "that it makes sense for a recommendation engine to group baby clothes with an order of diapers, applesauce and sippy cups."
   ]
  },
  {
   "cell_type": "markdown",
   "metadata": {},
   "source": [
    "# 10. Describe the machine learning process in depth.\n",
    "\n",
    "a. Make brief notes on any two of the following:\n",
    "\n",
    "MATLAB is one of the most widely used programming languages.\n",
    "\n",
    "ii. Deep learning applications in healthcare\n",
    "\n",
    "iii. Study of the market basket\n",
    "\n",
    "iv. Linear regression (simple)"
   ]
  },
  {
   "cell_type": "code",
   "execution_count": null,
   "metadata": {},
   "outputs": [],
   "source": [
    "Machine Learning (ML) is a highly iterative process and ML models are learned from past experiences and also to analyze the \n",
    "historical data. On top, ML models are able to identify the patterns in order to make predictions about the future of the given \n",
    " dataset.\n",
    "(ii)Deep Learning in Healthcare:\n",
    "Deep learning is assisting medical professionals and researchers to discover the hidden opportunities in data and to serve the\n",
    "healthcare industry better. Deep learning in healthcare provides doctors the analysis of any disease accurately and helps them\n",
    "treat them better, thus resulting in better medical decisions.\n",
    "Drug discovery\n",
    "Deep learning in healthcare helps in discovery of medicines and their development. The technology analyzes the patient's \n",
    "medical history and provides the best treatment for them. Moreover, this technology is gaining insights from patient symptoms \n",
    "and tests.\n",
    "\n",
    "iii. Study of the market basket:\n",
    "Market basket analysis is a data mining technique used by retailers to increase sales by better understanding customer\n",
    "purchasing patterns. It involves analyzing large data sets, such as purchase history, to reveal product groupings, as well as \n",
    "products that are likely to be purchased together.    "
   ]
  }
 ],
 "metadata": {
  "kernelspec": {
   "display_name": "Python 3 (ipykernel)",
   "language": "python",
   "name": "python3"
  },
  "language_info": {
   "codemirror_mode": {
    "name": "ipython",
    "version": 3
   },
   "file_extension": ".py",
   "mimetype": "text/x-python",
   "name": "python",
   "nbconvert_exporter": "python",
   "pygments_lexer": "ipython3",
   "version": "3.7.6"
  }
 },
 "nbformat": 4,
 "nbformat_minor": 4
}
