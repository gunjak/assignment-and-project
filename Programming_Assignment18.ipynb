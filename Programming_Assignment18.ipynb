{
 "cells": [
  {
   "cell_type": "code",
   "execution_count": null,
   "metadata": {},
   "outputs": [],
   "source": [
    "def fun(ls):\n",
    "    \"\"\"this function takes a list and return list of positive integer\"\"\"\n",
    "    try:\n",
    "        s=[]\n",
    "        for i in ls: \n",
    "            if  type(i)==int:\n",
    "                if i<0:\n",
    "                    raise Exception(\"Negative integer is not acceptable\")\n",
    "            if type(i)==int:\n",
    "                s.append(i)\n",
    "        return s        \n",
    "    except Exception as e:\n",
    "        print(e)\n",
    "        "
   ]
  },
  {
   "cell_type": "code",
   "execution_count": null,
   "metadata": {},
   "outputs": [],
   "source": [
    "def reverse(st):\n",
    "    \"\"\"The \"reverse\" takes a string as input and returns that string in reverse order, with the\n",
    "       opposite case.\"\"\"\n",
    "    try:\n",
    "        if type(st)==str:\n",
    "            return st[::-1].swapcase()\n",
    "    except:\n",
    "        print(\"error\")"
   ]
  },
  {
   "cell_type": "code",
   "execution_count": null,
   "metadata": {},
   "outputs": [],
   "source": [
    "lst=['w','r','i','t','e','y','o','u','r','c','o','d','e','h','e','r','e']\n",
    "first,middle,last = lst[0], lst[1:-1], lst[-1]\n",
    "print(first,middle,last)"
   ]
  },
  {
   "cell_type": "code",
   "execution_count": null,
   "metadata": {},
   "outputs": [],
   "source": [
    "def factorial(num):\n",
    "    \"\"\"this function return factorial of given num\"\"\"\n",
    "    try:\n",
    "        if num==0:\n",
    "            return 0\n",
    "        else:\n",
    "            return num*factorial(num-1)\n",
    "    except:\n",
    "        print(\"error\")"
   ]
  },
  {
   "cell_type": "code",
   "execution_count": null,
   "metadata": {},
   "outputs": [],
   "source": [
    "def move_to_end(ls,val):\n",
    "    \"\"\"this function moves all elements of one type to the end of the list.\"\"\"\n",
    "    try:\n",
    "        if type(ls)!=list:\n",
    "            raise Exception(\"first argument is not list\")\n",
    "        c=ls.count(val)    \n",
    "        for i in range(c):\n",
    "            ls.remove(val)\n",
    "        for i in range(c):\n",
    "            ls.append(val)    \n",
    "        return ls\n",
    "    except Exception as e:\n",
    "        print(e)\n",
    "        \n",
    "                "
   ]
  }
 ],
 "metadata": {
  "kernelspec": {
   "display_name": "Python 3",
   "language": "python",
   "name": "python3"
  },
  "language_info": {
   "codemirror_mode": {
    "name": "ipython",
    "version": 3
   },
   "file_extension": ".py",
   "mimetype": "text/x-python",
   "name": "python",
   "nbconvert_exporter": "python",
   "pygments_lexer": "ipython3",
   "version": "3.7.6"
  }
 },
 "nbformat": 4,
 "nbformat_minor": 4
}
