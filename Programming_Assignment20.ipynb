{
 "cells": [
  {
   "cell_type": "code",
   "execution_count": null,
   "metadata": {},
   "outputs": [],
   "source": [
    "def filter_list(l):\n",
    "    try:\n",
    "        \"\"\"a function that takes a list of strings and integers, and filters out the list so that it\n",
    "        returns a list of integers only.\"\"\"\n",
    "        if type(l)==list:\n",
    "            j=[]\n",
    "            for i in l:\n",
    "                if type(i)==int or type(i)==str:\n",
    "                    if type(i)==int:\n",
    "                        j.append(i)\n",
    "                else:\n",
    "                    raise Exception(\"list should have int or string only\")\n",
    "            return j         \n",
    "        else:\n",
    "            raise Exception(\"Argument should be list\")   \n",
    "                            \n",
    "    except Exception as e:\n",
    "        print(e)\n",
    "                "
   ]
  },
  {
   "cell_type": "code",
   "execution_count": null,
   "metadata": {},
   "outputs": [],
   "source": [
    "def add_indexes(l):\n",
    "    try:\n",
    "        \"\"\"this function  returns the list but with each element's\n",
    "        index in the list added to itself.\"\"\"\n",
    "        if type(l)==list:\n",
    "            k=[]\n",
    "            for i,j in enumerate(l):\n",
    "                k.append(i+j)\n",
    "            return k\n",
    "        else :\n",
    "            raise Exception(\"invalid argument\")\n",
    "    except Exception as e:\n",
    "        print(e)    "
   ]
  },
  {
   "cell_type": "code",
   "execution_count": null,
   "metadata": {},
   "outputs": [],
   "source": [
    "def cone_volume(h,r):\n",
    "    try:\n",
    "        \"\"\"this function  takes the height and radius of a cone as arguments and returns the\n",
    "        volume of the cone rounded to the nearest hundredth.\"\"\"\n",
    "        if (type(h)==int or type(h)==float) and (type(r)==int or type(r)==float):\n",
    "            import math\n",
    "            return round(math.pi*r*r*h*1/3,2)\n",
    "        else:\n",
    "            raise Exception(\"invalid argument\")\n",
    "    except Exception as e:\n",
    "        print(e)  "
   ]
  },
  {
   "cell_type": "code",
   "execution_count": null,
   "metadata": {},
   "outputs": [],
   "source": [
    "def triangle(num):\n",
    "    try:\n",
    "        \"\"\"this function gives the number of dots with its corresponding triangle number of the\n",
    "         sequence.\"\"\"\n",
    "        if type(num)==int:\n",
    "            t=0\n",
    "            for i in range(1,num+1):\n",
    "                t=t+i\n",
    "        return t\n",
    "    except Exception as e:\n",
    "        print(e)   \n",
    "                \n",
    "            "
   ]
  },
  {
   "cell_type": "code",
   "execution_count": null,
   "metadata": {},
   "outputs": [],
   "source": [
    "def missing_num(l):\n",
    "    try:\n",
    "        \"\"\"this function takes a list of numbers between 1 and 10 (excluding one number) and\n",
    "       returns the missing number.\"\"\"\n",
    "        s=set([1,2,3,4,5,6,7,8,9,10])\n",
    "        if type(l)==list and len(l)==9 and s.issuperset(set(l)):\n",
    "            for i in s.difference(l):\n",
    "                return i\n",
    "        else:    \n",
    "            raise Exception(\"invalid argument\")    \n",
    "    except Exception as e:\n",
    "        print(e)     \n",
    "            "
   ]
  }
 ],
 "metadata": {
  "kernelspec": {
   "display_name": "Python 3",
   "language": "python",
   "name": "python3"
  },
  "language_info": {
   "codemirror_mode": {
    "name": "ipython",
    "version": 3
   },
   "file_extension": ".py",
   "mimetype": "text/x-python",
   "name": "python",
   "nbconvert_exporter": "python",
   "pygments_lexer": "ipython3",
   "version": "3.7.6"
  }
 },
 "nbformat": 4,
 "nbformat_minor": 4
}
