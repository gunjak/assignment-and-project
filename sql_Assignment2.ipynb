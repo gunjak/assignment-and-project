{
 "cells": [
  {
   "cell_type": "code",
   "execution_count": null,
   "metadata": {},
   "outputs": [],
   "source": [
    "\"\"\"an SQL query to print the first three characters of  FIRST_NAME from Worker\n",
    "table.\"\"\"\n",
    "SELECT SUBSTRING(FIRST_NAME,1,3)\n",
    "FROM Worker"
   ]
  },
  {
   "cell_type": "code",
   "execution_count": null,
   "metadata": {},
   "outputs": [],
   "source": [
    "\"\"\" an SQL query to find the position of the alphabet (‘a’) in the first name\n",
    "column ‘Amitabh’ from Worker table.\"\"\"\n",
    "SELECT CHARINDEX('a','Amitabh') FROM Worker"
   ]
  },
  {
   "cell_type": "code",
   "execution_count": null,
   "metadata": {},
   "outputs": [],
   "source": [
    "\"\"\"an SQL query to print the name of employees having the highest salary in each\n",
    "department.\"\"\"\n",
    "SELECT NAME \n",
    "FROM WORKER\n",
    "GROUPBY DEPARTMENT\n",
    "HAVING MAX(SALARY)"
   ]
  }
 ],
 "metadata": {
  "kernelspec": {
   "display_name": "Python 3",
   "language": "python",
   "name": "python3"
  },
  "language_info": {
   "codemirror_mode": {
    "name": "ipython",
    "version": 3
   },
   "file_extension": ".py",
   "mimetype": "text/x-python",
   "name": "python",
   "nbconvert_exporter": "python",
   "pygments_lexer": "ipython3",
   "version": "3.7.6"
  }
 },
 "nbformat": 4,
 "nbformat_minor": 4
}
