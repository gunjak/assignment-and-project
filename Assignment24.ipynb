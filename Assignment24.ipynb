{
 "cells": [
  {
   "cell_type": "code",
   "execution_count": null,
   "metadata": {},
   "outputs": [],
   "source": [
    "\"\"\"What is the relationship between def statements and lambda expressions\"\"\"\n",
    "If we have short block of code or one line expression we can use both  Def statements or lambda expression. "
   ]
  },
  {
   "cell_type": "code",
   "execution_count": null,
   "metadata": {},
   "outputs": [],
   "source": [
    "\"\"\"What is the benefit of lambda?\"\"\"\n",
    "Lambda functions reduce the number of lines of code when compared to normal function defined using def keyword.\n",
    "Lambda functions  are defined in one line of code."
   ]
  },
  {
   "cell_type": "code",
   "execution_count": null,
   "metadata": {},
   "outputs": [],
   "source": [
    "\"\"\"Compare and contrast map, filter, and reduce.\"\"\"\n",
    "Map() takes all objects in a list and allows us to apply a function to it .\n",
    "Filter() takes all objects in a list and runs that through a function to create a new list with all objects that return True \n",
    "in that function.\n",
    "reduce() works differently than map() and filter(). It does not return a new list based on the function and iterable \n",
    "we've passed. Instead, it returns a single value."
   ]
  },
  {
   "cell_type": "code",
   "execution_count": null,
   "metadata": {},
   "outputs": [],
   "source": [
    "\"\"\"What are function annotations, and how are they used?\"\"\"\n",
    "Function annotations are  a way of associating arbitrary  expressions with various parts of a function at compile-time.\n",
    " By itself, Python does not attach any particular meaning or significance to annotations. These annotation \n",
    "consumers can do anything they want with a function's annotations.\n",
    "annotations can be fully implemented as decorators. we can just define an @annotate decorator and have it take an argument \n",
    "name and a Python expression as arguments and then store them in the target function's annotations attribute."
   ]
  },
  {
   "cell_type": "code",
   "execution_count": null,
   "metadata": {},
   "outputs": [],
   "source": [
    "\"\"\"\"What are recursive functions, and how are they used?\"\"\"\"\n",
    "When a function call itself is called recursive function.recursive  function will continue to call itself and repeat its  \n",
    "behavior until some condition is met to return a result."
   ]
  },
  {
   "cell_type": "code",
   "execution_count": null,
   "metadata": {},
   "outputs": [],
   "source": [
    "\"\"\"What are some general design guidelines for coding functions?\"\"\"\n",
    "# Use 4-space indentation and no tabs\n",
    "# Use docstrings.\n",
    "# Wrap lines so that they don’t exceed 79 characters.\n",
    "# Use of regular and updated comments are valuable to both the coders and users.\n",
    "# While naming of function of methods always use self for the first argument to instance methods and cls for the first argument \n",
    "to class methods.\n",
    "# Naming conventions for local variables, global variables, constants and functions.\n",
    "# Error return values and exception handling conventions.\n",
    "# Avoid using a coding style that is too difficult to understand.\n",
    "# Reusability of coding"
   ]
  },
  {
   "cell_type": "code",
   "execution_count": null,
   "metadata": {},
   "outputs": [],
   "source": [
    "\"\"\"Name three or more ways that functions can communicate results to a caller.\"\"\"\n",
    "Anonymous function\n",
    "user-define function\n",
    "    Default arguments\n",
    "    Required arguments\n",
    "    Keyword arguments\n",
    "    Variable number of arguments\n",
    "Built-in function"
   ]
  }
 ],
 "metadata": {
  "kernelspec": {
   "display_name": "Python 3",
   "language": "python",
   "name": "python3"
  },
  "language_info": {
   "codemirror_mode": {
    "name": "ipython",
    "version": 3
   },
   "file_extension": ".py",
   "mimetype": "text/x-python",
   "name": "python",
   "nbconvert_exporter": "python",
   "pygments_lexer": "ipython3",
   "version": "3.7.6"
  }
 },
 "nbformat": 4,
 "nbformat_minor": 4
}
