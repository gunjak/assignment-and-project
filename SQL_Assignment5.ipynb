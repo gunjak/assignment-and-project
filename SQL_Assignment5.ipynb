{
 "cells": [
  {
   "cell_type": "code",
   "execution_count": null,
   "metadata": {},
   "outputs": [],
   "source": [
    "\"\"\"an SQL query to print details of workers excluding first names, “Vipul” and\n",
    "“Satish” from Worker table.\"\"\"\n",
    "SELECT * FROM Worker WHERE  FIRST_NAME NOT IN ('Vipul','Satish')"
   ]
  },
  {
   "cell_type": "code",
   "execution_count": null,
   "metadata": {},
   "outputs": [],
   "source": [
    "\"\"\"an SQL query to print details of the Workers whose FIRST_NAME ends with\n",
    "‘h’ and contains six alphabets.\"\"\"\n",
    "SELECT * FROM WORKER WHERE LEN(FIRST_NAME)=6 AND FIRST_NAME LIKE '%h'"
   ]
  },
  {
   "cell_type": "code",
   "execution_count": null,
   "metadata": {},
   "outputs": [],
   "source": [
    "\"\"\"a query to validate Email of Employee\"\"\"\n",
    "SELECT Email AS ValidEmail\n",
    "FROM Employee\n",
    "WHERE Email LIKE '%_@__%.__%'\n",
    "AND PATINDEX('%[^a-z,0-9,@,.,_,\\-]%', Email) = 0"
   ]
  }
 ],
 "metadata": {
  "kernelspec": {
   "display_name": "Python 3",
   "language": "python",
   "name": "python3"
  },
  "language_info": {
   "codemirror_mode": {
    "name": "ipython",
    "version": 3
   },
   "file_extension": ".py",
   "mimetype": "text/x-python",
   "name": "python",
   "nbconvert_exporter": "python",
   "pygments_lexer": "ipython3",
   "version": "3.7.6"
  }
 },
 "nbformat": 4,
 "nbformat_minor": 4
}
