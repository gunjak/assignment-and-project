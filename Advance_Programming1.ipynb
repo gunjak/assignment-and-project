{
 "cells": [
  {
   "cell_type": "code",
   "execution_count": null,
   "metadata": {},
   "outputs": [],
   "source": [
    "def check_score(lis):\n",
    "    \"\"\"a function that takes a list of lists and returns the value of all of the\n",
    "symbols in it, where each symbol adds or takes something from the total\n",
    "score. Symbol values:\n",
    "# = 5\n",
    "O = 3\n",
    "X = 1\n",
    "! = -1\n",
    "!! = -3\n",
    "!!! = -5\"\"\"\n",
    "    try:\n",
    "        d={\"#\":5,\n",
    "          \"O\":3,\n",
    "          \"X\":1,\n",
    "          \"!\":-1,\n",
    "          \"!!\":-3,\n",
    "          \"!!!\":-5}\n",
    "        add=0\n",
    "        for l in lis:\n",
    "            for j in l:\n",
    "                add=add+d[j]\n",
    "        return add\n",
    "    except Exception as e:\n",
    "        print(e)"
   ]
  },
  {
   "cell_type": "code",
   "execution_count": null,
   "metadata": {},
   "outputs": [],
   "source": [
    "def combinations(*n):\n",
    "    \"\"\"Create a function that takes a variable number of arguments, each\n",
    "    argument representing the number of items in a group, and returns the\n",
    "    number of permutations (combinations) of items that you could get by taking\n",
    "    one item from each group.\"\"\"\"\n",
    "    from operator import mul\n",
    "    return mul(*n)\n",
    "\n",
    "   "
   ]
  },
  {
   "cell_type": "code",
   "execution_count": null,
   "metadata": {},
   "outputs": [],
   "source": [
    "def prime(num):\n",
    "    \"\"\"check prime number even for a very very large number within short time\"\"\"\n",
    "    try:\n",
    "        import math\n",
    "        for i in range(2,int(math.sqrt(num))+1):\n",
    "            if num%i==0:\n",
    "                return False\n",
    "        return True\n",
    "    except Exception as e:\n",
    "        print(e)\n",
    "    \n",
    "    \n"
   ]
  },
  {
   "cell_type": "code",
   "execution_count": null,
   "metadata": {},
   "outputs": [],
   "source": [
    "def to_boolean_list(st):\n",
    "    \"\"\"a function that converts a word to a bitstring and then to a boolean list based on the following criteria:\n",
    "\n",
    "    1. Locate the position of the letter in the English alphabet (from 1 to 26).\n",
    "    2. Odd positions will be represented as 1 and 0 otherwise.\n",
    "    3. Convert the represented positions to boolean values, 1 for True and 0 for False.\n",
    "    4. Store the conversions into an array.\n",
    "\"\"\"\n",
    "    try:\n",
    "        lis=[]\n",
    "        for i in st:\n",
    "            if (ord(i)-94)%2!=0:\n",
    "                lis.append(True)\n",
    "            else:\n",
    "                lis.append(False)\n",
    "        return lis \n",
    "    except Exception as e:\n",
    "        print(e)\n",
    "#check\n",
    "print(to_boolean_list(\"loves\"))\n",
    "print(to_boolean_list(\"tesh\") )"
   ]
  },
  {
   "cell_type": "code",
   "execution_count": null,
   "metadata": {},
   "outputs": [],
   "source": [
    "def encode_morse(st):\n",
    "    \"\"\"function that takes a string as an argument and returns the Morse code equivalent.\"\"\"\n",
    "    try:\n",
    "        char_to_dots = {\n",
    "        'A': '.-', 'B': '-...', 'C': '-.-.', 'D': '-..', 'E': '.', 'F': '..-.',\n",
    "        'G': '--.', 'H': '....', 'I': '..', 'J': '.---', 'K': '-.-', 'L': '.-..',\n",
    "        'M': '--', 'N': '-.', 'O': '---', 'P': '.--.', 'Q': '--.-', 'R': '.-.',\n",
    "        'S': '...', 'T': '-', 'U': '..-', 'V': '...-', 'W': '.--', 'X': '-..-',\n",
    "        'Y': '-.--', 'Z': '--..', ' ': ' ', '0': '-----',\n",
    "        '1': '.----', '2': '..---', '3': '...--', '4': '....-', '5': '.....',\n",
    "        '6': '-....', '7': '--...', '8': '---..', '9': '----.',\n",
    "        '&': '.-...', \"'\": '.----.', '@': '.--.-.', ')': '-.--.-', '(': '-.--.',\n",
    "        ':': '---...', ',': '--..--', '=': '-...-', '!': '-.-.--', '.': '.-.-.-',\n",
    "        '-': '-....-', '+': '.-.-.', '\"': '.-..-.', '?': '..--..', '/': '-..-.'\n",
    "        } \n",
    "        s=char_to_dots[st[0]]\n",
    "        for i in range(1,len(st)):\n",
    "            s=s+\" \"+char_to_dots[st[i]]\n",
    "        return s\n",
    "    except Exception as e:\n",
    "        print(e)\n"
   ]
  }
 ],
 "metadata": {
  "kernelspec": {
   "display_name": "Python 3 (ipykernel)",
   "language": "python",
   "name": "python3"
  },
  "language_info": {
   "codemirror_mode": {
    "name": "ipython",
    "version": 3
   },
   "file_extension": ".py",
   "mimetype": "text/x-python",
   "name": "python",
   "nbconvert_exporter": "python",
   "pygments_lexer": "ipython3",
   "version": "3.7.6"
  }
 },
 "nbformat": 4,
 "nbformat_minor": 4
}
