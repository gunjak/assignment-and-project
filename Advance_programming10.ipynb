{
 "cells": [
  {
   "cell_type": "markdown",
   "metadata": {},
   "source": [
    "# . Create a function that takes the width, height and character and returns a picture frame as a 2D list.\n",
    "\n",
    "Examples\n",
    "\n",
    "get_frame(4, 5, \"#\") ➞ [\n",
    "  [\"####\"],\n",
    "  [\"#  #\"],\n",
    "  [\"#  #\"],\n",
    "  [\"#  #\"],\n",
    "  [\"####\"]\n",
    "]\n"
   ]
  },
  {
   "cell_type": "code",
   "execution_count": null,
   "metadata": {},
   "outputs": [],
   "source": [
    "def get_frame(a,b,c):\n",
    "    try:\n",
    "        if a>1:\n",
    "            s=[]\n",
    "            for i in range(b):\n",
    "                if i==0 or i==b-1:\n",
    "                    s.append([str(c)*a])\n",
    "                else:\n",
    "                    s.append([str(c)+\" \"*(a-2)+str(c)])\n",
    "            return s\n",
    "        else:\n",
    "            raise Exception(\"Frame's width should not less than 2\")\n",
    "    except Exception as e:\n",
    "        print(e)\n",
    "for i in get_frame(4, 9, \"#\"):\n",
    "    print(i)"
   ]
  },
  {
   "cell_type": "markdown",
   "metadata": {},
   "source": [
    "# Write three functions: \n",
    "1. boolean_and\n",
    "2. boolean_or\n",
    "3. boolean_xor\n",
    "These functions should evaluate a list of True and False values, starting from\n",
    "the leftmost element and evaluating pairwise."
   ]
  },
  {
   "cell_type": "code",
   "execution_count": null,
   "metadata": {},
   "outputs": [],
   "source": [
    "def boolean_and(l):\n",
    "    try:\n",
    "        if type(l)==list:\n",
    "            for i in l:\n",
    "                if type(i)==bool:\n",
    "                    pass\n",
    "                else:\n",
    "                    raise Exception(\"invalid argument\")\n",
    "            var=l[0]\n",
    "            for j in range(len(l)-1):\n",
    "                var=var and l[j+1] \n",
    "            return var\n",
    "        else:\n",
    "            raise Exception(\"invalid argument\")\n",
    "    except Exception as e:\n",
    "        print(e)  \n",
    "def boolean_or(l):\n",
    "    try:\n",
    "        if type(l)==list:\n",
    "            for i in l:\n",
    "                if type(i)==bool:\n",
    "                    pass\n",
    "                else:\n",
    "                    raise Exception(\"invalid argument\")\n",
    "            var=l[0]\n",
    "            for j in range(len(l)-1):\n",
    "                var=var or l[j+1] \n",
    "            return var\n",
    "        else:\n",
    "            raise Exception(\"invalid argument\")\n",
    "    except Exception as e:\n",
    "        print(e) \n",
    "def boolean_xor(l):\n",
    "    try:\n",
    "        if type(l)==list:\n",
    "            for i in l:\n",
    "                if type(i)==bool:\n",
    "                    pass\n",
    "                else:\n",
    "                    raise Exception(\"invalid argument\")\n",
    "            var=l[0]\n",
    "            for j in range(len(l)-1):\n",
    "                if var==True and l[j+1]==True:\n",
    "                    var=False\n",
    "                else:    \n",
    "                    var=var or l[j+1] \n",
    "            return var\n",
    "        else:\n",
    "            raise Exception(\"invalid argument\")\n",
    "    except Exception as e:\n",
    "        print(e)         \n",
    "        "
   ]
  },
  {
   "cell_type": "markdown",
   "metadata": {},
   "source": [
    "# Create a function that creates a box based on dimension n."
   ]
  },
  {
   "cell_type": "code",
   "execution_count": null,
   "metadata": {},
   "outputs": [],
   "source": [
    "def make_box(n):\n",
    "    try:\n",
    "        l=[]\n",
    "        for i in range(n):\n",
    "            if i==0 or i==n-1:\n",
    "                l.append(\"#\"*n)\n",
    "            else:\n",
    "                l.append(\"#\"+\" \"*(n-2)+\"#\")\n",
    "        return l\n",
    "    except Exception as e:\n",
    "        print(e)         \n",
    "        "
   ]
  },
  {
   "cell_type": "markdown",
   "metadata": {},
   "source": [
    "# Write a regular expression that will match the states that voted yes to\n",
    "President Trump's impeachment. You must use RegEx positive lookahead."
   ]
  },
  {
   "cell_type": "code",
   "execution_count": null,
   "metadata": {},
   "outputs": [],
   "source": [
    "text = 'Texas = no, California = yes, Florida = yes, Michigan = no' \n",
    "import re\n",
    "re.findall('[a-zA-Z]+(?= = yes)',text)"
   ]
  },
  {
   "cell_type": "markdown",
   "metadata": {},
   "source": [
    "# Given a common phrase, return False if any individual word in the phrase contains duplicate letters. Return True otherwise."
   ]
  },
  {
   "cell_type": "code",
   "execution_count": null,
   "metadata": {},
   "outputs": [],
   "source": [
    "def no_duplicate_letters(st):\n",
    "    from collections import Counter\n",
    "    try:\n",
    "        for i in st.split():\n",
    "            s=Counter(i)\n",
    "            for i  in set(s.values()):\n",
    "                if i!=1:\n",
    "                    return False\n",
    "        else:\n",
    "            return True\n",
    "    except Exception as e:\n",
    "        print(e)\n",
    "print(no_duplicate_letters('Fortune favours the bold.'))  \n",
    "print(no_duplicate_letters(\"You can lead a horse to water, but you can't make him drink.\"))\n",
    "no_duplicate_letters('An apple a day keeps the doctor away.')"
   ]
  }
 ],
 "metadata": {
  "kernelspec": {
   "display_name": "Python 3 (ipykernel)",
   "language": "python",
   "name": "python3"
  },
  "language_info": {
   "codemirror_mode": {
    "name": "ipython",
    "version": 3
   },
   "file_extension": ".py",
   "mimetype": "text/x-python",
   "name": "python",
   "nbconvert_exporter": "python",
   "pygments_lexer": "ipython3",
   "version": "3.7.6"
  }
 },
 "nbformat": 4,
 "nbformat_minor": 4
}
