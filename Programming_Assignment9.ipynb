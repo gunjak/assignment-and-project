{
 "cells": [
  {
   "cell_type": "code",
   "execution_count": null,
   "metadata": {},
   "outputs": [],
   "source": [
    "def disarium(n):\n",
    "    s,j=0,1\n",
    "    for i in str(n):\n",
    "        s=s+pow(int(i),j)\n",
    "        j+=1\n",
    "    if int(n)==s:\n",
    "        return n\n",
    "if disarium(input()) :\n",
    "    print(\"disarium\")\n",
    "else:\n",
    "    print('no')\n",
    "   "
   ]
  },
  {
   "cell_type": "code",
   "execution_count": null,
   "metadata": {},
   "outputs": [],
   "source": [
    "for i in range(1,101):\n",
    "    if disarium(i):\n",
    "        print(i)\n"
   ]
  },
  {
   "cell_type": "code",
   "execution_count": null,
   "metadata": {},
   "outputs": [],
   "source": [
    "def happy(n):\n",
    "    d=str(n)\n",
    "    l=[n]\n",
    "    s=None\n",
    "    while(True):\n",
    "        s=sum([int(i)**2 for i in d])\n",
    "        if s==1:\n",
    "            return n\n",
    "            break\n",
    "        elif l.__contains__(str(s)) or l.__contains__(str(s)[::-1]):\n",
    "            break\n",
    "        d=str(s)    \n",
    "        l.append(str(s))      \n",
    "if happy(input()):\n",
    "    print(\"happy\")\n",
    "else:\n",
    "    print(\"not happy\")\n",
    "   "
   ]
  },
  {
   "cell_type": "code",
   "execution_count": null,
   "metadata": {},
   "outputs": [],
   "source": [
    "for i in range(1,101):\n",
    "    if happy(i):\n",
    "        print(i)"
   ]
  },
  {
   "cell_type": "code",
   "execution_count": null,
   "metadata": {},
   "outputs": [],
   "source": [
    "h=input()\n",
    "s=0\n",
    "for i in h:\n",
    "    s=s+int(i)\n",
    "if int(h)%s==0:\n",
    "    print(\"Harshad\")\n",
    "else:\n",
    "    print('no')"
   ]
  },
  {
   "cell_type": "code",
   "execution_count": null,
   "metadata": {},
   "outputs": [],
   "source": [
    "from math import sqrt\n",
    "num=float(input())\n",
    "sq=round(sqrt(num))\n",
    "if sq*sq+sq==num:\n",
    "    print(\"pronic number\")\n",
    "else:\n",
    "    print('not pronic')"
   ]
  }
 ],
 "metadata": {
  "kernelspec": {
   "display_name": "Python 3",
   "language": "python",
   "name": "python3"
  },
  "language_info": {
   "codemirror_mode": {
    "name": "ipython",
    "version": 3
   },
   "file_extension": ".py",
   "mimetype": "text/x-python",
   "name": "python",
   "nbconvert_exporter": "python",
   "pygments_lexer": "ipython3",
   "version": "3.7.6"
  }
 },
 "nbformat": 4,
 "nbformat_minor": 4
}
