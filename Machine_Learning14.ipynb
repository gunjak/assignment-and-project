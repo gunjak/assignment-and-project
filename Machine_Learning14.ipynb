{
 "cells": [
  {
   "cell_type": "code",
   "execution_count": null,
   "metadata": {},
   "outputs": [],
   "source": [
    "What is the concept of supervised learning? What is the significance of the name?"
   ]
  },
  {
   "cell_type": "code",
   "execution_count": null,
   "metadata": {},
   "outputs": [],
   "source": [
    "Supervised learning, also known as supervised machine learning,is a subcategory of machine learning and artificial intelligence.\n",
    "It is defined by its use of labeled datasets to train algorithms that to classify data or predict outcomes accurately."
   ]
  },
  {
   "cell_type": "code",
   "execution_count": null,
   "metadata": {},
   "outputs": [],
   "source": [
    "In the hospital sector, offer an example of supervised learning."
   ]
  },
  {
   "cell_type": "code",
   "execution_count": null,
   "metadata": {},
   "outputs": [],
   "source": [
    "Predicts illnesses and treatments.\n",
    "Forecasts health risks to various populations of people.\n",
    "Differentiates between tumors and healthy anatomy"
   ]
  },
  {
   "cell_type": "code",
   "execution_count": null,
   "metadata": {},
   "outputs": [],
   "source": [
    "Give three supervised learning examples."
   ]
  },
  {
   "cell_type": "code",
   "execution_count": null,
   "metadata": {},
   "outputs": [],
   "source": [
    "Linear regression for regression problems.\n",
    "Random forest for classification and regression problems.\n",
    "Support vector machines for classification problems."
   ]
  },
  {
   "cell_type": "code",
   "execution_count": null,
   "metadata": {},
   "outputs": [],
   "source": [
    "In supervised learning, what are classification and regression?"
   ]
  },
  {
   "cell_type": "code",
   "execution_count": null,
   "metadata": {},
   "outputs": [],
   "source": [
    "Classification is the task of predicting a discrete class label. Regression is the task of predicting a continuous quantity."
   ]
  },
  {
   "cell_type": "code",
   "execution_count": null,
   "metadata": {},
   "outputs": [],
   "source": [
    "Give some popular classification algorithms as examples."
   ]
  },
  {
   "cell_type": "code",
   "execution_count": null,
   "metadata": {},
   "outputs": [],
   "source": [
    "Logistic Regression.\n",
    "Naive Bayes.\n",
    "K-Nearest Neighbors.\n",
    "Decision Tree.\n",
    "Support Vector Machines."
   ]
  },
  {
   "cell_type": "code",
   "execution_count": null,
   "metadata": {},
   "outputs": [],
   "source": [
    "Briefly describe the SVM model."
   ]
  },
  {
   "cell_type": "code",
   "execution_count": null,
   "metadata": {},
   "outputs": [],
   "source": [
    "Support Vector Machine(SVM) is a supervised machine learning algorithm used for both classification and regression. Though we \n",
    "say regression problems as well its best suited for classification. The objective of SVM algorithm is to find a hyperplane in \n",
    "an N-dimensional space that distinctly classifies the data points."
   ]
  },
  {
   "cell_type": "code",
   "execution_count": null,
   "metadata": {},
   "outputs": [],
   "source": [
    "In SVM, what is the cost of misclassification?"
   ]
  },
  {
   "cell_type": "code",
   "execution_count": null,
   "metadata": {},
   "outputs": [],
   "source": [
    "Misclassification may occur due to selection of property which is not suitable for classification. When all classes, groups, or \n",
    "categories of a variable have the same error rate or probability of being misclassified then it is said to be misclassification.\n",
    "SVM algorithm can be used for analysis of misclassification"
   ]
  },
  {
   "cell_type": "code",
   "execution_count": null,
   "metadata": {},
   "outputs": [],
   "source": [
    "In the SVM model, define Support Vectors."
   ]
  },
  {
   "cell_type": "code",
   "execution_count": null,
   "metadata": {},
   "outputs": [],
   "source": [
    "Support vectors are data points that are closer to the hyperplane and influence the position and orientation of the hyperplane. \n",
    "Using these support vectors, we maximize the margin of the classifier. Deleting the support vectors will change the position of \n",
    "the hyperplane. These are the points that help us build our SVM."
   ]
  },
  {
   "cell_type": "code",
   "execution_count": null,
   "metadata": {},
   "outputs": [],
   "source": [
    "In the SVM model, define the kernel."
   ]
  },
  {
   "cell_type": "code",
   "execution_count": null,
   "metadata": {},
   "outputs": [],
   "source": [
    "A kernel is a function used in SVM for helping to solve problems. They provide shortcuts to avoid complex calculations. The \n",
    "amazing thing about kernel is that we can go to higher dimensions and perform smooth calculations with the help of it."
   ]
  },
  {
   "cell_type": "code",
   "execution_count": null,
   "metadata": {},
   "outputs": [],
   "source": [
    "What are the factors that influence SVM's effectiveness?"
   ]
  },
  {
   "cell_type": "code",
   "execution_count": null,
   "metadata": {},
   "outputs": [],
   "source": [
    "What are the benefits of using the SVM model?"
   ]
  },
  {
   "cell_type": "code",
   "execution_count": null,
   "metadata": {},
   "outputs": [],
   "source": [
    "SVM works relatively well when there is a clear margin of separation between classes.\n",
    "SVM is more effective in high dimensional spaces.\n",
    "SVM is effective in cases where the number of dimensions is greater than the number of samples.\n",
    "SVM is relatively memory efficient"
   ]
  },
  {
   "cell_type": "code",
   "execution_count": null,
   "metadata": {},
   "outputs": [],
   "source": [
    "What are the drawbacks of using the SVM model?"
   ]
  },
  {
   "cell_type": "code",
   "execution_count": null,
   "metadata": {},
   "outputs": [],
   "source": [
    "1.SVM algorithm is not suitable for large data sets.\n",
    "2.SVM does not perform very well when the data set has more noise i.e. target classes are overlapping.\n",
    "3.In cases where the number of features for each data point exceeds the number of training data samples, the SVM will \n",
    " underperform.\n",
    "4.As the support vector classifier works by putting data points, above and below the classifying hyperplane there is no \n",
    " probabilistic explanation for the classification."
   ]
  },
  {
   "cell_type": "code",
   "execution_count": null,
   "metadata": {},
   "outputs": [],
   "source": [
    "Notes should be written on\n",
    "\n",
    "1. The kNN algorithm has a validation flaw.\n",
    "\n",
    "2. In the kNN algorithm, the k value is chosen.\n",
    "\n",
    "3. A decision tree with inductive bias"
   ]
  },
  {
   "cell_type": "code",
   "execution_count": null,
   "metadata": {},
   "outputs": [],
   "source": [
    "What are some of the benefits of the kNN algorithm?"
   ]
  },
  {
   "cell_type": "code",
   "execution_count": null,
   "metadata": {},
   "outputs": [],
   "source": [
    "Some benefits of kNN algorithm:\n",
    "1.  Simple to implement and intuitive to understand\n",
    "2.  Can learn non-linear decision boundaries when used for classfication and regression. Can came up with a highly flexible decision\n",
    "   boundary adjusting the value of K.\n",
    "3. No Training Time for classification/regression : The KNN algorithm has no explicit training step and all the work happens during\n",
    "   prediction\n",
    "4. Constantly evolves with new data: Since there is no explicit training step, as we keep adding new data to the dataset, the \n",
    "    prediction is adjusted without having to retrain a new model.\n",
    "5  Single Hyperparameters: There is a single hyperparameter, the value of K. This makes hyper parameter tuning easy.\n",
    "6.  Choice of distance metric: There are many distance metrics to chose from. Some popular distance metrics used are Euclidean,\n",
    "    Manhattan, Minkowski, hamming distance eand so on."
   ]
  },
  {
   "cell_type": "code",
   "execution_count": null,
   "metadata": {},
   "outputs": [],
   "source": [
    "What are some of the kNN algorithm's drawbacks?"
   ]
  },
  {
   "cell_type": "code",
   "execution_count": null,
   "metadata": {},
   "outputs": [],
   "source": [
    "some of the kNN algorithm's drawbacks:\n",
    "1. High prediction complexity for large datasets: Not great for large datasets, since the entire training data is processed for \n",
    "    every prediction.\n",
    "2. Higher prediction complexity with higher dimensions:  The prediction compleixty in supervised learning gets higher for higher \n",
    "    dimensional data.\n",
    "3. KNN Assumes equal importance to all features: Since KNN expects points to be close in ALL dimensions, it might not consider \n",
    "    points that are really close in sevaral dimensions, though farther away in a few favourably. \n",
    "4. Sensitive to outliers: A single mislabeled example can change the class boundaries. This could specially be a bigger problem \n",
    "    for larger dimensions, if there is an outlier in one dimension, since the average separation tends to be higher for higher\n",
    "    dimensions    "
   ]
  },
  {
   "cell_type": "code",
   "execution_count": null,
   "metadata": {},
   "outputs": [],
   "source": [
    "Explain the decision tree algorithm in a few words."
   ]
  },
  {
   "cell_type": "code",
   "execution_count": null,
   "metadata": {},
   "outputs": [],
   "source": [
    "A decision tree is a graphical representation of all the possible solutions to a decision based on certain conditions. Tree \n",
    "models where the target variable can take a finite set of values are called classification trees and target variable can take \n",
    "continuous values  are called regression trees."
   ]
  },
  {
   "cell_type": "code",
   "execution_count": null,
   "metadata": {},
   "outputs": [],
   "source": [
    "What is the difference between a node and a leaf in a decision tree?"
   ]
  },
  {
   "cell_type": "code",
   "execution_count": null,
   "metadata": {},
   "outputs": [],
   "source": [
    "The root node is just the topmost decision node. In other words, it is where you start traversing the classification tree. The \n",
    "leaf nodes, also called terminal nodes, are nodes that don't split into more nodes. Leaf nodes are where classes are \n",
    "assigned by majority vote."
   ]
  },
  {
   "cell_type": "code",
   "execution_count": null,
   "metadata": {},
   "outputs": [],
   "source": [
    "What is a decision tree's entropy?"
   ]
  },
  {
   "cell_type": "code",
   "execution_count": null,
   "metadata": {},
   "outputs": [],
   "source": [
    "Entropy controls how a Decision Tree decides to split the data. It actually effects how a Decision Tree draws its boundaries.\n",
    "Entropy is a measure of disorder or uncertainty and the goal of machine learning models and Data Scientists in general is to \n",
    "reduce uncertainty."
   ]
  },
  {
   "cell_type": "code",
   "execution_count": null,
   "metadata": {},
   "outputs": [],
   "source": [
    "In a decision tree, define knowledge gain."
   ]
  },
  {
   "cell_type": "code",
   "execution_count": null,
   "metadata": {},
   "outputs": [],
   "source": [
    "When we use a node in a decision tree to partition the training instances into smaller subsets the entropy changes. Information\n",
    "gain is a measure of this change in entropy. \n",
    "Information Gain is based on the decrease in entropy after splitting a dataset based on an attribute. The meaning of constructing \n",
    "a Decision Tree is all about finding the attributes having the highest information gain."
   ]
  },
  {
   "cell_type": "code",
   "execution_count": null,
   "metadata": {},
   "outputs": [],
   "source": [
    "Choose three advantages of the decision tree approach and write them down."
   ]
  },
  {
   "cell_type": "code",
   "execution_count": null,
   "metadata": {},
   "outputs": [],
   "source": [
    "Decision trees are able to generate understandable rules.\n",
    "Decision trees perform classification without requiring much computation.\n",
    "Decision trees are able to handle both continuous and categorical variables."
   ]
  },
  {
   "cell_type": "code",
   "execution_count": null,
   "metadata": {},
   "outputs": [],
   "source": [
    "Make a list of three flaws in the decision tree process."
   ]
  },
  {
   "cell_type": "code",
   "execution_count": null,
   "metadata": {},
   "outputs": [],
   "source": [
    "1.A small change in the data can cause a large change in the structure of the decision tree causing instability.\n",
    "2.Decision tree often involves higher time to train the model.\n",
    "3.The Decision Tree algorithm is inadequate for applying regression and predicting continuous values."
   ]
  },
  {
   "cell_type": "code",
   "execution_count": null,
   "metadata": {},
   "outputs": [],
   "source": [
    "Briefly describe the random forest model."
   ]
  },
  {
   "cell_type": "code",
   "execution_count": null,
   "metadata": {},
   "outputs": [],
   "source": [
    "Random forest is a Supervised Machine Learning Algorithm that is used widely in Classification and Regression problems.It builds\n",
    "decision trees on different samples and takes their majority vote for classification and average in case of regression."
   ]
  }
 ],
 "metadata": {
  "kernelspec": {
   "display_name": "Python 3 (ipykernel)",
   "language": "python",
   "name": "python3"
  },
  "language_info": {
   "codemirror_mode": {
    "name": "ipython",
    "version": 3
   },
   "file_extension": ".py",
   "mimetype": "text/x-python",
   "name": "python",
   "nbconvert_exporter": "python",
   "pygments_lexer": "ipython3",
   "version": "3.7.6"
  }
 },
 "nbformat": 4,
 "nbformat_minor": 4
}
