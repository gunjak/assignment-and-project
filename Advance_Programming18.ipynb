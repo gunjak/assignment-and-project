{
 "cells": [
  {
   "cell_type": "markdown",
   "metadata": {},
   "source": [
    "# 1. A robot has been given a list of movement instructions. Each instruction is either left, right, up or down, followed by a \n",
    "distance to move. The robot starts at [0, 0]. You want to calculate where the robot will end up and return its final position \n",
    "as a list.\n",
    "To illustrate, if the robot is given the following instructions: [\"right 10\", \"up 50\", \"left 30\", \"down 10\"]\n",
    "It will end up 20 left and 40 up from where it started, so we return [-20, 40].\n",
    "\n",
    "Examples:\n",
    "track_robot([\"right 10\", \"up 50\", \"left 30\", \"down 10\"]) ➞ [-20, 40]\n",
    "track_robot([]) ➞ [0, 0]\n",
    "// If there are no instructions, the robot doesn't move.\n",
    "track_robot([\"right 100\", \"right 100\", \"up 500\", \"up 10000\"]) ➞ [200, 10500]"
   ]
  },
  {
   "cell_type": "code",
   "execution_count": 1,
   "metadata": {},
   "outputs": [
    {
     "name": "stdout",
     "output_type": "stream",
     "text": [
      "[-20, 40]\n",
      "[0, 0]\n",
      "[200, 10500]\n"
     ]
    }
   ],
   "source": [
    "def track_robot(lis):\n",
    "    try:\n",
    "        position=[0,0]\n",
    "        for i in lis:\n",
    "            move=i.split()\n",
    "            if move[0]==\"right\":\n",
    "                position[0]+=int(move[1])\n",
    "            elif move[0]==\"left\":\n",
    "                position[0]-=int(move[1])\n",
    "            elif move[0]==\"up\":\n",
    "                position[1]+=int(move[1])\n",
    "            elif move[0]==\"down\":\n",
    "                position[1]-=int(move[1])\n",
    "        return position\n",
    "    except Exception as e:\n",
    "        print(e)\n",
    "        \n",
    "print(track_robot([\"right 10\", \"up 50\", \"left 30\", \"down 10\"]))\n",
    "print(track_robot([]))\n",
    "print(track_robot([\"right 100\", \"right 100\", \"up 500\", \"up 10000\"]))            "
   ]
  },
  {
   "cell_type": "markdown",
   "metadata": {},
   "source": [
    "# 2. Write a function that will return the longest word in a sentence. In cases where more than one word is found, return the \n",
    "first one.\n",
    "Examples:\n",
    "find_longest(\"A thing of beauty is a joy forever.\") ➞ \"forever\"\n",
    "find_longest(\"Forgetfulness is by all means powerless!\") ➞ \"forgetfulness\"\n",
    "find_longest(\"\\\"Strengths\\\" is the longest and most commonly used word that contains only a single vowel.\") ➞ \n",
    "\"strengths\""
   ]
  },
  {
   "cell_type": "code",
   "execution_count": 2,
   "metadata": {},
   "outputs": [
    {
     "name": "stdout",
     "output_type": "stream",
     "text": [
      "forever.\n",
      "Forgetfulness\n",
      "\"Strengths\"\n"
     ]
    }
   ],
   "source": [
    "def find_longest(st):\n",
    "    try:\n",
    "        l,key,value=st.split(),[],[]\n",
    "        d={}\n",
    "        for i in l:\n",
    "            d[i]=len(i)\n",
    "        key,value=list(d.keys()),list(d.values())\n",
    "        return key[value.index(max(d.values()))]\n",
    "    except Exception as e:\n",
    "        print(e)\n",
    "print(find_longest(\"A thing of beauty is a joy forever.\")) \n",
    "print(find_longest(\"Forgetfulness is by all means powerless!\"))\n",
    "print(find_longest(\"\\\"Strengths\\\" is the longest and most commonly used word that contains only a single vowel.\"))"
   ]
  },
  {
   "cell_type": "markdown",
   "metadata": {},
   "source": [
    "# 3. Create a function to check if a candidate is qualified in an imaginary coding interview of an imaginary tech startup.\n",
    "The criteria for a candidate to be qualified in the coding interview is:\n",
    "\n",
    "The candidate should have complete all the questions.\n",
    "The maximum time given to complete the interview is 120 minutes.\n",
    "The maximum time given for very easy questions is 5 minutes each.\n",
    "The maximum time given for easy questions is 10 minutes each.\n",
    "The maximum time given for medium questions is 15 minutes each.\n",
    "The maximum time given for hard questions is 20 minutes each.\n",
    "If all the above conditions are satisfied, return \"qualified\", else return \"disqualified\".\n",
    "\n",
    "You will be given a list of time taken by a candidate to solve a particular question and the total time taken by the \n",
    "candidate to complete the interview.\n",
    "\n",
    "Given a list , in a true condition will always be in the format [very easy, very easy, easy, easy, medium, medium, \n",
    "hard, hard].\n",
    "\n",
    "The maximum time to complete the interview includes a buffer time of 20 minutes.\n",
    "\n",
    "Examples:\n",
    "interview([5, 5, 10, 10, 15, 15, 20, 20], 120) ➞ \"qualified\"\n",
    "interview([2, 3, 8, 6, 5, 12, 10, 18], 64) ➞  \"qualified\"\n",
    "interview([5, 5, 10, 10, 25, 15, 20, 20], 120) ➞ \"disqualified\"\n",
    "# Exceeded the time limit for a medium question.\n",
    "interview([5, 5, 10, 10, 15, 15, 20], 120) ➞ \"disqualified\"\n",
    "# Did not complete all the questions.\n",
    "interview([5, 5, 10, 10, 15, 15, 20, 20], 130) ➞ \"disqualified\"\n",
    "# Solved all the questions in their respected time limits but exceeded the total time limit of the interview."
   ]
  },
  {
   "cell_type": "code",
   "execution_count": 3,
   "metadata": {},
   "outputs": [
    {
     "name": "stdout",
     "output_type": "stream",
     "text": [
      "qualified\n",
      "qualified\n",
      "disqualified\n",
      "disqualified\n",
      "disqualified\n"
     ]
    }
   ],
   "source": [
    "def interview(l,num):\n",
    "    try:\n",
    "        col=[l[0]<=5,l[1]<=5,l[2]<=10,l[3]<=10,l[4]<=20,l[5]<=20,sum(l)<=num+20,num<=120,len(l)==8]\n",
    "        if all(col):\n",
    "            return \"qualified\"\n",
    "        else:\n",
    "            return \"disqualified\"\n",
    "    except Exception as e:\n",
    "        print(e)\n",
    "print(interview([5, 5, 10, 10, 15, 15, 20, 20], 120))\n",
    "print(interview([2, 3, 8, 6, 5, 12, 10, 18], 64))\n",
    "print(interview([5, 5, 10, 10, 25, 15, 20, 20], 120))\n",
    "print(interview([5, 5, 10, 10, 15, 15, 20], 120))\n",
    "print(interview([5, 5, 10, 10, 15, 15, 20, 20], 130))        "
   ]
  },
  {
   "cell_type": "markdown",
   "metadata": {},
   "source": [
    "# 4. Write a function that divides a list into chunks of size n, where n is the length of each chunk.\n",
    "Examples:\n",
    "chunkify([2, 3, 4, 5], 2) ➞ [[2, 3], [4, 5]]\n",
    "chunkify([2, 3, 4, 5, 6], 2) ➞ [[2, 3], [4, 5], [6]]\n",
    "chunkify([2, 3, 4, 5, 6, 7], 3) ➞ [[2, 3, 4], [5, 6, 7]]\n",
    "chunkify([2, 3, 4, 5, 6, 7], 1) ➞ [[2], [3], [4], [5], [6], [7]]\n",
    "chunkify([2, 3, 4, 5, 6, 7], 7) ➞ [[2, 3, 4, 5, 6, 7]]"
   ]
  },
  {
   "cell_type": "code",
   "execution_count": 4,
   "metadata": {},
   "outputs": [
    {
     "name": "stdout",
     "output_type": "stream",
     "text": [
      "[[2, 3], [4, 5]]\n",
      "[[2, 3], [4, 5], [6]]\n",
      "[[2, 3, 4], [5, 6, 7]]\n",
      "[[2], [3], [4], [5], [6], [7]]\n",
      "[[2, 3, 4, 5, 6, 7]]\n"
     ]
    }
   ],
   "source": [
    "def chunkify(lis,num):\n",
    "    try:\n",
    "        l=[]\n",
    "        for i in range(0,len(lis),num):\n",
    "            if (len(lis)-1)-i<num:\n",
    "                l+=[lis[i:len(lis)]]\n",
    "                break\n",
    "            else:\n",
    "                l+=[lis[i:i+num]]\n",
    "        return l\n",
    "    except Exception as e:\n",
    "        print(e)\n",
    "print(chunkify([2, 3, 4, 5], 2))\n",
    "print(chunkify([2, 3, 4, 5, 6], 2))\n",
    "print(chunkify([2, 3, 4, 5, 6, 7], 3))\n",
    "print(chunkify([2, 3, 4, 5, 6, 7], 1))\n",
    "print(chunkify([2, 3, 4, 5, 6, 7], 7))\n",
    "            "
   ]
  },
  {
   "cell_type": "markdown",
   "metadata": {},
   "source": [
    "# 5. You are given a list of strings consisting of grocery items, with prices in parentheses. Return a list of prices in float \n",
    "format.\n",
    "Examples:\n",
    "get_prices([\"salad ($4.99)\"]) ➞ [4.99]\n",
    "\n",
    "get_prices([\n",
    "  \"artichokes ($1.99)\",\n",
    "  \"rotiserrie chicken ($5.99)\",\n",
    "  \"gum ($0.75)\"\n",
    "]) ➞ [1.99, 5.99, 0.75]\n",
    "\n",
    "get_prices([\n",
    "  \"ice cream ($5.99)\",\n",
    "  \"banana ($0.20)\",\n",
    "  \"sandwich ($8.50)\",\n",
    "  \"soup ($1.99)\"\n",
    "]) ➞ [5.99, 0.2, 8.50, 1.99]"
   ]
  },
  {
   "cell_type": "code",
   "execution_count": 5,
   "metadata": {},
   "outputs": [
    {
     "name": "stdout",
     "output_type": "stream",
     "text": [
      "[4.99]\n",
      "[1.99, 5.99, 0.75]\n",
      "[5.99, 0.2, 8.5, 1.99]\n"
     ]
    }
   ],
   "source": [
    "def get_prices(lis):\n",
    "    try:\n",
    "        import re\n",
    "        l=[]\n",
    "        for i in lis:\n",
    "            a=re.findall('(?<=\\$)[0-9.]+',i)\n",
    "            l.append(float(a[0]))\n",
    "        return l\n",
    "    except Exception as e:\n",
    "        print(e)\n",
    "print(get_prices([\"salad ($4.99)\"]))\n",
    "print(get_prices([\"artichokes ($1.99)\",\"rotiserrie chicken ($5.99)\",\"gum ($0.75)\"]))\n",
    "print(get_prices([\"ice cream ($5.99)\",\"banana ($0.20)\",\"sandwich ($8.50)\",\"soup ($1.99)\"]))"
   ]
  }
 ],
 "metadata": {
  "kernelspec": {
   "display_name": "Python 3 (ipykernel)",
   "language": "python",
   "name": "python3"
  },
  "language_info": {
   "codemirror_mode": {
    "name": "ipython",
    "version": 3
   },
   "file_extension": ".py",
   "mimetype": "text/x-python",
   "name": "python",
   "nbconvert_exporter": "python",
   "pygments_lexer": "ipython3",
   "version": "3.7.6"
  }
 },
 "nbformat": 4,
 "nbformat_minor": 4
}
