{
 "cells": [
  {
   "cell_type": "markdown",
   "metadata": {},
   "source": [
    "# 1. Given a sentence, return the number of words which have the same first and last letter.\n",
    "Examples  \n",
    "count_same_ends(\"Pop! goes the balloon\") ➞ 1`   \n",
    "count_same_ends(\"And the crowd goes wild!\") ➞ 0`  \n",
    "count_same_ends(\"No I am not in a gang.\") ➞ 1`  "
   ]
  },
  {
   "cell_type": "code",
   "execution_count": 1,
   "metadata": {},
   "outputs": [
    {
     "name": "stdout",
     "output_type": "stream",
     "text": [
      "1\n",
      "0\n",
      "1\n"
     ]
    }
   ],
   "source": [
    "def count_same_ends(st):\n",
    "    try:\n",
    "        import re\n",
    "        ch=0\n",
    "        s=list(re.findall(\"[a-zA-Z]+\",st))\n",
    "        for i in s:\n",
    "            reverse=i[::-1]\n",
    "            if i[0].lower()==reverse[0].lower() and len(i)>1:\n",
    "                ch+=1\n",
    "        return ch\n",
    "    except Exception as e:\n",
    "        print(e)\n",
    "print(count_same_ends('Pop! goes the balloon'))\n",
    "print(count_same_ends(\"And the crowd goes wild!\"))\n",
    "print(count_same_ends(\"No I am not in a gang.\"))"
   ]
  },
  {
   "cell_type": "markdown",
   "metadata": {},
   "source": [
    "# 2. The Atbash cipher is an encryption method in which each letter of a word is replaced with its \"mirror\" letter in the alphabet\n",
    ": A <=> Z; B <=> Y; C <=> X; etc.\n",
    "Create a function that takes a string and applies the Atbash cipher to it.  \n",
    "\n",
    "Examples  \n",
    "atbash(\"apple\") ➞ \"zkkov\"   \n",
    "atbash(\"Hello world!\") ➞ \"Svool dliow!\" \n",
    "atbash(\"Christmas is the 25th of December\") ➞ \"Xsirhgnzh rh gsv 25gs lu Wvxvnyvi\" "
   ]
  },
  {
   "cell_type": "code",
   "execution_count": 2,
   "metadata": {},
   "outputs": [
    {
     "name": "stdout",
     "output_type": "stream",
     "text": [
      "zkkov\n",
      "Svool dliow!\n",
      "Xsirhgnzh rh gsv 25gs lu Wvxvnyvi\n"
     ]
    }
   ],
   "source": [
    "def atbash(st):\n",
    "    try:\n",
    "        alph=\"abcdefghijklmnopqrstuvwxyz\"\n",
    "        re_alph=alph[::-1]\n",
    "        atbas=\"\"\n",
    "        for i in range(len(st)):\n",
    "            if st[i].isupper() and st[i].isalpha():\n",
    "                sub=re_alph[alph.index(st[i].lower())]\n",
    "                atbas+=sub.upper()\n",
    "            elif st[i].isalpha():\n",
    "                atbas+=re_alph[alph.index(st[i])]\n",
    "            else:\n",
    "                atbas+=st[i]\n",
    "        return atbas\n",
    "    except Exception as e:\n",
    "        print(e)\n",
    "print(atbash(\"apple\"))\n",
    "print(atbash(\"Hello world!\"))\n",
    "print(atbash(\"Christmas is the 25th of December\"))                "
   ]
  },
  {
   "cell_type": "markdown",
   "metadata": {},
   "source": [
    "# 3. Create a class Employee that will take a full name as argument, as well as a set of none, one or more keywords.\n",
    "Each instance should have a name and a lastname attributes plus one more attribute for each of the keywords, if any.\n",
    "Examples\n",
    "\n",
    "john = Employee(\"John Doe\")\n",
    "mary = Employee(\"Mary Major\", salary=120000)\n",
    "richard = Employee(\"Richard Roe\", salary=110000, height=178)\n",
    "giancarlo = Employee(\"Giancarlo Rossi\", salary=115000, height=182, nationality=\"Italian\")\n",
    "\n",
    "john.name ➞ \"John\"\n",
    "mary.lastname ➞ \"Major\"\n",
    "richard.height ➞ 178\n",
    "giancarlo.nationality ➞ \"Italian\""
   ]
  },
  {
   "cell_type": "code",
   "execution_count": 3,
   "metadata": {},
   "outputs": [
    {
     "name": "stdout",
     "output_type": "stream",
     "text": [
      "John\n",
      "Major\n",
      "178\n",
      "Italian\n"
     ]
    }
   ],
   "source": [
    "class Employee:\n",
    "    def __init__(self,name,salary=None,height=None,nationality=None):\n",
    "        self.name,self.lastname=name.split()\n",
    "        self.height=height\n",
    "        self.salary=salary\n",
    "        self.nationality=nationality\n",
    "john = Employee(\"John Doe\")    \n",
    "mary = Employee(\"Mary Major\",salary=120000)\n",
    "richard = Employee(\"Richard Roe\", salary=110000, height=178)\n",
    "giancarlo = Employee(\"Giancarlo Rossi\", salary=115000, height=182, nationality=\"Italian\")\n",
    "\n",
    "print(john.name)\n",
    "print(mary.lastname)\n",
    "print(richard.height)\n",
    "print(giancarlo.nationality)    "
   ]
  },
  {
   "cell_type": "markdown",
   "metadata": {},
   "source": [
    "# 4. Create a function that determines whether each seat can \"see\" the front-stage. A number can \"see\" the front-stage if it is strictly greater than the number before it.\n",
    "Everyone can see the front-stage in the example below:\n",
    "\n",
    "# FRONT STAGE\n",
    "[[1, 2, 3, 2, 1, 1],\n",
    "[2, 4, 4, 3, 2, 2],\n",
    "[5, 5, 5, 5, 4, 4],\n",
    "[6, 6, 7, 6, 5, 5]]\n",
    "\n",
    "# Starting from the left, the 6 > 5 > 2 > 1, so all numbers can see.\n",
    "# 6 > 5 > 4 > 2 - so all numbers can see, etc.\n",
    "\n",
    "Not everyone can see the front-stage in the example below:\n",
    "# FRONT STAGE\n",
    "[[1, 2, 3, 2, 1, 1], \n",
    "[2, 4, 4, 3, 2, 2], \n",
    "[5, 5, 5, 10, 4, 4], \n",
    "[6, 6, 7, 6, 5, 5]]\n",
    "\n",
    "# The 10 is directly in front of the 6 and blocking its view.\n",
    "\n",
    "The function should return True if every number can see the front-stage, and False if even a single number cannot.\n",
    "\n",
    "Examples:\n",
    "can_see_stage([[1, 2, 3],[4, 5, 6],[7, 8, 9]]) ➞ True\n",
    "can_see_stage([[0, 0, 0],[1, 1, 1],[2, 2, 2]]) ➞ True\n",
    "can_see_stage([[2, 0, 0],[1, 1, 1],[2, 2, 2]]) ➞ False\n",
    "can_see_stage([[1, 0, 0],[1, 1, 1],[2, 2, 2]]) ➞ False\n",
    "\n",
    "# Number must be strictly smaller than\n",
    "# the number directly behind it.\n"
   ]
  },
  {
   "cell_type": "code",
   "execution_count": 4,
   "metadata": {},
   "outputs": [
    {
     "name": "stdout",
     "output_type": "stream",
     "text": [
      "True\n",
      "True\n",
      "False\n",
      "False\n"
     ]
    }
   ],
   "source": [
    "def  can_see_stage(lis):\n",
    "    try:\n",
    "        row,col=len(lis),len(lis[0])\n",
    "        for i in range(col):\n",
    "            for j in range(row-1):\n",
    "                if lis[j][i]>=lis[j+1][i]:\n",
    "                    return False\n",
    "        else :\n",
    "            return True        \n",
    "            \n",
    "    except Exception as e:\n",
    "        print(e)\n",
    "print(can_see_stage([[1, 2, 3],[4, 5, 6],[7, 8, 9]]))  \n",
    "print(can_see_stage([[0, 0, 0],[1, 1, 1],[2, 2, 2]]))\n",
    "print(can_see_stage([[2, 0, 0],[1, 1, 1],[2, 2, 2]]))\n",
    "print(can_see_stage([[1, 0, 0],[1, 1, 1],[2, 2, 2]]))"
   ]
  },
  {
   "cell_type": "markdown",
   "metadata": {},
   "source": [
    "# 5. Create a Pizza class with the attributes order_number and ingredients (which is given as a list). Only the ingredients will \n",
    "be given as input.\n",
    "You should also make it so that its possible to choose a ready made pizza flavour rather than typing out the \n",
    "ingredients manually! As well as creating this Pizza class, hard-code the following pizza flavours.\n",
    "\n",
    "Name    Ingredients\n",
    "hawaiian    ham, pineapple\n",
    "meat_festival   beef, meatball, bacon\n",
    "garden_feast    spinach, olives, mushroom\n",
    "Examples:\n",
    "\n",
    "p1 = Pizza([\"bacon\", \"parmesan\", \"ham\"])    # order 1\n",
    "p2 = Pizza.garden_feast()                  # order 2\n",
    "p1.ingredients ➞ [\"bacon\", \"parmesan\", \"ham\"]\n",
    "p2.ingredients ➞ [\"spinach\", \"olives\", \"mushroom\"]\n",
    "p1.order_number ➞ 1\n",
    "p2.order_number ➞ 2"
   ]
  },
  {
   "cell_type": "code",
   "execution_count": 5,
   "metadata": {},
   "outputs": [
    {
     "name": "stdout",
     "output_type": "stream",
     "text": [
      "['bacon', 'parmesan', 'ham']\n",
      "['spinach', 'olives', 'mushroom']\n",
      "1\n",
      "2\n"
     ]
    }
   ],
   "source": [
    "class Pizza:\n",
    "    order_count=0\n",
    "    def __init__(self,ingredients=None):\n",
    "        self.ingredients=ingredients\n",
    "        self.order_number=Pizza.order_count+1\n",
    "        Pizza.order_count=self.order_number\n",
    "        \n",
    "    def hawaiian(self):\n",
    "        self.ingredients = ['ham', 'pineapple']\n",
    "    def meat_festival(self):\n",
    "        self.ingredients = ['beef', 'meatball', 'bacon']\n",
    "    def garden_feast(self):\n",
    "        self.ingredients = ['spinach', 'olives', 'mushroom']\n",
    "p1 = Pizza([\"bacon\", \"parmesan\", \"ham\"])\n",
    "p2=Pizza()\n",
    "p2.garden_feast()\n",
    "print(p1.ingredients)\n",
    "print(p2.ingredients)\n",
    "print(p1.order_number)\n",
    "print(p2.order_number)"
   ]
  }
 ],
 "metadata": {
  "kernelspec": {
   "display_name": "Python 3 (ipykernel)",
   "language": "python",
   "name": "python3"
  },
  "language_info": {
   "codemirror_mode": {
    "name": "ipython",
    "version": 3
   },
   "file_extension": ".py",
   "mimetype": "text/x-python",
   "name": "python",
   "nbconvert_exporter": "python",
   "pygments_lexer": "ipython3",
   "version": "3.7.6"
  }
 },
 "nbformat": 4,
 "nbformat_minor": 4
}
