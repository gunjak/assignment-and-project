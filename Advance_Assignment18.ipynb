{
 "cells": [
  {
   "cell_type": "markdown",
   "metadata": {},
   "source": [
    "# Describe the differences between text and binary files in a single paragraph."
   ]
  },
  {
   "cell_type": "code",
   "execution_count": null,
   "metadata": {},
   "outputs": [],
   "source": [
    "Text File:\n",
    "\n",
    "Bits represent character.\n",
    "Less prone to get corrupt as changes reflect as soon as the file is opened and can easily be undone.\n",
    "Can store only plain text in a file.\n",
    "Widely used file format and can be opened using any simple text editor.\n",
    "Mostly .txt and .rtf are used as extensions to text files.\n",
    "Easy for human to read it.\n",
    "Binary File:\n",
    "\n",
    "Bits represent a custom data.\n",
    "Can easily get corrupted, even a single bit change may corrupt the file.\n",
    "Can store different types of data (image, audio, text) in a single file.\n",
    "Developed especially for an application and may not be understood by other applications.\n",
    "Can have any application defined extension."
   ]
  },
  {
   "cell_type": "markdown",
   "metadata": {},
   "source": [
    "# What are some scenarios where using text files will be the better option? When would you like to use binary files instead of text files?"
   ]
  },
  {
   "cell_type": "code",
   "execution_count": null,
   "metadata": {},
   "outputs": [],
   "source": [
    "Text file: When we wan to store some information in such a way that every one can easily understand. Means readable and \n",
    "    understood by the human not to the machine then in that case we prefer using text file. We can store any kind of information\n",
    "    by using just simply writing the characters. We do not write the information in the form of bits and all. So that if any \n",
    "    thing is written wrong in that and cause some erro then it can be easily handle.\n",
    "\n",
    "Binary file: When we want to make some kind of a file which can only read by the machine not by the human then we use binary \n",
    "    file. With this file we can store the information in bits. We can only be able to see the final functionality of the file \n",
    "    like pdf file, audio file, video files, etc. We can only see the fina function but do not see the available data inside that\n",
    "    which helped in maing that application."
   ]
  },
  {
   "cell_type": "markdown",
   "metadata": {},
   "source": [
    "# What are some of the issues with using binary operations to read and write a Python integer directly to disc?"
   ]
  },
  {
   "cell_type": "code",
   "execution_count": null,
   "metadata": {},
   "outputs": [],
   "source": [
    "While reading,read method returns a sequence of bytes as a string. With using binary operaions i.e. using bitwise operator the \n",
    "integers are first converted into binary and then operations are performed on bit by bit. This is a very lengthy task from usual\n",
    "steps. More over it is not possible for a reader to read the integers in binary format."
   ]
  },
  {
   "cell_type": "markdown",
   "metadata": {},
   "source": [
    "# Describe a benefit of using the with keyword instead of explicitly opening a file."
   ]
  },
  {
   "cell_type": "code",
   "execution_count": null,
   "metadata": {},
   "outputs": [],
   "source": [
    "with keyword is very useful while working with a file. This gives u a privellage that u dnt need to worry about closing the file\n",
    "after the work is completed.\n",
    "\n",
    "Sometimes it happen that we have written a long codes and we somehow we forgot to close the file. This may lead to error with \n",
    "the file so we use with keyword.\n",
    "\n",
    "The with statement itself ensures proper acquisition and release of resources"
   ]
  },
  {
   "cell_type": "markdown",
   "metadata": {},
   "source": [
    "# Does Python have the trailing newline while reading a line of text? Does Python append a newline when you write a line of text?"
   ]
  },
  {
   "cell_type": "code",
   "execution_count": null,
   "metadata": {},
   "outputs": [],
   "source": [
    "read line: Yes while reading a line using object.read() function everynew line will be readed\n",
    "\n",
    "write line: No it does not append a new line. It will just write the new data side by side. If we use 'w' as a mode then this \n",
    "    will truncate the everyline if available there in the file and write the new text which we have given. And again if we give\n",
    "    the new text more than one time in the same code, it will get append to the next right.\n",
    "\n",
    "with open('file.txt') as r:\n",
    "    d=r.read()\n",
    "    print(d)\n",
    "    \n",
    "with open('filess.txt','a',newline='\\n') as w:\n",
    "    w.write('ineron')\n",
    "    w.write(\"Data Science\")"
   ]
  },
  {
   "cell_type": "markdown",
   "metadata": {},
   "source": [
    "# What file operations enable for random-access operation?"
   ]
  },
  {
   "cell_type": "code",
   "execution_count": null,
   "metadata": {},
   "outputs": [],
   "source": [
    "RandomAccess File class is used for reading and writing to random access file.\n",
    "\n",
    "read and write file handling operation enable random access operations. With these operations, random access file allows you to \n",
    "read and write a small chunk of data at any position in the file, using a file pointer.\n",
    "\n",
    "Following are some of the file operations:\n",
    "\n",
    "close(): It closes this random access fle stream and releases any system resources associated with the stream.\n",
    "write(): It writes the specifed byte to this fle\n",
    "read(): It reads a byte of data from this fle.\n",
    "length(): It returns the length of this fle\n",
    "seek(long pos): moves the file pointer to a specified position in the file. The offset is measured in bytes from the beginning \n",
    "of the file. At this position, the next read or write occurs."
   ]
  },
  {
   "cell_type": "markdown",
   "metadata": {},
   "source": [
    "# When do you think you'll use the struct package the most?"
   ]
  },
  {
   "cell_type": "code",
   "execution_count": null,
   "metadata": {},
   "outputs": [],
   "source": [
    "Whenever suppose we need to convert the data types (like string and number) into string of bytes we use struct module.\n",
    "\n",
    "When we need to parse the binary files of data stored in C into python we generally used this module"
   ]
  },
  {
   "cell_type": "markdown",
   "metadata": {},
   "source": [
    "# When is pickling the best option?"
   ]
  },
  {
   "cell_type": "code",
   "execution_count": null,
   "metadata": {},
   "outputs": [],
   "source": [
    "pickling is storing some data in the binary form to further functionality or operation of application. The data gets converted \n",
    "into binary format by suing pickle module. It best when we are creating some application like AI application and then we need\n",
    "to load it for deployment."
   ]
  },
  {
   "cell_type": "markdown",
   "metadata": {},
   "source": [
    "# When will it be best to use the shelve package?"
   ]
  },
  {
   "cell_type": "code",
   "execution_count": null,
   "metadata": {},
   "outputs": [],
   "source": [
    "When we need to store the data in constant/continuos manner such that we do not require the relational data base, then we use \n",
    "shelve package. The shelf object defined in this module is dictionary-like object which is persistently stored in a disk file. \n",
    "This creates a file similar to dbm database. Only string data type can be used as key in this special dictionary object."
   ]
  },
  {
   "cell_type": "markdown",
   "metadata": {},
   "source": [
    "# What is a special restriction when using the shelve package, as opposed to using other data dictionaries?"
   ]
  },
  {
   "cell_type": "code",
   "execution_count": null,
   "metadata": {},
   "outputs": [],
   "source": [
    "One Restriction of shelve objects is that the keys to the objects must be strings, but the values stored in a shelve object can \n",
    "be any Python object, as long as it can be written with the pickle module"
   ]
  }
 ],
 "metadata": {
  "kernelspec": {
   "display_name": "Python 3 (ipykernel)",
   "language": "python",
   "name": "python3"
  },
  "language_info": {
   "codemirror_mode": {
    "name": "ipython",
    "version": 3
   },
   "file_extension": ".py",
   "mimetype": "text/x-python",
   "name": "python",
   "nbconvert_exporter": "python",
   "pygments_lexer": "ipython3",
   "version": "3.7.6"
  }
 },
 "nbformat": 4,
 "nbformat_minor": 4
}
