{
 "cells": [
  {
   "cell_type": "code",
   "execution_count": 3,
   "metadata": {},
   "outputs": [],
   "source": [
    "def st_1(st,k):\n",
    "    \"\"\"this function return word  whose length greater than k\"\"\"\n",
    "    try:\n",
    "        if type(st)==string and type(k)==int:\n",
    "            l=[]\n",
    "            for i in st.split():\n",
    "                 if len(i)>k:\n",
    "                    l.append(i)\n",
    "        return l \n",
    "    except:\n",
    "        print('invalid argument')"
   ]
  },
  {
   "cell_type": "code",
   "execution_count": 15,
   "metadata": {},
   "outputs": [],
   "source": [
    "def st_2(st,i):\n",
    "    \"\"\"this function remove ith element from string\"\"\" \n",
    "    try:\n",
    "        if type(st)==str and type(i)==int :\n",
    "            st.replace(s[i],\"\",1)\n",
    "        return s\n",
    "    except:\n",
    "        print('invalid argument')"
   ]
  },
  {
   "cell_type": "code",
   "execution_count": 26,
   "metadata": {},
   "outputs": [],
   "source": [
    "def st_3(st):\n",
    "    \"\"\"this function print split and join of string\"\"\"\n",
    "    try:\n",
    "        if type(st)==str:\n",
    "            l=st.split()\n",
    "            print(l)\n",
    "            print(\" \".join(l))\n",
    "    except:\n",
    "        print(\"invalid argument\")"
   ]
  },
  {
   "cell_type": "code",
   "execution_count": 47,
   "metadata": {},
   "outputs": [],
   "source": [
    "def st_4(st):\n",
    "    \"\"\"this fuction check binary or not\"\"\"\n",
    "    try:\n",
    "        if type(st)==str:\n",
    "            for i in st:\n",
    "                if i!='0' and i!='1':\n",
    "                    return False\n",
    "        return True\n",
    "    except:\n",
    "        print(\"something wrong\")\n",
    "                "
   ]
  },
  {
   "cell_type": "code",
   "execution_count": 57,
   "metadata": {},
   "outputs": [],
   "source": [
    "def st_5(st,stri):\n",
    "    \"\"\" this function return uncommon words\"\"\"\n",
    "    try:\n",
    "        if type(st)==str and type(stri)==str:\n",
    "            st,stri=st.split(),stri.split()\n",
    "            set_1,set_2=set(st),set(stri)\n",
    "            return  set_1.symmetric_difference(set_2)\n",
    "    except:\n",
    "        print(\"something wrong\")"
   ]
  },
  {
   "cell_type": "code",
   "execution_count": 53,
   "metadata": {},
   "outputs": [],
   "source": [
    "def st_6(st,stri):\n",
    "    \"\"\" this function return common characters\"\"\"\n",
    "    try:\n",
    "        if type(st)==str and type(stri)==str:\n",
    "            set_1,set_2=set(st),set(stri)\n",
    "            return  set_1.intersection(set_2)\n",
    "    except:\n",
    "        print(\"something wrong\")"
   ]
  },
  {
   "cell_type": "code",
   "execution_count": 23,
   "metadata": {},
   "outputs": [],
   "source": [
    "def st_7(st):\n",
    "    \"\"\"this function check if string contain special character or not\"\"\"\n",
    "    try:\n",
    "        if type(st)==str:\n",
    "            s=\"\".join(st.split())\n",
    "            if s.isalnum():\n",
    "                return False\n",
    "            else:\n",
    "                return True\n",
    "    except:\n",
    "        print(\"something wrong\")"
   ]
  }
 ],
 "metadata": {
  "kernelspec": {
   "display_name": "Python 3",
   "language": "python",
   "name": "python3"
  },
  "language_info": {
   "codemirror_mode": {
    "name": "ipython",
    "version": 3
   },
   "file_extension": ".py",
   "mimetype": "text/x-python",
   "name": "python",
   "nbconvert_exporter": "python",
   "pygments_lexer": "ipython3",
   "version": "3.7.6"
  }
 },
 "nbformat": 4,
 "nbformat_minor": 4
}
