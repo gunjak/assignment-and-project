{
 "cells": [
  {
   "cell_type": "code",
   "execution_count": null,
   "metadata": {},
   "outputs": [],
   "source": [
    "try:\n",
    "    def stutter(st):\n",
    "        return 2*(st[:2]+\"...\")+st+\"?\"\n",
    "except:\n",
    "    print(\"error\")\n",
    "stutter('incredible')    "
   ]
  },
  {
   "cell_type": "code",
   "execution_count": null,
   "metadata": {},
   "outputs": [],
   "source": [
    "import math\n",
    "print(round(math.degrees(float(input())),1))"
   ]
  },
  {
   "cell_type": "code",
   "execution_count": null,
   "metadata": {},
   "outputs": [],
   "source": [
    "try:\n",
    "    def is_curzon(n):\n",
    "        \"\"\"this function checks the number is curzon or not\"\"\"\n",
    "        if (2**n+1)%(2*n+1)==0:\n",
    "            return True\n",
    "        else:\n",
    "            return False\n",
    "except:\n",
    "    print(\"error\")\n",
    "print(is_curzon(int(input())) )       \n",
    "        "
   ]
  },
  {
   "cell_type": "code",
   "execution_count": null,
   "metadata": {},
   "outputs": [],
   "source": [
    "import math\n",
    "print(round((pow(float(input()),2)*3*math.sqrt(3))/2,1))"
   ]
  },
  {
   "cell_type": "code",
   "execution_count": null,
   "metadata": {},
   "outputs": [],
   "source": [
    "try:\n",
    "    def bin(num):\n",
    "        \"\"\"this function return binary of given number\"\"\"\n",
    "        s=\"\"\n",
    "        while(num>1):\n",
    "            s=s+str(num%2)\n",
    "            num=num//2\n",
    "        bin=s+str(num)\n",
    "        return bin[::-1]\n",
    "except EXCEPTION as e:\n",
    "    print(e)\n",
    "print(bin(int(input())))        "
   ]
  },
  {
   "cell_type": "code",
   "execution_count": null,
   "metadata": {},
   "outputs": [],
   "source": []
  }
 ],
 "metadata": {
  "kernelspec": {
   "display_name": "Python 3",
   "language": "python",
   "name": "python3"
  },
  "language_info": {
   "codemirror_mode": {
    "name": "ipython",
    "version": 3
   },
   "file_extension": ".py",
   "mimetype": "text/x-python",
   "name": "python",
   "nbconvert_exporter": "python",
   "pygments_lexer": "ipython3",
   "version": "3.7.6"
  }
 },
 "nbformat": 4,
 "nbformat_minor": 4
}
