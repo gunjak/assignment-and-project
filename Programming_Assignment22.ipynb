{
 "cells": [
  {
   "cell_type": "code",
   "execution_count": null,
   "metadata": {},
   "outputs": [],
   "source": [
    "def list_operation(x,y,n):\n",
    "    try:\n",
    "        \"\"\"Return an ordered list with numbers in the range x and y that are divisible by the third parameter n.\"\"\"\n",
    "        return [i for i in range(x,y) if i%n==0]\n",
    "    except Exception as e:\n",
    "        print(e)\n",
    "            \n",
    "                "
   ]
  },
  {
   "cell_type": "code",
   "execution_count": null,
   "metadata": {},
   "outputs": [],
   "source": [
    "def simon_says(lis_1,lis_2):\n",
    "    try:\n",
    "        \"\"\"this function  takes in two lists and returns True if the second list follows the first list\n",
    "        by one element, and False otherwise.\"\"\"\n",
    "        if type(lis_1)==list and type(lis_2)==list:\n",
    "            lis_1,lis_2=lis_1[:-1],lis_2[1:]\n",
    "            for i in range(len(lis_1)):\n",
    "                if lis_1[i]!=lis_2[i]:\n",
    "                    return False\n",
    "            return True    \n",
    "    except Exception as e:\n",
    "        print(e)     "
   ]
  },
  {
   "cell_type": "code",
   "execution_count": null,
   "metadata": {},
   "outputs": [],
   "source": [
    "def society_name(l):\n",
    "    try:\n",
    "        \"\"\"takes list of string and return first letter of\n",
    "           each of the string, sorted in alphabetical order.\"\"\"\n",
    "        if type(l)==list:\n",
    "            l=sorted([i[0] for i in l])\n",
    "            return \"\".join(l)\n",
    "    except Exception as e:\n",
    "        print(e)     "
   ]
  },
  {
   "cell_type": "code",
   "execution_count": null,
   "metadata": {},
   "outputs": [],
   "source": [
    "def is_isogram(st):\n",
    "    \"\"\" check a word has no duplicate letters.\n",
    "    st-->string\"\"\"\n",
    "    if len(set(st.upper()))==len(st):\n",
    "        return True\n",
    "    else:\n",
    "        return False"
   ]
  },
  {
   "cell_type": "code",
   "execution_count": null,
   "metadata": {},
   "outputs": [],
   "source": [
    "def is_in_order(st):\n",
    "    try:\n",
    "        \"\"\"function  takes a string and returns True or False, depending on whether the\n",
    "         characters are in order or not.\"\"\"\n",
    "        if type(st)==str and st!=\"\":\n",
    "            if list(st)==sorted(st):\n",
    "                return True\n",
    "            else:\n",
    "                return False\n",
    "    except Exception as e:\n",
    "        print(e)     \n",
    "        "
   ]
  }
 ],
 "metadata": {
  "kernelspec": {
   "display_name": "Python 3",
   "language": "python",
   "name": "python3"
  },
  "language_info": {
   "codemirror_mode": {
    "name": "ipython",
    "version": 3
   },
   "file_extension": ".py",
   "mimetype": "text/x-python",
   "name": "python",
   "nbconvert_exporter": "python",
   "pygments_lexer": "ipython3",
   "version": "3.7.6"
  }
 },
 "nbformat": 4,
 "nbformat_minor": 4
}
