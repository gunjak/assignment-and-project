{
 "cells": [
  {
   "cell_type": "code",
   "execution_count": 37,
   "metadata": {},
   "outputs": [],
   "source": [
    "import numpy\n",
    "def iscomposite(num):\n",
    "    for i in range(2,num//2+1):\n",
    "        if num%i==0:\n",
    "            return True\n",
    "    return False\n",
    "def lcm(num1,num2):\n",
    "    \"\"\"this function return lcm of two given number \"\"\"\n",
    "    b,c=2,2\n",
    "    Lcm=[]\n",
    "    l1=[]\n",
    "    l2=[]\n",
    "    while(iscomposite(num1)):\n",
    "        if num1%b==0:\n",
    "            l1.append(b)\n",
    "            num1=num1//b\n",
    "        else:\n",
    "            b=b+1\n",
    "    l1.append(num1) \n",
    "    while(iscomposite(num2)):\n",
    "        if num2%c==0:\n",
    "            l2.append(c)\n",
    "            num2=num2//c\n",
    "        else:\n",
    "            c=c+1\n",
    "    l2.append(num2) \n",
    "    l=l1[:]\n",
    "    for i in l:\n",
    "        if i in l2:\n",
    "            Lcm.append(i)\n",
    "            l1.remove(i)\n",
    "            l2.remove(i)\n",
    "    return numpy.prod(l1+l2+Lcm)        \n",
    "            \n",
    "    "
   ]
  },
  {
   "cell_type": "code",
   "execution_count": 43,
   "metadata": {},
   "outputs": [],
   "source": [
    "import numpy\n",
    "def iscomposite(num):\n",
    "    for i in range(2,num//2+1):\n",
    "        if num%i==0:\n",
    "            return True\n",
    "    return False\n",
    "def hcf(num1,num2):\n",
    "    \"\"\"this function return hcf of two number  \"\"\"\n",
    "    b,c=2,2\n",
    "    Hcf=[1]\n",
    "    l1=[]\n",
    "    l2=[]\n",
    "    while(iscomposite(num1)):\n",
    "        if num1%b==0:\n",
    "            l1.append(b)\n",
    "            num1=num1//b\n",
    "        else:\n",
    "            b=b+1\n",
    "    l1.append(num1) \n",
    "    while(iscomposite(num2)):\n",
    "        if num2%c==0:\n",
    "            l2.append(c)\n",
    "            num2=num2//c\n",
    "        else:\n",
    "            c=c+1\n",
    "    l2.append(num2) \n",
    "    l=l1[:]\n",
    "    for i in l:\n",
    "        if i in l2:\n",
    "            Hcf.append(i)\n",
    "            l1.remove(i)\n",
    "            l2.remove(i)\n",
    "    return numpy.prod(Hcf)        \n",
    "            "
   ]
  },
  {
   "cell_type": "code",
   "execution_count": null,
   "metadata": {},
   "outputs": [],
   "source": [
    "def convert(num):\n",
    "    print(\"Binary of {} is {}\".format(a,bin(a)))\n",
    "    print(\"Octal of {} is {}\".format(a,oct(a)))\n",
    "    print(\"Hexadecimal of {} is {}\".format(a,hex(a)))"
   ]
  },
  {
   "cell_type": "code",
   "execution_count": null,
   "metadata": {},
   "outputs": [],
   "source": [
    "b=str((input(\"Enter a Character:\")))\n",
    "print(\"ASCII value of {} is {}\".format(b,ord(b)))"
   ]
  },
  {
   "cell_type": "code",
   "execution_count": null,
   "metadata": {},
   "outputs": [],
   "source": [
    "def add(a,b):\n",
    "    return a+b\n",
    "def sub(a,b):\n",
    "    return a-b\n",
    "def mul(a,b):\n",
    "    return a*b\n",
    "def dev(a,b):\n",
    "    return a/b\n",
    "operation=input(\"select add/subtract/multiply/divide\\n\")\n",
    "a=int(input(\"enter a number\"))\n",
    "b=int(input(\"enter a number\"))\n",
    "if operation=='add':\n",
    "    print(add(a,b))\n",
    "elif operation=='subtract':\n",
    "    print(sub(a,b))\n",
    "elif operation=='multiply':\n",
    "    print(mul(a,b))\n",
    "if operation=='divide':\n",
    "    print(dev(a,b) )   "
   ]
  }
 ],
 "metadata": {
  "kernelspec": {
   "display_name": "Python 3",
   "language": "python",
   "name": "python3"
  },
  "language_info": {
   "codemirror_mode": {
    "name": "ipython",
    "version": 3
   },
   "file_extension": ".py",
   "mimetype": "text/x-python",
   "name": "python",
   "nbconvert_exporter": "python",
   "pygments_lexer": "ipython3",
   "version": "3.7.6"
  }
 },
 "nbformat": 4,
 "nbformat_minor": 4
}
