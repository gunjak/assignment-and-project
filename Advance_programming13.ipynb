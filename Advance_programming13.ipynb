{
 "cells": [
  {
   "cell_type": "markdown",
   "metadata": {},
   "source": [
    "# Create a function that takes a list and string. The function should remove the letters in the string from the list, and return the list."
   ]
  },
  {
   "cell_type": "code",
   "execution_count": null,
   "metadata": {},
   "outputs": [],
   "source": [
    "def remove_letters(lis,st):\n",
    "    try:\n",
    "        for i in range(len(st)):\n",
    "            if st[i] in lis:\n",
    "                lis.remove(st[i])\n",
    "        return lis\n",
    "    except Exception as e:\n",
    "        print(e)\n",
    "    \n",
    "remove_letters(['s','t','g','r','i','n','w'],'string')            \n",
    "            "
   ]
  },
  {
   "cell_type": "markdown",
   "metadata": {},
   "source": [
    "# A block sequence in three dimensions. We can write a formula for this one:Create a function that takes a number (step) as an argument and returns the amount of blocks in that step."
   ]
  },
  {
   "cell_type": "code",
   "execution_count": null,
   "metadata": {},
   "outputs": [],
   "source": [
    "def blocks(num):\n",
    "    sq=3*num-1\n",
    "    ver=3\n",
    "    for i in range(num):\n",
    "        sq=sq+ver\n",
    "        print(ver)\n",
    "        ver+=1\n",
    "    return sq\n",
    "blocks(3)"
   ]
  },
  {
   "cell_type": "markdown",
   "metadata": {},
   "source": [
    "# Create a function that subtracts one positive integer from another, withoutusing any arithmetic operators such as -, %, /, +, etc."
   ]
  },
  {
   "cell_type": "code",
   "execution_count": null,
   "metadata": {},
   "outputs": [],
   "source": [
    "def my_sub(a,b):\n",
    "    ma,mi=max(a,b),min(a,b)\n",
    "    if a!=b:\n",
    "        for i in range(mi):\n",
    "            ma-=1\n",
    "        return ma \n",
    "    else :\n",
    "        return a\n",
    "print(my_sub(5,9))\n",
    "print(my_sub(12,4))"
   ]
  },
  {
   "cell_type": "markdown",
   "metadata": {},
   "source": [
    "# Create a function that takes a string containing money in dollars and pounds sterling (seperated by comma) and returns the sum of dollar bills only,as an integer.For the input string:- Each amount is prefixed by thecurrencysymbol:\n",
    "$fordollars and £ for\n",
    "pounds.\n",
    "- Thousands are represented by the suffix k.\n",
    "i.e. $4k = $4,000 and £40k = £40,000"
   ]
  },
  {
   "cell_type": "code",
   "execution_count": null,
   "metadata": {},
   "outputs": [],
   "source": [
    "def add_bill(lis):\n",
    "    add=0\n",
    "    for i in lis:\n",
    "        if i[0]=='d':\n",
    "            add=add+int(i[1:])\n",
    "    return add       \n",
    "add_bill(['d20','d40','p50','d60'])        "
   ]
  },
  {
   "cell_type": "markdown",
   "metadata": {},
   "source": [
    "# Create a function that flips a horizontal list into a vertical list, and a vertical list into a horizontal list.In other words, take an 1 x n list (1 row + n columns) and flip it into a n x 1 list (n rows and 1 column), and vice versa."
   ]
  },
  {
   "cell_type": "code",
   "execution_count": null,
   "metadata": {},
   "outputs": [],
   "source": [
    "def flip_list(lis):\n",
    "    s=[]\n",
    "    for i in lis:\n",
    "        if type(i)==list:\n",
    "            s.append(int(i[0]))\n",
    "        else:\n",
    "            s.append([i])\n",
    "    return s        \n",
    "print(flip_list([0, 2, 4, 3, 5]))   \n",
    "print(flip_list([[5], [6], [9]]))\n",
    "print(flip_list([]))"
   ]
  }
 ],
 "metadata": {
  "kernelspec": {
   "display_name": "Python 3 (ipykernel)",
   "language": "python",
   "name": "python3"
  },
  "language_info": {
   "codemirror_mode": {
    "name": "ipython",
    "version": 3
   },
   "file_extension": ".py",
   "mimetype": "text/x-python",
   "name": "python",
   "nbconvert_exporter": "python",
   "pygments_lexer": "ipython3",
   "version": "3.7.6"
  }
 },
 "nbformat": 4,
 "nbformat_minor": 4
}
