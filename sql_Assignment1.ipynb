{
 "cells": [
  {
   "cell_type": "code",
   "execution_count": null,
   "metadata": {},
   "outputs": [],
   "source": [
    "\"\"\"Write an SQL query to fetch “FIRST_NAME” from Worker table using the alias\n",
    "name as WORKER_NAME\"\"\"\n",
    "SELECT FIRST_NAME as WORKER_NAME\n",
    "FROM Worker;"
   ]
  },
  {
   "cell_type": "code",
   "execution_count": null,
   "metadata": {},
   "outputs": [],
   "source": [
    "\"\"\"an SQL query to fetch unique values of DEPARTMENT from Worker table.\"\"\"\n",
    "SELECT DISTINCT DEPARTMENT\n",
    "FROM Worker;"
   ]
  },
  {
   "cell_type": "code",
   "execution_count": null,
   "metadata": {},
   "outputs": [],
   "source": [
    "\"\"\"an SQL query to show the last 5 record from a table.\"\"\"\n",
    "SELECT TOP 5 *\n",
    "FROM Worker\n",
    "ORDER BY ID DESC;"
   ]
  }
 ],
 "metadata": {
  "kernelspec": {
   "display_name": "Python 3",
   "language": "python",
   "name": "python3"
  },
  "language_info": {
   "codemirror_mode": {
    "name": "ipython",
    "version": 3
   },
   "file_extension": ".py",
   "mimetype": "text/x-python",
   "name": "python",
   "nbconvert_exporter": "python",
   "pygments_lexer": "ipython3",
   "version": "3.7.6"
  }
 },
 "nbformat": 4,
 "nbformat_minor": 4
}
