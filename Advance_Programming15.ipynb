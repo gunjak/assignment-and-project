{
 "cells": [
  {
   "cell_type": "markdown",
   "metadata": {},
   "source": [
    "#  Write a function that returns True if a given name can generate an array of words.\n",
    "Examples:\n",
    "anagram(\"Justin Bieber\", [\"injures\", \"ebb\", \"it\"]) ➞ True\n",
    "anagram(\"Natalie Portman\", [\"ornamental\", \"pita\"]) ➞ True\n",
    "anagram(\"Chris Pratt\", [\"chirps\", \"rat\"]) ➞ False\n",
    "# Not all letters are used\n",
    "anagram(\"Jeff Goldblum\", [\"jog\", \"meld\", \"bluffs\"]) ➞ False\n",
    "# \"s\" does not exist in the original name"
   ]
  },
  {
   "cell_type": "code",
   "execution_count": 1,
   "metadata": {},
   "outputs": [
    {
     "name": "stdout",
     "output_type": "stream",
     "text": [
      "True\n",
      "True\n",
      "True\n",
      "False\n"
     ]
    }
   ],
   "source": [
    "def anagram(st,lis):\n",
    "    try:\n",
    "        s1,s2=set(st.lower()),set(lis)\n",
    "        for i in s2:\n",
    "            i=set(i.lower())\n",
    "            if len(i.difference(s1))!=0:\n",
    "                return False\n",
    "        else:\n",
    "            return True\n",
    "    except Exception as e:\n",
    "        print(e)\n",
    "\n",
    "\n",
    "print(anagram(\"Justin Bieber\", [\"injures\", \"ebb\", \"it\"]))        \n",
    "print(anagram(\"Natalie Portman\", [\"ornamental\", \"pita\"]))\n",
    "print(anagram(\"Chris Pratt\", [\"chirps\", \"rat\"]))\n",
    "print(anagram(\"Jeff Goldblum\", [\"jog\", \"meld\", \"bluffs\"]))   "
   ]
  },
  {
   "cell_type": "markdown",
   "metadata": {},
   "source": [
    "# 2. Given an array of users, each defined by an object with the following properties: name, score, reputation create a function\n",
    "    that sorts the array to form the correct leaderboard.\n",
    "The leaderboard takes into consideration the score of each user of course, but an emphasis is put on their reputation\n",
    "in the community, so to get the trueScore, you should add the reputation multiplied by 2 to the score.\n",
    "\n",
    "Once you know the trueScore of each user, sort the array according to it in descending order.\n"
   ]
  },
  {
   "cell_type": "code",
   "execution_count": 3,
   "metadata": {},
   "outputs": [
    {
     "name": "stdout",
     "output_type": "stream",
     "text": [
      "[{'name': 'c', 'score': 175, 'reputation': 30}, {'name': 'b', 'score': 170, 'reputation': 40}, {'name': 'a', 'score': 140, 'reputation': 20}]\n"
     ]
    }
   ],
   "source": [
    "def leaderboards(d):\n",
    "    try:\n",
    "        import operator\n",
    "        for i in d:\n",
    "            i['score']+=i['reputation']*2\n",
    "        return sorted(d,key=operator.itemgetter('score'),reverse=True)   \n",
    "    except Exception as e:\n",
    "        print(e)  \n",
    "print(leaderboards([\n",
    "  { \"name\": \"a\", \"score\": 100, \"reputation\": 20 },\n",
    "  { \"name\": \"b\", \"score\": 90, \"reputation\": 40 },\n",
    "  { \"name\": \"c\", \"score\": 115, \"reputation\": 30 },\n",
    "])) \n"
   ]
  },
  {
   "cell_type": "code",
   "execution_count": null,
   "metadata": {},
   "outputs": [],
   "source": [
    "Create a function that, given a phrase and a number of letters guessed, returns a string with hyphens - for every letter of the \n",
    "phrase not guessed, and each letter guessed in place.\n",
    "Examples:\n",
    "hangman(\"helicopter\", [\"o\", \"e\", \"s\"]) ➞ \"-e---o--e-\"\n",
    "hangman(\"tree\", [\"r\", \"t\", \"e\"]) ➞ \"tree\"\n",
    "hangman(\"Python rules\", [\"a\", \"n\", \"p\", \"r\", \"z\"]) ➞ \"P----n r----\"\n",
    "hangman(\"He\"s a very naughty boy!\", [\"e\", \"a\", \"y\"]) ➞ \"-e\"- a -e-y -a----y –y!\""
   ]
  },
  {
   "cell_type": "code",
   "execution_count": 4,
   "metadata": {},
   "outputs": [
    {
     "name": "stdout",
     "output_type": "stream",
     "text": [
      "-e---o--e-\n",
      "tree\n",
      "P----n-r----\n"
     ]
    }
   ],
   "source": [
    "def hangman(st,lis):\n",
    "    try:\n",
    "        l=[]\n",
    "        for i in st:\n",
    "            if i.lower() not in lis:\n",
    "                l.append(\"-\")\n",
    "            else:\n",
    "                l.append(i)\n",
    "        return \"\".join(l)  \n",
    "    except Exception as e:\n",
    "        print(e)  \n",
    "print(hangman(\"helicopter\", [\"o\", \"e\", \"s\"]))\n",
    "print(hangman(\"tree\", [\"r\", \"t\", \"e\"]))                \n",
    "print(hangman(\"Python rules\", [\"a\", \"n\", \"p\", \"r\", \"z\"]))                "
   ]
  },
  {
   "cell_type": "markdown",
   "metadata": {},
   "source": [
    "# The Collatz sequence is as follows:\n",
    "Start with some given integer n.\n",
    "If it is even, the next number will be n divided by 2.\n",
    "If it is odd, multiply it by 3 and add 1 to make the next number.\n",
    "The sequence stops when it reaches 1.\n",
    "According to the Collatz conjecture, it will always reach 1. If that's true, you can construct a finite sequence \n",
    "following the aforementioned method for any given integer.\n",
    "\n",
    "Write a function that takes in an integer n and returns the highest integer in the corresponding Collatz sequence.\n",
    "\n",
    "Examples:\n",
    "max_collatz(10) ➞ 16\n",
    "# Collatz sequence: 10, 5, 16, 8, 4, 2, 1\n",
    "\n",
    "max_collatz(32) ➞ 32\n",
    "# Collatz sequence: 32, 16, 8, 4, 2, 1\n",
    "\n",
    "max_collatz(85) ➞ 256\n",
    "# Collatz sequence: 85, 256, 128, 64, 32, 16, 8, 4, 2, 1\n"
   ]
  },
  {
   "cell_type": "code",
   "execution_count": 5,
   "metadata": {},
   "outputs": [
    {
     "name": "stdout",
     "output_type": "stream",
     "text": [
      "16\n",
      "32\n",
      "256\n"
     ]
    }
   ],
   "source": [
    "def max_collatz(num):\n",
    "    try:\n",
    "        s=num\n",
    "        while(num!=1):\n",
    "            if num%2==0:\n",
    "                num=num//2\n",
    "            else:\n",
    "                num=3*num+1\n",
    "            if num>s:\n",
    "                s=num    \n",
    "        return s         \n",
    "    except Exception as e:\n",
    "        print(e) \n",
    "print(max_collatz(10))\n",
    "print(max_collatz(32))\n",
    "print(max_collatz(85))"
   ]
  },
  {
   "cell_type": "markdown",
   "metadata": {},
   "source": [
    "# Write a function that sorts a list of integers by their digit length in descending order, then settles ties by sorting numbers \n",
    "with the same digit length in ascending order.\n",
    "Examples:\n",
    "digit_sort([77, 23, 5, 7, 101]) ➞ [101, 23, 77, 5, 7]\n",
    "digit_sort([1, 5, 9, 2, 789, 563, 444]) ➞ [444, 563, 789, 1, 2, 5, 9]\n",
    "digit_sort([53219, 3772, 564, 32, 1]) ➞ [53219, 3772, 564, 32, 1]"
   ]
  },
  {
   "cell_type": "code",
   "execution_count": 6,
   "metadata": {},
   "outputs": [
    {
     "name": "stdout",
     "output_type": "stream",
     "text": [
      "[101, 23, 77, 5, 7]\n",
      "[444, 563, 789, 1, 2, 5, 9]\n",
      "[53219, 3772, 564, 32, 1]\n"
     ]
    }
   ],
   "source": [
    "def digit_sort(lis):\n",
    "    try:\n",
    "        lis.sort(reverse=True)\n",
    "        a=list(map(len,list(map(str,lis))))\n",
    "        s,e,c=a[0],[],[]\n",
    "        for i in range(len(a)):\n",
    "            if s==a[i]:\n",
    "                c.append(lis[i])\n",
    "                c.sort()\n",
    "            else:\n",
    "                e.extend(c)\n",
    "                s=a[i]\n",
    "                c=[lis[i]]\n",
    "        e.extend(c)    \n",
    "        return e        \n",
    "    except Exception as e:\n",
    "        print(e)    \n",
    "print(digit_sort([77, 23, 5, 7, 101])) \n",
    "print(digit_sort([1, 5, 9, 2, 789, 563, 444]))\n",
    "print(digit_sort([53219, 3772, 564, 32, 1]))"
   ]
  }
 ],
 "metadata": {
  "kernelspec": {
   "display_name": "Python 3 (ipykernel)",
   "language": "python",
   "name": "python3"
  },
  "language_info": {
   "codemirror_mode": {
    "name": "ipython",
    "version": 3
   },
   "file_extension": ".py",
   "mimetype": "text/x-python",
   "name": "python",
   "nbconvert_exporter": "python",
   "pygments_lexer": "ipython3",
   "version": "3.7.6"
  }
 },
 "nbformat": 4,
 "nbformat_minor": 4
}
