{
 "cells": [
  {
   "cell_type": "markdown",
   "metadata": {},
   "source": [
    "# 1. What is the distinction between a numpy array and a pandas data frame? Is there a way to convert between the two if there is\n",
    "?\n",
    " Numpy Ndarray provides a lot of convenient and optimized methods for performing several mathematical operations\n",
    " on vectors.\n",
    "\n",
    "Pandas Dataframe is an in-memory 2-dimensional tabular representation of data. In simpler words,\n",
    "\n",
    "Conversion : `Dataframe=pandas.DataFrame(array)`\n",
    "\n",
    "2.What can go wrong when an user enters in a stock-ticker symbol, and how do you handle it?\n",
    "Ticker symbols help investors identify companies when they're doing research or making trades. But, like everything else, these symbols aren't always static. They can change for several different reasons:\n",
    "\n",
    "The company merges with another corporation\n",
    "The company changes its name\n",
    "The company delists from its exchange\n",
    "    \n",
    "3. Identify some of the plotting techniques that are used to produce a stock-market chart ?\n",
    "\n",
    " Bar chart, Line Chart are used for plotting. \n",
    "    \n",
    "4. Why is it essential to print a legend on a stock market chart ?\n",
    "\n",
    "  Legend will help comparison between different stocks, so will be essential on a stock market chart\n",
    "    \n",
    "5. What is the best way to limit the length of a pandas data frame to less than a year ?\n",
    "\n",
    " We can use start and end parameters for that. In start we write the date from where we are starting and at the end \n",
    " we write the end date. SO within this span we can restric the duration.Also we can use the parameters like periods\n",
    " for how much times we need the duration and we can also use the frequency parameter.\n",
    "    \n",
    "6. What is the definition of a 180-day moving average ?\n",
    "\n",
    "The 180-day moving average is represented as a line on charts and represents the average price over the past 180 days\n",
    "The moving average can give traders a sense regarding whether the trend is up or down, while also identifying \n",
    "potential support or resistance areas."
   ]
  }
 ],
 "metadata": {
  "kernelspec": {
   "display_name": "Python 3 (ipykernel)",
   "language": "python",
   "name": "python3"
  },
  "language_info": {
   "codemirror_mode": {
    "name": "ipython",
    "version": 3
   },
   "file_extension": ".py",
   "mimetype": "text/x-python",
   "name": "python",
   "nbconvert_exporter": "python",
   "pygments_lexer": "ipython3",
   "version": "3.7.6"
  }
 },
 "nbformat": 4,
 "nbformat_minor": 4
}
