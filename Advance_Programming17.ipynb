{
 "cells": [
  {
   "cell_type": "markdown",
   "metadata": {},
   "source": [
    "# 1. Create a function that transposes a 2D matrix.\n",
    "Examples:\n",
    "\n",
    "transpose_matrix([\n",
    "  [1, 1, 1],\n",
    "  [2, 2, 2],\n",
    "  [3, 3, 3]\n",
    "]) ➞ [\n",
    "  [1, 2, 3],\n",
    "  [1, 2, 3],\n",
    "  [1, 2, 3]\n",
    "]\n",
    "\n",
    "transpose_matrix([\n",
    "  [5, 5],\n",
    "  [6, 7],\n",
    "  [9, 1]\n",
    "]) ➞ [\n",
    "  [5, 6, 9],\n",
    "  [5, 7, 1]\n",
    "]"
   ]
  },
  {
   "cell_type": "code",
   "execution_count": 1,
   "metadata": {},
   "outputs": [
    {
     "name": "stdout",
     "output_type": "stream",
     "text": [
      "[[1, 2, 3], [1, 2, 3], [1, 2, 3]]\n",
      "[[5, 6, 9], [5, 7, 1]]\n"
     ]
    }
   ],
   "source": [
    "def transpose_matrix(matrix):\n",
    "    try:\n",
    "        n=len(matrix)\n",
    "        m=len(matrix[0])\n",
    "        s,l=[],[]\n",
    "        for i in range(m):\n",
    "            for j in range(n):\n",
    "                s.append(matrix[j][i])\n",
    "            l.append(s)\n",
    "            s=[]\n",
    "        return l    \n",
    "    except Exception as e:\n",
    "        print(e)\n",
    "print(transpose_matrix([\n",
    "[1, 1, 1],\n",
    "[2, 2, 2],\n",
    "[3, 3, 3]\n",
    "]))\n",
    "print(transpose_matrix([\n",
    "[5, 5],\n",
    "[6, 7],\n",
    "[9, 1]\n",
    "]))"
   ]
  },
  {
   "cell_type": "markdown",
   "metadata": {},
   "source": [
    "# 2. Create a function that determines whether a string is a valid hex code.\n",
    "A hex code must begin with a pound key # and is exactly 6 characters in length. Each character must be a digit \n",
    "from 0-9 or an alphabetic character from A-F. All alphabetic characters may be uppercase or lowercase.\n",
    "\n",
    "Examples:\n",
    "is_valid_hex_code(\"#CD5C5C\") ➞ True\n",
    "is_valid_hex_code(\"#EAECEE\") ➞ True\n",
    "is_valid_hex_code(\"#eaecee\") ➞ True\n",
    "\n",
    "is_valid_hex_code(\"#CD5C58C\") ➞ False\n",
    "# Length exceeds 6\n",
    "\n",
    "is_valid_hex_code(\"#CD5C5Z\") ➞ False\n",
    "# Not all alphabetic characters in A-F\n",
    "\n",
    "is_valid_hex_code(\"#CD5C&C\") ➞ False\n",
    "# Contains unacceptable character\n",
    "\n",
    "is_valid_hex_code(\"CD5C5C\") ➞ False\n",
    "# Missing #"
   ]
  },
  {
   "cell_type": "code",
   "execution_count": 2,
   "metadata": {},
   "outputs": [
    {
     "name": "stdout",
     "output_type": "stream",
     "text": [
      "True\n",
      "True\n",
      "True\n",
      "False\n",
      "False\n",
      "False\n"
     ]
    }
   ],
   "source": [
    "def is_valid_hex_code(st):\n",
    "    try:\n",
    "        if len(st)==7:\n",
    "            import re\n",
    "            s=re.findall('#[0-9a-f]+$',st,flags=re.I)\n",
    "            if len(s)==1:\n",
    "                return True\n",
    "            else:\n",
    "                return False\n",
    "        else:\n",
    "            return False\n",
    "    except Exception as e:\n",
    "        print(e)\n",
    "print(is_valid_hex_code('#CD5C5C'))\n",
    "print(is_valid_hex_code('#EAECEE'))\n",
    "print(is_valid_hex_code('#eaecee'))\n",
    "print(is_valid_hex_code('#CD5C58C'))\n",
    "print(is_valid_hex_code('#CD5C5Z'))\n",
    "print(is_valid_hex_code('#CD5C&Z'))\n",
    "                "
   ]
  },
  {
   "cell_type": "markdown",
   "metadata": {},
   "source": [
    "# 5. From point A, an object is moving towards point B at constant velocity va (in km/hr). From point B, another object is moving towards point A at constant velocity vb (in km/hr). Knowing this and the distance between point A and B (in km), write a function that returns how much time passes until both objects meet.\n",
    "Format the output like this: \"2h 23min 34s\"\n",
    "\n",
    "Examples:\n",
    "lets_meet(100, 10, 30) ➞ \"2h 30min 0s\"\n",
    "lets_meet(280, 70, 80) ➞ \"1h 52min 0s\"\n",
    "lets_meet(90, 75, 65) ➞ \"0h 38min 34s\""
   ]
  },
  {
   "cell_type": "code",
   "execution_count": 3,
   "metadata": {},
   "outputs": [
    {
     "name": "stdout",
     "output_type": "stream",
     "text": [
      "2h30min0s\n",
      "1h52min0s\n",
      "0h38min34s\n"
     ]
    }
   ],
   "source": [
    "def lets_meet(dis,sp1,sp2):\n",
    "    try:\n",
    "        import math\n",
    "        time=dis/(sp1+sp2)\n",
    "        hr=math.floor(time)\n",
    "        mi=math.floor((time-hr)*60)\n",
    "        sec=math.floor((((time-hr)*60)-mi)*60)\n",
    "        return str(hr)+\"h\"+str(mi)+\"min\"+str(sec)+\"s\"\n",
    "    except Exception as e:\n",
    "        print(e)\n",
    "        \n",
    "print(lets_meet(100, 10, 30))\n",
    "print(lets_meet(280, 70, 80))\n",
    "print(lets_meet(90, 75, 65))\n",
    "            "
   ]
  },
  {
   "cell_type": "markdown",
   "metadata": {},
   "source": [
    "# 3. Given a list of math equations (given as strings), return the percentage of correct answers as a string. Round to the nearest\n",
    "whole number.\n",
    "Examples:\n",
    "mark_maths([\"2+2=4\", \"3+2=5\", \"10-3=3\", \"5+5=10\"]) ➞ \"75%\"\n",
    "mark_maths([\"1-2=-2\"]), \"0%\"\n",
    "mark_maths([\"2+3=5\", \"4+4=9\", \"3-1=2\"]) ➞ \"67%\""
   ]
  },
  {
   "cell_type": "code",
   "execution_count": 4,
   "metadata": {},
   "outputs": [
    {
     "name": "stdout",
     "output_type": "stream",
     "text": [
      "75%\n",
      "67%\n",
      "0%\n"
     ]
    }
   ],
   "source": [
    "def mark_maths(lis):\n",
    "    try:\n",
    "        Right=0\n",
    "        for i in lis:\n",
    "            if eval(i[:i.index(\"=\")])==int(i[i.index(\"=\")+1:]):\n",
    "                Right+=1        \n",
    "        return str(round(100*(Right/len(lis))))+\"%\"\n",
    "                   \n",
    "    except Exception as e:\n",
    "        print(e)\n",
    "print(mark_maths(['2+2=4','3+2=5','10-3=3','5+5=10']))                    \n",
    "print(mark_maths([\"1+2=3\",'10-3=3',\"5+5=10\"]))\n",
    "print(mark_maths(['1-2=-2']))\n",
    "        \n",
    "    "
   ]
  },
  {
   "cell_type": "markdown",
   "metadata": {},
   "source": [
    "# 5. From point A, an object is moving towards point B at constant velocity va (in km/hr). From point B, another object is moving\n",
    "towards point A at constant velocity vb (in km/hr). Knowing this and the distance between point A and B (in km), write a function that returns how much time passes until both objects meet.\n",
    "Format the output like this: \"2h 23min 34s\"\n",
    "\n",
    "Examples:\n",
    "lets_meet(100, 10, 30) ➞ \"2h 30min 0s\"\n",
    "lets_meet(280, 70, 80) ➞ \"1h 52min 0s\"\n",
    "lets_meet(90, 75, 65) ➞ \"0h 38min 34s\""
   ]
  },
  {
   "cell_type": "code",
   "execution_count": 5,
   "metadata": {},
   "outputs": [
    {
     "name": "stdout",
     "output_type": "stream",
     "text": [
      "False\n",
      "True\n",
      "True\n",
      "False\n"
     ]
    }
   ],
   "source": [
    "def magic_square_game(l1,l2):\n",
    "    try:\n",
    "        row,column=l1[0],l2[0]\n",
    "        Alice,Bob=l1[1],l2[1]\n",
    "        if Alice[column-1]==Bob[row-1]:\n",
    "            return True\n",
    "        else:\n",
    "            return False\n",
    "    except Exception as e:\n",
    "        print(e)   \n",
    "print(magic_square_game([2, \"100\"], [1, \"101\"]) ) \n",
    "print(magic_square_game([2, \"001\"], [1, \"101\"])) \n",
    "print(magic_square_game([3, \"111\"], [2, \"011\"]) )\n",
    "print(magic_square_game([1, \"010\"], [3, \"101\"]) )"
   ]
  }
 ],
 "metadata": {
  "kernelspec": {
   "display_name": "Python 3 (ipykernel)",
   "language": "python",
   "name": "python3"
  },
  "language_info": {
   "codemirror_mode": {
    "name": "ipython",
    "version": 3
   },
   "file_extension": ".py",
   "mimetype": "text/x-python",
   "name": "python",
   "nbconvert_exporter": "python",
   "pygments_lexer": "ipython3",
   "version": "3.7.6"
  }
 },
 "nbformat": 4,
 "nbformat_minor": 4
}
