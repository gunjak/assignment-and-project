{
 "cells": [
  {
   "cell_type": "code",
   "execution_count": null,
   "metadata": {},
   "outputs": [],
   "source": [
    "try:\n",
    "    class mul_7:\n",
    "        \"\"\"this class create generator multiple of 7 in given range\"\"\"\n",
    "        def __init__(self,n):\n",
    "            self.num=n\n",
    "        def gen(self):\n",
    "            for i in num:\n",
    "                if n%7==0:\n",
    "                    yield i\n",
    "except:\n",
    "    print('error')"
   ]
  },
  {
   "cell_type": "code",
   "execution_count": null,
   "metadata": {},
   "outputs": [],
   "source": [
    "try:\n",
    "    def freq(n):\n",
    "        \"\"\"this function returns frequency\"\"\"\n",
    "        from collections import Counter\n",
    "        p=n.split()\n",
    "        p.sort()\n",
    "        return dict(Counter(p))\n",
    "except:\n",
    "    print(\"error\")\n",
    "\n",
    "freq('New to Python or choosing between Python 2 and Python 3? Read Python 2 or Python 3.')"
   ]
  },
  {
   "cell_type": "code",
   "execution_count": null,
   "metadata": {},
   "outputs": [],
   "source": [
    "class Person:\n",
    "    pass\n",
    "class Male(Person):\n",
    "    def getgender(self):\n",
    "        print(\"Male\")\n",
    "class Female(Person):\n",
    "    def getgender(self):\n",
    "        print(\"Female\")\n",
    "obj=Male()\n",
    "obj.getgender()\n",
    "obj_1=Female()\n",
    "obj_1.getgender()"
   ]
  },
  {
   "cell_type": "code",
   "execution_count": null,
   "metadata": {},
   "outputs": [],
   "source": [
    "try:\n",
    "    def bins(l,low,high,sear):\n",
    "        \"\"\"this function return index of given argument\n",
    "        l-->this takes sorted list \n",
    "        low-->it takes lower index\n",
    "        high-->it takes highest index\n",
    "        sear-->it takes number to search\"\"\"\n",
    "        if high>=low:\n",
    "            mid=(low+high)//2\n",
    "            if l[mid]==sear:\n",
    "                return mid\n",
    "            elif l[mid]<sear:\n",
    "                return bins(l,mid+1,high,sear)\n",
    "            else:\n",
    "                return bins(l,low,mid-1,sear)\n",
    "        else:\n",
    "            print(-1)\n",
    "except:\n",
    "    print(\"error\")\n",
    "bins([5,7,8,9],0,3,8 )\n",
    "        "
   ]
  },
  {
   "cell_type": "code",
   "execution_count": null,
   "metadata": {},
   "outputs": [],
   "source": [
    "def fun_1(a,b,c):\n",
    "    \"\"\"fun_1 takes three input as list\"\"\"\n",
    "    try:\n",
    "        from itertools import product\n",
    "        return product(a,b,c)\n",
    "    except:\n",
    "        print(\"error\")\n",
    "for i in fun_1(['I','You'],['play','love'],['hockey','football']):  \n",
    "    print (i)\n"
   ]
  },
  {
   "cell_type": "code",
   "execution_count": null,
   "metadata": {},
   "outputs": [],
   "source": [
    "import zlib\n",
    "s = 'hello world!hello world!hello world!hello world!'.encode()\n",
    "st = zlib.compress(s)\n",
    "print(st)\n",
    "print(zlib.decompress(st))"
   ]
  }
 ],
 "metadata": {
  "kernelspec": {
   "display_name": "Python 3",
   "language": "python",
   "name": "python3"
  },
  "language_info": {
   "codemirror_mode": {
    "name": "ipython",
    "version": 3
   },
   "file_extension": ".py",
   "mimetype": "text/x-python",
   "name": "python",
   "nbconvert_exporter": "python",
   "pygments_lexer": "ipython3",
   "version": "3.7.6"
  }
 },
 "nbformat": 4,
 "nbformat_minor": 4
}
