{
 "cells": [
  {
   "cell_type": "markdown",
   "metadata": {},
   "source": [
    "# 2. Given a 3x3 matrix of a completed tic-tac-toe game, create a function that returns whether the game is a win for \"X\", \"O\", or a \"Draw\", where \"X\" and \"O\" represent themselves on the matrix, and \"E\" represents an empty spot.\n",
    "Examples:\n",
    "tic_tac_toe([\n",
    "  [\"X\", \"O\", \"X\"],\n",
    "  [\"O\", \"X\",  \"O\"],\n",
    "  [\"O\", \"X\",  \"X\"]\n",
    "]) ➞ \"X\"\n",
    "\n",
    "tic_tac_toe([\n",
    "  [\"O\", \"O\", \"O\"],\n",
    "  [\"O\", \"X\", \"X\"],\n",
    "  [\"E\", \"X\", \"X\"]\n",
    "]) ➞ \"O\"\n",
    "\n",
    "tic_tac_toe([\n",
    "  [\"X\", \"X\", \"O\"],\n",
    "  [\"O\", \"O\", \"X\"],\n",
    "  [\"X\", \"X\", \"O\"]\n",
    "]) ➞ \"Draw\""
   ]
  },
  {
   "cell_type": "code",
   "execution_count": null,
   "metadata": {},
   "outputs": [],
   "source": [
    "def tic_tac_toe(lis):\n",
    "    try:\n",
    "        for i in lis:\n",
    "            if len(set(i))==1:\n",
    "                return i[0]\n",
    "        for j in range(3):\n",
    "            l=[]\n",
    "            for k in range(3):\n",
    "                l.append(lis[k][j])\n",
    "            if len(set(l))==1:\n",
    "                return l[0]\n",
    "        diag1,diag2=[lis[0][0],lis[1][1],lis[2][2]],[lis[0][2],lis[1][1],lis[2][0]] \n",
    "        if len(set(diag1))==1:\n",
    "            return diag1[0]\n",
    "        elif len(set(diag2))==1:\n",
    "            return diag2[0]\n",
    "        else:\n",
    "            return 'Draw'\n",
    "    except Exception as e:\n",
    "        print(e)\n",
    "print(tic_tac_toe([[\"X\", \"O\", \"X\"],[\"O\", \"X\", \"O\"],[\"O\", \"X\", \"X\"]]))\n",
    "print(tic_tac_toe([[\"O\", \"O\", \"O\"],[\"O\",\"X\", \"X\"],[\"E\", \"X\", \"X\"]]))\n",
    "print(tic_tac_toe([[\"X\", \"X\", \"O\"],[\"O\", \"O\", \"X\"],[\"X\", \"X\", \"O\"]]))\n",
    "print(tic_tac_toe([[\"X\", \"X\", \"O\"],[\"X\", \"O\", \"X\"],[\"X\", \"O\", \"O\"]]))\n",
    "print(tic_tac_toe([[\"O\", \"O\", \"X\"],[\"O\", \"X\", \"O\"],[\"X\", \"O\", \"O\"]]) )           "
   ]
  },
  {
   "cell_type": "markdown",
   "metadata": {},
   "source": [
    "# 1. Implement a class iterator to flatten a nested list of lists of integers. Each list element is either an integer or a list. There can be many levels of nested lists in lists.\n",
    "The class initializes with a nested list. It also has two methods:\n",
    "\n",
    "next() returns an integer in the order of appearance.\n",
    "hasNext() returns True / False regarding if all integers have been retrieved or not.\n",
    "Write the Class implementation for three required methods.\n",
    "\n",
    "Examples:\n",
    "\n",
    "ni, actual = NestedIterator([[1, 1], 2, [1, 1]]), []\n",
    "while ni.hasNext():\n",
    "    actual.append(ni.next())\n",
    "actual ➞ [1, 1, 2, 1, 1]\n",
    "\n",
    "ni, actual = NestedIterator([1, [4, [6]]]), []\n",
    "while ni.hasNext():\n",
    "    actual.append(ni.next())\n",
    "actual ➞ [1, 4, 6]\n",
    "\n",
    "ni, actual = NestedIterator([[[]], []]), []\n",
    "while ni.hasNext():\n",
    "    actual.append(ni.next()"
   ]
  },
  {
   "cell_type": "code",
   "execution_count": null,
   "metadata": {},
   "outputs": [],
   "source": [
    "class NestedIterator:\n",
    "    def __init__(self,nes_lis):\n",
    "        self.nes_lis=nes_lis\n",
    "        self.flatten=[]\n",
    "        self.flat(self.nes_lis)\n",
    "    def flat(self,nes_lis):\n",
    "        for i in nes_lis:\n",
    "            if type(i)==int:\n",
    "                self.flatten.append(i)\n",
    "            else:\n",
    "                self.flat(i)\n",
    "    def next(self):\n",
    "        return self.flatten.pop(0)\n",
    "    def hasNext(self):\n",
    "        if len(self.flatten)>0:\n",
    "            return True\n",
    "        else:\n",
    "            return False\n",
    "ni, actual = NestedIterator([[1, 1], 2, [1, 1]]), []\n",
    "while ni.hasNext():\n",
    "    actual.append(ni.next())\n",
    "print(actual)    \n",
    "ni, actual = NestedIterator([1, [4, [6]]]), []\n",
    "while ni.hasNext():\n",
    "    actual.append(ni.next())\n",
    "print(actual)    \n",
    "ni, actual = NestedIterator([[[]], []]), []\n",
    "while ni.hasNext():\n",
    "    actual.append(ni.next())    \n",
    "print(actual)    \n",
    "            "
   ]
  },
  {
   "cell_type": "markdown",
   "metadata": {},
   "source": [
    "# 3. Your computer might have been infected by a virus! Create a function that finds the viruses in files and removes them from \n",
    "your computer.\n",
    "Examples:\n",
    "remove_virus(\"PC Files: spotifysetup.exe, virus.exe, dog.jpg\") ➞ \"PC Files: spotifysetup.exe, dog.jpg\"\n",
    "remove_virus(\"PC Files: antivirus.exe, cat.pdf, lethalmalware.exe, dangerousvirus.exe \") ➞ \"PC Files: antivirus.exe, \n",
    "cat.pdf\" remove_virus(\"PC Files: notvirus.exe, funnycat.gif\") ➞ \"PC Files: notvirus.exe, funnycat.gif\")"
   ]
  },
  {
   "cell_type": "markdown",
   "metadata": {},
   "source": [
    "# def remove_virus(files):\n",
    "    try:\n",
    "        good_files=[]\n",
    "        files=files[9:]\n",
    "        for i in files.rsplit(\",\"):\n",
    "            split=i.split('.')\n",
    "            if split[0] not in [' virus' ,' dangerousvirus',' lethalmalware']:\n",
    "                good_files.append(i)\n",
    "        return \"PC Files:\"+\",\".join(good_files)\n",
    "    except Exception as e:\n",
    "        print(e)\n",
    "print(remove_virus('PC Files: spotifysetup.exe, virus.exe, dog.jpg'))\n",
    "print(remove_virus('PC Files: antivirus.exe, cat.pdf, lethalmalware.exe, dangerousvirus.exe'))\n",
    "print(remove_virus('PC Files: notvirus.exe, funnycat.gif'))"
   ]
  },
  {
   "cell_type": "code",
   "execution_count": null,
   "metadata": {},
   "outputs": [],
   "source": [
    "4. In a video game, a meteor will fall toward the main character's home planet. Given the meteor's trajectory as a string in \n",
    "the form y = mx + b and the character's position as a tuple of (x, y), return True if the meteor will hit the character and \n",
    "False if it will not.\n",
    "Examples:\n",
    "will_hit(\"y = 2x - 5\", (0, 0)) ➞ False\n",
    "will_hit(\"y = -4x + 6\", (1, 2)) ➞ True\n",
    "will_hit(\"y = 2x + 6\", (3, 2)) ➞ False"
   ]
  },
  {
   "cell_type": "code",
   "execution_count": null,
   "metadata": {},
   "outputs": [],
   "source": [
    "def will_hit(lin_eq,coord):\n",
    "    try:\n",
    "        eq=lin_eq[4:]\n",
    "        if eval(eq.replace('x',\"*\"+str(coord[0])))==coord[1]:\n",
    "            return True\n",
    "        else:\n",
    "            return False\n",
    "    except Exception as e:\n",
    "        print(e)\n",
    "print(will_hit('y = 2x - 5', (0, 0)))  \n",
    "print(will_hit('y = -4x + 6', (1, 2)))\n",
    "print(will_hit('y = 2x + 6', (3, 2)))"
   ]
  }
 ],
 "metadata": {
  "kernelspec": {
   "display_name": "Python 3 (ipykernel)",
   "language": "python",
   "name": "python3"
  },
  "language_info": {
   "codemirror_mode": {
    "name": "ipython",
    "version": 3
   },
   "file_extension": ".py",
   "mimetype": "text/x-python",
   "name": "python",
   "nbconvert_exporter": "python",
   "pygments_lexer": "ipython3",
   "version": "3.7.6"
  }
 },
 "nbformat": 4,
 "nbformat_minor": 4
}
