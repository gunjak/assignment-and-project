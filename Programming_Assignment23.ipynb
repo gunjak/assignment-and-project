{
 "cells": [
  {
   "cell_type": "code",
   "execution_count": 3,
   "metadata": {},
   "outputs": [],
   "source": [
    "def is_symmetrical(num):\n",
    "    try:\n",
    "        \"\"\"a function  takes a number as an argument and returns True or False depending\n",
    "      on whether the number is symmetrical or not.\"\"\"\n",
    "        if type(num)==int:\n",
    "            if str(num)==str(num)[::-1]:\n",
    "                return True\n",
    "            else:\n",
    "                return False\n",
    "    except Exception as e:\n",
    "        print(e)"
   ]
  },
  {
   "cell_type": "code",
   "execution_count": 20,
   "metadata": {},
   "outputs": [],
   "source": [
    "def multiply_nums(st):\n",
    "    try:\n",
    "        \"\"\"this function takes a string of numbers separated by a comma and space, return the product of the\n",
    "         numbers.\"\"\"\n",
    "        if type(st)==str:\n",
    "            from functools import reduce\n",
    "            return reduce(lambda x,y:x*y,list(map(int,st.rsplit(','))))\n",
    "    except Exception as e:\n",
    "        print(e)    "
   ]
  },
  {
   "cell_type": "code",
   "execution_count": 27,
   "metadata": {},
   "outputs": [],
   "source": [
    "def square_digits(num):\n",
    "    try:\n",
    "        \"\"\"It creates  squares every digit of a number.\"\"\"\n",
    "        if type(num)==int:\n",
    "            s=\"\"\n",
    "            for i in str(num):\n",
    "                s=s+str(int(i)*int(i))\n",
    "            return int(s) \n",
    "    except Exception as e:\n",
    "        print(e)    "
   ]
  },
  {
   "cell_type": "code",
   "execution_count": 32,
   "metadata": {},
   "outputs": [],
   "source": [
    "def setify(lis):\n",
    "    try:\n",
    "        \"\"\"it returns  sorts a list and removes all duplicate items from it.\"\"\"\n",
    "        if type(lis)==list:\n",
    "            return list(set(lis))\n",
    "    except Exception as e:\n",
    "        print(e)        "
   ]
  },
  {
   "cell_type": "code",
   "execution_count": 37,
   "metadata": {},
   "outputs": [],
   "source": [
    "def mean(num):\n",
    "    try:\n",
    "        \"\"\" this function  returns the mean of all digits.\"\"\"\n",
    "        if type(num)==int:\n",
    "            m=0\n",
    "            for j in str(num):\n",
    "                m=m+int(j)\n",
    "            return m//len(str(num))\n",
    "    except Exception as e:\n",
    "        print(e)       "
   ]
  }
 ],
 "metadata": {
  "kernelspec": {
   "display_name": "Python 3",
   "language": "python",
   "name": "python3"
  },
  "language_info": {
   "codemirror_mode": {
    "name": "ipython",
    "version": 3
   },
   "file_extension": ".py",
   "mimetype": "text/x-python",
   "name": "python",
   "nbconvert_exporter": "python",
   "pygments_lexer": "ipython3",
   "version": "3.7.6"
  }
 },
 "nbformat": 4,
 "nbformat_minor": 4
}
