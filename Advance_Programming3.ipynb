{
 "cells": [
  {
   "cell_type": "code",
   "execution_count": null,
   "metadata": {},
   "outputs": [],
   "source": [
    ". Create a function to perform basic arithmetic operations that includes addition, subtraction, multiplication and division on \n",
    "a string number"
   ]
  },
  {
   "cell_type": "code",
   "execution_count": 16,
   "metadata": {},
   "outputs": [],
   "source": [
    "def arithmetic_operation(s):\n",
    "    try:\n",
    "        \"\"\"a function to perform basic arithmetic operations that includes addition, subtraction, multiplication and \n",
    "        division on a string number \"\"\"\n",
    "        l=s.split()\n",
    "        if l[1]==\"+\":\n",
    "            if any([l[0].__contains__(\".\"),l[2].__contains__(\".\")]):\n",
    "                return float(l[0])+float(l[2])\n",
    "            else:\n",
    "                return int(l[0])+int(l[2])\n",
    "        elif l[1]==\"-\":\n",
    "            if any([l[0].__contains__(\".\"),l[2].__contains__(\".\")]):\n",
    "                return float(l[0])-float(l[2])\n",
    "            else:\n",
    "                return int(l[0])-int(l[2])\n",
    "        elif l[1]==\"*\":\n",
    "            if any([l[0].__contains__(\".\"),l[2].__contains__(\".\")]):\n",
    "                return float(l[0])*float(l[2])\n",
    "            else:\n",
    "                return int(l[0])*int(l[2])\n",
    "        elif l[1]==\"//\":\n",
    "            try:\n",
    "                if any([l[0].__contains__(\".\"),l[2].__contains__(\".\")]):\n",
    "                    return float(l[0])+float(l[2])\n",
    "                else:\n",
    "                    return int(l[0])//int(l[2])\n",
    "            except:\n",
    "                return -1\n",
    "    except Exception as e:  \n",
    "        print(e)\n",
    "    \n",
    "    "
   ]
  },
  {
   "cell_type": "code",
   "execution_count": null,
   "metadata": {},
   "outputs": [],
   "source": [
    "Write a function that takes the coordinates of three points in the form of a 2d array and returns the perimeter of the triangle.\n",
    "The given points are the vertices of a triangle on a two-dimensional plane."
   ]
  },
  {
   "cell_type": "code",
   "execution_count": 17,
   "metadata": {},
   "outputs": [],
   "source": [
    "def perimeter(l):\n",
    "    try:\n",
    "        import math\n",
    "        if len(l)==3:\n",
    "            for i in l:\n",
    "                if len(i)==2:\n",
    "                    if type(i[0])==int and type(i[1])==int:\n",
    "                        pass\n",
    "                    else:\n",
    "                        raise Exception(\"invalid\")\n",
    "                else:\n",
    "                    raise Exception(\"invalid\")        \n",
    "        else:\n",
    "            raise Exception(\"invalid\")\n",
    "        AB=math.sqrt(pow(l[0][0]-l[1][0],2)+pow(l[0][1]-l[1][1],2))\n",
    "        BC=math.sqrt(pow(l[1][0]-l[2][0],2)+pow(l[1][1]-l[2][1],2))\n",
    "        CA=math.sqrt(pow(l[0][0]-l[2][0],2)+pow(l[0][1]-l[2][1],2))\n",
    "        return round(AB+BC+CA,2)\n",
    "    except Exception as e:\n",
    "        print(e)    \n",
    "    "
   ]
  },
  {
   "cell_type": "code",
   "execution_count": null,
   "metadata": {},
   "outputs": [],
   "source": [
    "4. A financial institution provides professional services to banks and claims charges from the customers based on the number of\n",
    "man-days provided. Internally, it has set a scheme to motivate and reward staff to meet and exceed targeted billable utilization\n",
    "and revenues by paying a bonus for each day claimed from customers in excess of a threshold target.\n",
    "\n",
    "This quarterly scheme is calculated with a threshold target of 32 days per quarter, and the incentive payment for each billable\n",
    "day in excess of such threshold target is shown as follows:\n",
    "\n",
    "Days\t                             Bonus\n",
    "0 to 32 days\t                   Zero\n",
    "33 to 40 days\t         SGD$325 per billable day\n",
    "41 to 48 days\t         SGD$550 per billable day\n",
    "Greater than 48 days      SGD$600 per billable day\n"
   ]
  },
  {
   "cell_type": "code",
   "execution_count": 20,
   "metadata": {},
   "outputs": [],
   "source": [
    "def bonus(num):\n",
    "    try:\n",
    "        \"\"\"\"\"\"\n",
    "        if num<33 and num>0:\n",
    "            return 0\n",
    "        elif num>32 and num<41:\n",
    "            return (num-32)*325\n",
    "        elif num>40 and num<49:\n",
    "            return (num-40)*550+(8*325)\n",
    "        elif num>48:\n",
    "            return (num-48)*600+(8*550)+(8*325)\n",
    "    except Exception as e:\n",
    "        print(e)        \n",
    "                    \n",
    "        "
   ]
  },
  {
   "cell_type": "code",
   "execution_count": 24,
   "metadata": {},
   "outputs": [],
   "source": [
    "def is_disarium(num):\n",
    "    try:\n",
    "        \"\"\"a function that determines whether a number is a Disarium or not.\"\"\"\n",
    "        n=0\n",
    "        s=str(num)\n",
    "        for i in range(1,len(str(num))+1):\n",
    "            n+=pow(int(s[i-1]),i)\n",
    "        if n==num:\n",
    "            return True\n",
    "        else:\n",
    "            return False\n",
    "    except Exception as e:\n",
    "        print(e)     "
   ]
  },
  {
   "cell_type": "code",
   "execution_count": 7,
   "metadata": {},
   "outputs": [],
   "source": [
    "def tallest_skyscraper(l):\n",
    "    try:\n",
    "        \"\"\"Create a function that takes a skyline (2-D list of 0's and 1's) and returns the height of the tallest skyscraper.\"\"\"\n",
    "        for i in l:\n",
    "            for j in i:\n",
    "                if j!=0 and j!=1:\n",
    "                    raise Exception(\"invalid argument\")\n",
    "        import numpy\n",
    "        s=numpy.array(l)\n",
    "        k=[]\n",
    "        for i in range(len(l)):\n",
    "            k.append(sum(s[:,i]))\n",
    "        return(max(k)) \n",
    "    except Exception as e:\n",
    "        print(e)    "
   ]
  }
 ],
 "metadata": {
  "kernelspec": {
   "display_name": "Python 3 (ipykernel)",
   "language": "python",
   "name": "python3"
  },
  "language_info": {
   "codemirror_mode": {
    "name": "ipython",
    "version": 3
   },
   "file_extension": ".py",
   "mimetype": "text/x-python",
   "name": "python",
   "nbconvert_exporter": "python",
   "pygments_lexer": "ipython3",
   "version": "3.7.6"
  }
 },
 "nbformat": 4,
 "nbformat_minor": 4
}
