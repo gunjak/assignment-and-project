{
 "cells": [
  {
   "cell_type": "code",
   "execution_count": null,
   "metadata": {},
   "outputs": [],
   "source": [
    "def fib_fast(num):\n",
    "    try:\n",
    "        \"\"\"The function fastFib(num) returns the fibonacci number Fn, of the given num\n",
    "        as an argument.\"\"\"\n",
    "        if num==0:\n",
    "            return 0\n",
    "        elif num== 1:\n",
    "            return 1\n",
    "        else:\n",
    "            return fib_fast(num-1)+fib_fast(num-2)\n",
    "    except Exception as e:\n",
    "        print(e)\n",
    "#check\n",
    "print(fib_fast(5))  \n",
    "print(fib_fast(10)) \n",
    "print(fib_fast(20)) \n",
    "print(fib_fast(50)) "
   ]
  },
  {
   "cell_type": "code",
   "execution_count": null,
   "metadata": {},
   "outputs": [],
   "source": [
    "def convert_to_hex(st):\n",
    "    try:\n",
    "        \"\"\"a function that takes a strings characters as ASCII and returns each\n",
    "characters hexadecimal value as a string.\"\"\"\n",
    "        t,s=\"\",\"\"\n",
    "        for i in st:\n",
    "            t=hex(ord(i))\n",
    "            s=s+t[2:]+\" \"\n",
    "        return s    \n",
    "    except Exception as e:\n",
    "        print(e)\n",
    "#check\n",
    "convert_to_hex('hello world')"
   ]
  },
  {
   "cell_type": "code",
   "execution_count": null,
   "metadata": {},
   "outputs": [],
   "source": [
    "def uncensor(s,st):\n",
    "    try:\n",
    "        \"\"\"a censored string and a string of the censored vowels, return the\n",
    "          original uncensored string.\"\"\"\n",
    "        st=iter(st)\n",
    "        new=\"\"\n",
    "        for i in s:\n",
    "            if i=='*':\n",
    "                new=new+next(st)\n",
    "            else:\n",
    "                new=new+i\n",
    "        return new \n",
    "    except Exception as e:\n",
    "        print(e)"
   ]
  },
  {
   "cell_type": "code",
   "execution_count": null,
   "metadata": {},
   "outputs": [],
   "source": [
    "def get_domain(ip_address):\n",
    "    try:\n",
    "        \"\"\"function that takes an IP address and returns the domain name\n",
    "       using PTR DNS records.\"\"\"\n",
    "        import dns.resolver\n",
    "        l=list(dns.resolver.resolve_address(\"8.8.8.8\"))\n",
    "        return l[0]\n",
    "    except Exception as e:\n",
    "        print(e)\n",
    "print(get_domain(\"8.8.8.8\"))"
   ]
  },
  {
   "cell_type": "code",
   "execution_count": null,
   "metadata": {},
   "outputs": [],
   "source": [
    "def fact_of_fact(n):\n",
    "    \"\"\"a function that takes an integer n and returns the factorial of\n",
    "       factorials.\"\"\"\n",
    "    try:\n",
    "        a=1\n",
    "        for i in range(1,n+1):\n",
    "            for j in range(1,i+1):\n",
    "                a=a*j\n",
    "        return a \n",
    "    except Exception as e:\n",
    "        print(e) \n",
    "#check\n",
    "fact_of_fact(3)            "
   ]
  }
 ],
 "metadata": {
  "kernelspec": {
   "display_name": "Python 3",
   "language": "python",
   "name": "python3"
  },
  "language_info": {
   "codemirror_mode": {
    "name": "ipython",
    "version": 3
   },
   "file_extension": ".py",
   "mimetype": "text/x-python",
   "name": "python",
   "nbconvert_exporter": "python",
   "pygments_lexer": "ipython3",
   "version": "3.7.6"
  }
 },
 "nbformat": 4,
 "nbformat_minor": 4
}
