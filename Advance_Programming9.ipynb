{
 "cells": [
  {
   "cell_type": "code",
   "execution_count": null,
   "metadata": {},
   "outputs": [],
   "source": [
    "We needs your help to construct a building which will be a pile of n cubes.\n",
    "The cube at the bottom will have a volume of n^3, the cube above will have\n",
    "volume of (n-1)^3 and so on until the top which will have a volume of 1^3.\n",
    "Given the total volume m of the building, can you find the number of cubes n\n",
    "required for the building?\n",
    "In other words, you have to return an integer n such that:\n",
    "n^3 + (n-1)^3 + ... + 1^3 == m\n",
    "Return None if there is no such number."
   ]
  },
  {
   "cell_type": "code",
   "execution_count": null,
   "metadata": {},
   "outputs": [],
   "source": [
    "def piles_of_cube(num):\n",
    "    try:\n",
    "        c=0\n",
    "        i=0\n",
    "        while(c<num):\n",
    "            i+=1\n",
    "            c=c+pow(i,3)\n",
    "        if c==num:\n",
    "            return i\n",
    "        else:\n",
    "            print('None')\n",
    "    except Exception as e:\n",
    "        print(e)\n",
    "print(pile_of_cubes(1071225))        "
   ]
  },
  {
   "cell_type": "code",
   "execution_count": null,
   "metadata": {},
   "outputs": [],
   "source": [
    "A fulcrum of a list is an integer such that all elements to the left of it and all\n",
    "elements to the right of it sum to the same value. Write a function that finds\n",
    "the fulcrum of a list."
   ]
  },
  {
   "cell_type": "code",
   "execution_count": null,
   "metadata": {},
   "outputs": [],
   "source": [
    "def find_fulcrum(l):\n",
    "    try:\n",
    "        key=None\n",
    "        for i in range(1,len(l)-1):\n",
    "            if sum(l[:i])==sum(l[i+1:]):\n",
    "                key=l[i]\n",
    "                break\n",
    "        if key==None:\n",
    "            return -1\n",
    "        else:\n",
    "            return key\n",
    "    except Exception as e:\n",
    "        print(e) \n",
    "print(find_fulcrum([3, 1, 5, 2, 4, 6, -1]))        "
   ]
  },
  {
   "cell_type": "code",
   "execution_count": null,
   "metadata": {},
   "outputs": [],
   "source": [
    "Given a list of integers representing the color of each sock, determine how\n",
    "many pairs of socks with matching colors there are. For example, there are 7\n",
    "socks with colors [1, 2, 1, 2, 1, 3, 2]. There is one pair of color 1 and one of\n",
    "color 2. There are three odd socks left, one of each color. The number of\n",
    "pairs is 2.\n",
    "Create a function that returns an integer representing the number of matching\n",
    "pairs of socks that are available."
   ]
  },
  {
   "cell_type": "code",
   "execution_count": null,
   "metadata": {},
   "outputs": [],
   "source": [
    "def sock_merchant(l):\n",
    "    try:\n",
    "        s=set(l)\n",
    "        pair=0\n",
    "        for i in s:\n",
    "                pair=pair+l.count(i)//2\n",
    "        return pair\n",
    "    except Exception as e:\n",
    "        print(e)  \n",
    "print(sock_merchant([10, 20, 20, 10, 10, 30, 50, 10, 20]))        "
   ]
  },
  {
   "cell_type": "code",
   "execution_count": null,
   "metadata": {},
   "outputs": [],
   "source": [
    "Create a function that takes a string containing integers as well as other\n",
    "characters and return the sum of the negative integers only."
   ]
  },
  {
   "cell_type": "code",
   "execution_count": null,
   "metadata": {},
   "outputs": [],
   "source": [
    "def negative_sum(st):\n",
    "    try:\n",
    "        import re\n",
    "        return sum(list(map(int,(re.findall(\"(?<=-)\\d*\",st)))))\n",
    "    except Exception as e:\n",
    "        print(e) \n",
    "print(negative_sum('-12 13%14-11'))        "
   ]
  },
  {
   "cell_type": "code",
   "execution_count": null,
   "metadata": {},
   "outputs": [],
   "source": [
    "YouTube offers different playback speed options for users. This allows\n",
    "users to increase or decrease the speed of the video content. Given the\n",
    "actual duration and playback speed of the video, calculate the playback\n",
    "duration of the video."
   ]
  },
  {
   "cell_type": "code",
   "execution_count": null,
   "metadata": {},
   "outputs": [],
   "source": [
    "def playback_duration(st,i):\n",
    "    try:\n",
    "        j=list(map(int,st.rsplit(':')))\n",
    "        hr,mi,s=j[0],j[1],j[2]\n",
    "        t=(hr*60*60+mi*60+s)//i\n",
    "        if t>59:\n",
    "            mi=int(t//60)\n",
    "            s=int(t%60)\n",
    "            if mi>60:\n",
    "                hr=int(mi//60)\n",
    "                mi=mi%60\n",
    "            else:\n",
    "                hr=\"00\"\n",
    "        else:\n",
    "            hr='00'\n",
    "            mi='00'\n",
    "        if len(str(s))==1:\n",
    "            s='0'+str(s) \n",
    "        if len(str(mi))==1:\n",
    "                    mi='0'+str(mi)\n",
    "        if len(str(hr))==1:\n",
    "            hr='0'+str(hr)         \n",
    "        return \":\".join(list(map(str,[hr,mi,s]))) \n",
    "    except Exception as e:\n",
    "        print(e)\n",
    "        \n",
    "print(playback_duration('01:20:00', 1.5)) \n",
    "print(playback_duration('00:30:00', 2))\n",
    "print(playback_duration('51:20:09', 0.5))"
   ]
  }
 ],
 "metadata": {
  "kernelspec": {
   "display_name": "Python 3 (ipykernel)",
   "language": "python",
   "name": "python3"
  },
  "language_info": {
   "codemirror_mode": {
    "name": "ipython",
    "version": 3
   },
   "file_extension": ".py",
   "mimetype": "text/x-python",
   "name": "python",
   "nbconvert_exporter": "python",
   "pygments_lexer": "ipython3",
   "version": "3.7.6"
  }
 },
 "nbformat": 4,
 "nbformat_minor": 4
}
