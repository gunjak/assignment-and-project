{
 "cells": [
  {
   "cell_type": "code",
   "execution_count": null,
   "metadata": {},
   "outputs": [],
   "source": [
    "Q.What are the new features added in Python 3.8 version?\n",
    "A.\n",
    "  1.the walrus operator (:=)\n",
    "     This allows you to assign variables inside an expression.\n",
    "  2.new function parameter syntax (/) to highlight that some of the functions must be stated positionally and not by keyword \n",
    "    arguments. \n",
    "  3.A new C API is introduced to optimize the calls of objects \n",
    "  4.PickleBuffer type for __reduce_ex__ returns out-of-band buffers.\n",
    "    buffer_callback parameter while pickling handles out-of-band data buffers.\n",
    "    buffers parameter while unpickling shows out-of-band data buffers.\n",
    "  5. = operator in f-strings that allows debugging easier  "
   ]
  },
  {
   "cell_type": "code",
   "execution_count": null,
   "metadata": {},
   "outputs": [],
   "source": [
    "Q.What is monkey patching in Python?\n",
    "\n",
    "A. monkey patch is a way for a program to extend or modify supporting system software locally.\n",
    "The term monkey patch refers to  run-time modifications of a class or module. we can actually change the\n",
    "behavior of code at run-time. We use above module (monk) in below code and change behavior of func() at run-time by assigning \n",
    "different value."
   ]
  },
  {
   "cell_type": "code",
   "execution_count": null,
   "metadata": {},
   "outputs": [],
   "source": [
    "Q.What is the difference between a shallow copy and deep copy?\n",
    "\n",
    "A.Deep copy stores copies of the object's value. Shallow Copy reflects changes made to the new/copied object in the original \n",
    "  object. "
   ]
  },
  {
   "cell_type": "code",
   "execution_count": null,
   "metadata": {},
   "outputs": [],
   "source": [
    "Q.What is the maximum possible length of an identifier?\n",
    "\n",
    "A.the maximum possible length of an identifier is 31."
   ]
  },
  {
   "cell_type": "code",
   "execution_count": null,
   "metadata": {},
   "outputs": [],
   "source": [
    "Q.What is generator comprehension?\n",
    "\n",
    "A.Python provides a sleek syntax for defining a simple generator in a single line of code; this expression is known as a \n",
    " generator comprehension."
   ]
  },
  {
   "cell_type": "code",
   "execution_count": null,
   "metadata": {},
   "outputs": [],
   "source": []
  }
 ],
 "metadata": {
  "kernelspec": {
   "display_name": "Python 3 (ipykernel)",
   "language": "python",
   "name": "python3"
  },
  "language_info": {
   "codemirror_mode": {
    "name": "ipython",
    "version": 3
   },
   "file_extension": ".py",
   "mimetype": "text/x-python",
   "name": "python",
   "nbconvert_exporter": "python",
   "pygments_lexer": "ipython3",
   "version": "3.7.6"
  }
 },
 "nbformat": 4,
 "nbformat_minor": 4
}
