{
 "cells": [
  {
   "cell_type": "markdown",
   "metadata": {},
   "source": [
    "# . What is a probability distribution, exactly? If the values are meant to be random, how can you predict them at all ?\n",
    "\n",
    "A probability distribution describes how a random variable is distributed.\n",
    "\n",
    "It tells us which values a random variable is most likely to take on and which values are less likely. \n",
    "Based on the previous data and the occurences of the random event, we can predict the outcome in terms \n",
    "of probabilities.\n",
    "\n",
    "\n",
    "2. Is there a distinction between true random numbers and pseudo-random numbers, if there is one? Why are the latter considered\n",
    "“good enough”?\n",
    "\n",
    "True Random Numbers are true physical values while pseudo-random numbers are generated internally by a program .\n",
    "Latter is considered good enough as they have sort of uniform distribution. \n",
    "3. What are the two main factors that influence the behaviour of a \"normal\" probability distribution ?\n",
    "\n",
    "Normal Probability Distribution are influenced by two factors mean and the variance.\n",
    "\n",
    "4. Provide a real-life example of a normal distribution ?\n",
    "\n",
    "A Real-life example of a normal distribution are heights or blood pressure measurements\n",
    "\n",
    "5. In the short term, how can you expect a probability distribution to behave? What do you think will happen as the number of \n",
    "   trials grows ?\n",
    "    Variance will decrease with number of trials\n",
    "    \n",
    "6. What kind of object can be shuffled by using random.shuffle ?\n",
    "\n",
    "    lists (`list`), strings (`str`) and tuples (`tuple`) objects can be shuffled by using `random.shuffle`.\n",
    "7. Describe the math package's general categories of functions ?\n",
    "\n",
    " Trigonometric functions, Quadratic functions ,Exponential functions, Hyperbolic functions,\n",
    " Periodic functions, Arithmetic functions ,Logarithimic functions , Conversions to Integer\n",
    "8. What is the relationship between exponentiation and logarithms ?\n",
    "\n",
    "Exponentiation and logarithms are inverse of each other.\n",
    "\n",
    "9. What are the three logarithmic functions that Python supports ?\n",
    "\n",
    "log2(x)  - logarithmic value of x to base 2\n",
    "log10(x) - logarithmic value of x to base 10 \n",
    "log1p(a) - This function is used to compute logarithm(1+a) "
   ]
  }
 ],
 "metadata": {
  "kernelspec": {
   "display_name": "Python 3 (ipykernel)",
   "language": "python",
   "name": "python3"
  },
  "language_info": {
   "codemirror_mode": {
    "name": "ipython",
    "version": 3
   },
   "file_extension": ".py",
   "mimetype": "text/x-python",
   "name": "python",
   "nbconvert_exporter": "python",
   "pygments_lexer": "ipython3",
   "version": "3.7.6"
  }
 },
 "nbformat": 4,
 "nbformat_minor": 4
}
