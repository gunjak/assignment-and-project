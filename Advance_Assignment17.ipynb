{
 "cells": [
  {
   "cell_type": "markdown",
   "metadata": {},
   "source": [
    "# 1. Explain the difference between greedy and non-greedy syntax with visual terms in as few words as possible. What is the bare \n",
    "minimum effort required to transform a greedy pattern into a non-greedy one? What characters or characters can you introduce or\n",
    "change?"
   ]
  },
  {
   "cell_type": "code",
   "execution_count": null,
   "metadata": {},
   "outputs": [],
   "source": [
    "The Greedy Match will try to match as many repetitions of the quantified pattern as possible .\n",
    "The Non Greedy Match will try to match as few repetitions of the quantified pattern as possible.\n",
    "import re\n",
    "print(re.findall(\"a*\", \"aaaaa\")) # Greedy Match Synatx\n",
    "print(re.findall(\"a*?\", \"aaaaaa\")) # Non Greddy Syntax"
   ]
  },
  {
   "cell_type": "markdown",
   "metadata": {},
   "source": [
    "# 2. When exactly does greedy versus non-greedy make a difference? What if you're looking for a non-greedy match but the only one\n",
    "available is greedy?"
   ]
  },
  {
   "cell_type": "code",
   "execution_count": null,
   "metadata": {},
   "outputs": [],
   "source": [
    "The Greedy Match will try to match as many repetitions of the quantified pattern as possible\n",
    "    The Non Greedy Match will try to match as few repetitions of the quantified pattern as possible. \n",
    "    If only Non Greedy Match is available, we can use other filtering or pattern matching methods of regex \n",
    "    and further identify the required pattern."
   ]
  },
  {
   "cell_type": "markdown",
   "metadata": {},
   "source": [
    "# 3. In a simple match of a string, which looks only for one match and does not do any replacement, is the use of a nontagged group likely to make any practical difference?\n",
    "    The Non Tagged Group will not make any diffrence "
   ]
  },
  {
   "cell_type": "code",
   "execution_count": null,
   "metadata": {},
   "outputs": [],
   "source": [
    "The Non Tagged Group will not make any diffrence\n",
    "import re\n",
    "phoneNumRegex = re.compile(r'\\d\\d\\d')\n",
    "num = phoneNumRegex.search('My number is 234-567-8901.')\n",
    "print(f'Phone number found    {num.group()}') # Non Tagged group\n",
    "print(f'Phone number found    {num.group(0)}') # Tagged Group"
   ]
  },
  {
   "cell_type": "markdown",
   "metadata": {},
   "source": [
    "# 4. Describe a scenario in which using a nontagged category would have a significant impact on the program's outcomes ?\n",
    "    Here in the below Code Snippet . decimal is not tagged or captured. It will useful in scenarios \n",
    "    where the separator of value in a string is of no use and we need to capture only the values."
   ]
  },
  {
   "cell_type": "code",
   "execution_count": null,
   "metadata": {},
   "outputs": [],
   "source": [
    "# Here in the below Code Snippet . decimal is not tagged or captured. It will useful in scenarios \n",
    "    where the separator of value in a string is of no use and we need to capture only the values.\n",
    "import re\n",
    "text='453.456'\n",
    "pattern=r'(\\d+)(?:.)(\\d+)'\n",
    "regobj=re.compile(pattern)\n",
    "matobj=regobj.search(text)\n",
    "matobj.groups()"
   ]
  },
  {
   "cell_type": "markdown",
   "metadata": {},
   "source": [
    "# 5. Unlike a normal regex pattern, a look-ahead condition does not consume the characters it examines. Describe a situation in \n",
    "which this could make a difference in the results of your programme ?"
   ]
  },
  {
   "cell_type": "code",
   "execution_count": null,
   "metadata": {},
   "outputs": [],
   "source": [
    " While counting the number of multiple lines or mutiple sentence in a string the positive\n",
    "look ahead makes a difference, without which we wont get the correct count of lines or sentences in a string."
   ]
  },
  {
   "cell_type": "markdown",
   "metadata": {},
   "source": [
    "# 6. In standard expressions, what is the difference between positive look-ahead and negative look-ahead ?"
   ]
  },
  {
   "cell_type": "code",
   "execution_count": null,
   "metadata": {},
   "outputs": [],
   "source": [
    "Lookahead allows to add a condition for “what follows”.Lookbehind is similar, but it looks behind. \n",
    "That is, it allows to match a pattern only if there’s something before it.\n"
   ]
  },
  {
   "cell_type": "markdown",
   "metadata": {},
   "source": [
    "# 7. What is the benefit of referring to groups by name rather than by number in a standard expression? "
   ]
  },
  {
   "cell_type": "code",
   "execution_count": null,
   "metadata": {},
   "outputs": [],
   "source": [
    "Referring to groups by name rather than by number in a standard expression helps to keep the code clear and \n",
    "easy to understand.\n"
   ]
  },
  {
   "cell_type": "markdown",
   "metadata": {},
   "source": [
    "# 8. Can you identify repeated items within a target string using named groups, as in \"The cow jumped over the moon\"?"
   ]
  },
  {
   "cell_type": "code",
   "execution_count": null,
   "metadata": {},
   "outputs": [],
   "source": [
    "import re\n",
    "text = \"The cow jumped over the moon\"\n",
    "regobj=re.compile(r'(?P<w1>The)',re.I)\n",
    "regobj.findall(text)"
   ]
  },
  {
   "cell_type": "markdown",
   "metadata": {},
   "source": [
    "# 9. When parsing a string, what is at least one thing that the Scanner interface does for you that the re.findall feature does not ?"
   ]
  },
  {
   "cell_type": "code",
   "execution_count": null,
   "metadata": {},
   "outputs": [],
   "source": [
    "re.findall() module is used to search for all occurrences that match a given pattern. \n",
    "re.search() will only return the first occurrence that matches the specified pattern.\n",
    "re.findall() will iterate over all the lines of the file and will return all non-overlapping matches  pattern in a single step."
   ]
  },
  {
   "cell_type": "markdown",
   "metadata": {},
   "source": [
    "# 10. Does a scanner object have to be named scanner?"
   ]
  },
  {
   "cell_type": "code",
   "execution_count": null,
   "metadata": {},
   "outputs": [],
   "source": [
    "Yes, It may have any name."
   ]
  }
 ],
 "metadata": {
  "kernelspec": {
   "display_name": "Python 3 (ipykernel)",
   "language": "python",
   "name": "python3"
  },
  "language_info": {
   "codemirror_mode": {
    "name": "ipython",
    "version": 3
   },
   "file_extension": ".py",
   "mimetype": "text/x-python",
   "name": "python",
   "nbconvert_exporter": "python",
   "pygments_lexer": "ipython3",
   "version": "3.7.6"
  }
 },
 "nbformat": 4,
 "nbformat_minor": 4
}
