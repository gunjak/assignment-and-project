{
 "cells": [
  {
   "cell_type": "code",
   "execution_count": null,
   "metadata": {},
   "outputs": [],
   "source": [
    "Q.  Does assigning a value to a string's indexed character violate Python's string immutability?\n",
    "\n",
    "A.  Yes, assigning a value to a string's indexed character violates the python string's immutability"
   ]
  },
  {
   "cell_type": "code",
   "execution_count": null,
   "metadata": {},
   "outputs": [],
   "source": [
    "Q. Does using the += operator to concatenate strings violate Python's string immutability? Why or why not?\n",
    "\n",
    "A. += operator, doesnt violate the python's string immutability, because we are concatenating another string\n",
    " to the end of the first, not trying to replace any of the characters in the strings in between.\n"
   ]
  },
  {
   "cell_type": "code",
   "execution_count": null,
   "metadata": {},
   "outputs": [],
   "source": [
    "Q. In Python, how many different ways are there to index a character?\n",
    "\n",
    "A.We can access characters in a String in Two ways :\n",
    "\n",
    "Accessing Characters by Positive Index Number. \n",
    "Accessing Characters by Negative Index Number.\n"
   ]
  },
  {
   "cell_type": "code",
   "execution_count": null,
   "metadata": {},
   "outputs": [],
   "source": [
    "Q. What is the relationship between indexing and slicing?\n",
    "\n",
    "A.Using indexes, the slicing operation is done ."
   ]
  },
  {
   "cell_type": "code",
   "execution_count": null,
   "metadata": {},
   "outputs": [],
   "source": [
    "Q. What is an indexed character's exact data type? What is the data form of a slicing-generated substring?\n",
    "\n",
    "A.The data type of the indexed character is a string. \n",
    "  The data form of slicing-generated substring is also a string."
   ]
  },
  {
   "cell_type": "code",
   "execution_count": null,
   "metadata": {},
   "outputs": [],
   "source": [
    "Q. What is the relationship between string and character \"types\" in Python?\n",
    "A.In python there is no character data type, a character is a string of length one.\n",
    "  Strings are sequences of character data."
   ]
  },
  {
   "cell_type": "code",
   "execution_count": null,
   "metadata": {},
   "outputs": [],
   "source": [
    "Q. Identify at least two operators and one method that allow you to combine one or more smaller strings to create a larger \n",
    "    string.\n",
    "\n",
    "A. Two operators : +, +=\n",
    "  Method : join()\n"
   ]
  },
  {
   "cell_type": "code",
   "execution_count": null,
   "metadata": {},
   "outputs": [],
   "source": [
    "What is the benefit of first checking the target string with in or not in before using the index method to find a substring?\n",
    "\n",
    "A.The benifit is that it returns True if the target is in string otherwise return False by using the 'in' or 'not in'."
   ]
  },
  {
   "cell_type": "code",
   "execution_count": null,
   "metadata": {},
   "outputs": [],
   "source": [
    "Q9. Which operators and built-in string methods produce simple Boolean (true/false) results?\n",
    "\n",
    "A. Operators : >,<,>=,<=,==\n",
    "   built-in string methods : isalpha, isdecimal, isdigit, islower, isupper, isspace, isprintable etc"
   ]
  }
 ],
 "metadata": {
  "kernelspec": {
   "display_name": "Python 3 (ipykernel)",
   "language": "python",
   "name": "python3"
  },
  "language_info": {
   "codemirror_mode": {
    "name": "ipython",
    "version": 3
   },
   "file_extension": ".py",
   "mimetype": "text/x-python",
   "name": "python",
   "nbconvert_exporter": "python",
   "pygments_lexer": "ipython3",
   "version": "3.7.6"
  }
 },
 "nbformat": 4,
 "nbformat_minor": 4
}
