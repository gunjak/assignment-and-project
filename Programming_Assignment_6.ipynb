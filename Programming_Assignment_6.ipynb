{
 "cells": [
  {
   "cell_type": "code",
   "execution_count": null,
   "metadata": {},
   "outputs": [],
   "source": [
    "def fib(num):\n",
    "    \"\"\"Python Program to Display Fibonacci Sequence Using Recursion?\"\"\"\n",
    "    if num==0:\n",
    "        return 0\n",
    "    elif num==1 or num==2:\n",
    "        return 1\n",
    "    else:\n",
    "        return fib(num-2)+fib(num-1) \n",
    "for i in range(0,5):\n",
    "    print(fib(i))"
   ]
  },
  {
   "cell_type": "code",
   "execution_count": null,
   "metadata": {},
   "outputs": [],
   "source": [
    "def factorial(num):\n",
    "    \"\"\"Python Program to Find Factorial of Number Using Recursion\"\"\"\n",
    "    if num>0:\n",
    "        fact=num*factorial(num-1)\n",
    "        return fact\n",
    "    else :\n",
    "        return 1"
   ]
  },
  {
   "cell_type": "code",
   "execution_count": null,
   "metadata": {},
   "outputs": [],
   "source": [
    "\"\"\"Python Program to calculate your Body Mass Index\"\"\"\n",
    "weight=float(input(\"Enter your weight in kg\"))\n",
    "height=float(input(\"Enter your height in metre\"))\n",
    "print(\"Body Mass Index is {}\".format(weight/height))"
   ]
  },
  {
   "cell_type": "code",
   "execution_count": null,
   "metadata": {},
   "outputs": [],
   "source": [
    "\"\"\"Python Program to calculate the natural logarithm of any number\"\"\"\n",
    "import cmath\n",
    "num=float((input(\"Enter a number:\")))\n",
    "print(\"Natural log of {} is {}\".format(num,cmath.log(num)))"
   ]
  },
  {
   "cell_type": "code",
   "execution_count": null,
   "metadata": {},
   "outputs": [],
   "source": [
    "\"\"\"Python Program for cube sum of first n natural numbers\"\"\"\n",
    "num=int((input(\"Enter a number:\")))\n",
    "print(\"cube sum of first {} natural number is:{}\".format(num,(num*(num+1)/2)**2))"
   ]
  }
 ],
 "metadata": {
  "kernelspec": {
   "display_name": "Python 3",
   "language": "python",
   "name": "python3"
  },
  "language_info": {
   "codemirror_mode": {
    "name": "ipython",
    "version": 3
   },
   "file_extension": ".py",
   "mimetype": "text/x-python",
   "name": "python",
   "nbconvert_exporter": "python",
   "pygments_lexer": "ipython3",
   "version": "3.7.6"
  }
 },
 "nbformat": 4,
 "nbformat_minor": 4
}
