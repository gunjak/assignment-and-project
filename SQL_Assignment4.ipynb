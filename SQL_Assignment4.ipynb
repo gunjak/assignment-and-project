{
 "cells": [
  {
   "cell_type": "code",
   "execution_count": null,
   "metadata": {},
   "outputs": [],
   "source": [
    "\"\"\"an SQL query to print the FIRST_NAME from Worker table after replacing ‘a’\n",
    "with ‘A’.\"\"\"\n",
    "SELECT REPLACE(FIRST_NAME,\"a\",\"A\") FROM worker;"
   ]
  },
  {
   "cell_type": "code",
   "execution_count": null,
   "metadata": {},
   "outputs": [],
   "source": [
    "\"\"\" an SQL query to print all Worker details from the Worker table order by\n",
    "FIRST_NAME Ascending and DEPARTMENT Descending.\"\"\"\n",
    "SELECT * FROM Worker ORDER BY FIRST_NAME ASC, DEPARTMENT DESC;"
   ]
  },
  {
   "cell_type": "code",
   "execution_count": null,
   "metadata": {},
   "outputs": [],
   "source": [
    "\"\"\"an SQL query to fetch the names of workers who earn the highest salary.\"\"\"\n",
    "SELECT FIRST_NAME FROM Worker WHERE salary=(SELECT MAX(Salary) FROM Worker) ;"
   ]
  }
 ],
 "metadata": {
  "kernelspec": {
   "display_name": "Python 3",
   "language": "python",
   "name": "python3"
  },
  "language_info": {
   "codemirror_mode": {
    "name": "ipython",
    "version": 3
   },
   "file_extension": ".py",
   "mimetype": "text/x-python",
   "name": "python",
   "nbconvert_exporter": "python",
   "pygments_lexer": "ipython3",
   "version": "3.7.6"
  }
 },
 "nbformat": 4,
 "nbformat_minor": 4
}
