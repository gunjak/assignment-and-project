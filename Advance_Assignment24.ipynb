{
 "cells": [
  {
   "cell_type": "markdown",
   "metadata": {},
   "source": [
    "# 1. Is it permissible to use several import statements to import the same module? What would the goal be? Can you think of a \n",
    "situation where it would be beneficial ?\n",
    "\n",
    "Yes\n",
    "It is used in case when we have to import multiple functions from same module. \n",
    "\n",
    "2. What are some of a module's characteristics? (Name at least one.)\n",
    "\n",
    "__name__ : It returns the name of the module\n",
    "__doc__ : It denotes the documentation string line written in a module code.\n",
    "__file__ : It holds the name and path of the module file from which it is loaded\n",
    "__dict__ : It return a dictionary object of module attributes, functions and other definitions and \n",
    "       their respective values\n",
    "    \n",
    "3. Circular importing, such as when two modules import each other, can lead to dependencies and bugs that aren't visible. \n",
    "  How can you go about creating a program that avoids mutual importing?\n",
    "    \n",
    " Circular importing means importing the two modules in each other. If suppose we are wokring in MOD1.py file and\n",
    " it is importing some function say F2() from some other module say\n",
    " MOD2.PY  file or we can do vice-versa. What will happen is: This will give an `import error`.\n",
    "\n",
    "This is because when we import F2() function from module  MOD2.py, then this will execute MOD2.py file.\n",
    "And in MOD2.py file there is an another statement of importing `MOD1.py` module.\n",
    "\n",
    "This will result in endless loop. To avoid this error just do one thingWe can use if __name__ == __main__\n",
    "\n",
    "4. Why is __all__ in Python ?\n",
    "\n",
    "It provides list of __all__ modules present in a library. \n",
    "\n",
    "5. In what situation is it useful to refer to the name attribute or the string _main _ ?\n",
    "\n",
    "During the time of execution of the code if we want to refer the module in which we are working on then we uses \n",
    "name attribute. In that case it will return the module in which we are working on. Suppose if that moudle\n",
    "is being imported from some other module then name will have the name of that moudle from where the current\n",
    "module has been imported. The current module in which we are working is refer to the string   __main __\n",
    "\n",
    "\n",
    "\n",
    "\n",
    "The reverse Polish Notation do not need expressions to be parenthesized."
   ]
  }
 ],
 "metadata": {
  "kernelspec": {
   "display_name": "Python 3 (ipykernel)",
   "language": "python",
   "name": "python3"
  },
  "language_info": {
   "codemirror_mode": {
    "name": "ipython",
    "version": 3
   },
   "file_extension": ".py",
   "mimetype": "text/x-python",
   "name": "python",
   "nbconvert_exporter": "python",
   "pygments_lexer": "ipython3",
   "version": "3.7.6"
  }
 },
 "nbformat": 4,
 "nbformat_minor": 4
}
