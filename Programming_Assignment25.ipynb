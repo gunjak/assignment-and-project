{
 "cells": [
  {
   "cell_type": "code",
   "execution_count": null,
   "metadata": {},
   "outputs": [],
   "source": [
    "def equal(a,b,c):\n",
    "    try:\n",
    "        if type(a)==int and type(b)==int and type(c)==int:\n",
    "            if len(set([a,b,c]))==3:\n",
    "                return 0\n",
    "            elif len(set([a,b,c]))==2:\n",
    "                return 2\n",
    "            else:\n",
    "                return 3\n",
    "        else:\n",
    "            raise Exception(\"invalid argument\")\n",
    "    except Exception as e:\n",
    "        print(e)"
   ]
  },
  {
   "cell_type": "code",
   "execution_count": null,
   "metadata": {},
   "outputs": [],
   "source": [
    "def dict_to_list(d):\n",
    "    try:\n",
    "        if type(d)==dict:\n",
    "            l=[]\n",
    "            for i,j in d.items():\n",
    "                l.append((i,j))\n",
    "            l.sort()  \n",
    "            return l\n",
    "        else:\n",
    "            raise Exception(\"invalid argument\")\n",
    "    except Exception as e:\n",
    "        print(e)"
   ]
  },
  {
   "cell_type": "code",
   "execution_count": null,
   "metadata": {},
   "outputs": [],
   "source": [
    "def mapping(l):\n",
    "    try:\n",
    "        if type(l)==list:\n",
    "            d={}\n",
    "            for i in l:\n",
    "                if i.islower() and len(i)==1:\n",
    "                    d[i]=i.upper()\n",
    "                else:\n",
    "                    raise Exception(\"not valid argument\")\n",
    "            return d\n",
    "        else:\n",
    "            raise Exception(\"not valid argument\")\n",
    "    except Exception as e:\n",
    "        print (e)\n",
    "                    "
   ]
  },
  {
   "cell_type": "code",
   "execution_count": null,
   "metadata": {},
   "outputs": [],
   "source": [
    "def vow_replace(st,rep):\n",
    "    try:\n",
    "        if type(st)==str and ['a','i','o','u','A','E','I',\"O\",\"U\"].__contains__(rep):\n",
    "            import re\n",
    "            return re.sub(\"[a,e,i,o,u]\",rep,st,flags=re.I)\n",
    "        else:\n",
    "            raise Exception(\"not valid argument\")\n",
    "    except Exception as e:\n",
    "        print(e)"
   ]
  },
  {
   "cell_type": "code",
   "execution_count": null,
   "metadata": {},
   "outputs": [],
   "source": [
    "def ascii_capitalize(st):\n",
    "    s=\"\"\n",
    "    for i in st:\n",
    "        if ord(i)%2==0:\n",
    "            s=s+i.upper()\n",
    "        else:\n",
    "            s=s+i.lower()\n",
    "    return s\n",
    "ascii_capitalize('to be or not to be!')"
   ]
  }
 ],
 "metadata": {
  "kernelspec": {
   "display_name": "Python 3",
   "language": "python",
   "name": "python3"
  },
  "language_info": {
   "codemirror_mode": {
    "name": "ipython",
    "version": 3
   },
   "file_extension": ".py",
   "mimetype": "text/x-python",
   "name": "python",
   "nbconvert_exporter": "python",
   "pygments_lexer": "ipython3",
   "version": "3.7.6"
  }
 },
 "nbformat": 4,
 "nbformat_minor": 4
}
