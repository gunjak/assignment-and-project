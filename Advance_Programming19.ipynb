{
 "cells": [
  {
   "cell_type": "markdown",
   "metadata": {},
   "source": [
    "# 1. Create a checker board generator, which takes as inputs n and 2 elements to generate an n x n checkerboard with those two \n",
    "elements as alternating squares.\n",
    "Examples:\n",
    "checker_board(2, 7, 6) ➞ [\n",
    "  [7, 6],\n",
    "  [6, 7]\n",
    "]\n",
    "\n",
    "checker_board(3, \"A\", \"B\") ➞ [\n",
    "  [\"A\", \"B\", \"A\"],\n",
    "  [\"B\", \"A\", \"B\"],\n",
    "  [\"A\", \"B\", \"A\"]\n",
    "]\n",
    "\n",
    "checker_board(4, \"c\", \"d\") ➞ [\n",
    "  [\"c\", \"d\", \"c\", \"d\"],\n",
    "  [\"d\", \"c\", \"d\", \"c\"],\n",
    "  [\"c\", \"d\", \"c\", \"d\"],\n",
    "  [\"d\", \"c\", \"d\", \"c\"]\n",
    "]\n",
    "\n",
    "checker_board(4, \"c\", \"c\") ➞ \"invalid\""
   ]
  },
  {
   "cell_type": "code",
   "execution_count": 10,
   "metadata": {},
   "outputs": [
    {
     "name": "stdout",
     "output_type": "stream",
     "text": [
      "[[7, 6], [6, 7]]\n",
      "[['A', 'B', 'A'], ['B', 'A', 'B'], ['A', 'B', 'A']]\n",
      "[['c', 'd', 'c', 'd'], ['d', 'c', 'd', 'c'], ['c', 'd', 'c', 'd'], ['d', 'c', 'd', 'c']]\n",
      "invalid\n"
     ]
    }
   ],
   "source": [
    "def checker_board(num,a,b):\n",
    "    matrix=[]\n",
    "    if a!=b:\n",
    "        for i in range(num):\n",
    "            if i%2==0 and num%2==0:\n",
    "                matrix.append([a,b]*(num//2))\n",
    "            elif i%2!=0 and num%2==0:\n",
    "                matrix.append([b,a]*(num//2))\n",
    "            elif i%2==0 and num%2!=0:\n",
    "                matrix.append([a,b]*(num//2)+[a])\n",
    "            elif i%2!=0 and num%2!=0:\n",
    "                matrix.append([b,a]*(num//2)+[b])    \n",
    "        return matrix  \n",
    "    else:\n",
    "        return \"invalid\"\n",
    "print(checker_board(2, 7, 6))\n",
    "print(checker_board(3, \"A\", \"B\"))\n",
    "print(checker_board(4, \"c\", \"d\"))\n",
    "print(checker_board(4, \"c\", \"c\")) "
   ]
  },
  {
   "cell_type": "markdown",
   "metadata": {},
   "source": [
    "# 2. A string is an almost-palindrome if, by changing only one character, you can make it a palindrome. Create a function that \n",
    "returns True if a string is an almost-palindrome and False otherwise.\n",
    "Examples:\n",
    "almost_palindrome(\"abcdcbg\") ➞ True\n",
    "# Transformed to \"abcdcba\" by changing \"g\" to \"a\".\n",
    "\n",
    "almost_palindrome(\"abccia\") ➞ True\n",
    "# Transformed to \"abccba\" by changing \"i\" to \"b\".\n",
    "\n",
    "almost_palindrome(\"abcdaaa\") ➞ False\n",
    "# Can't be transformed to a palindrome in exactly 1 turn.\n",
    "\n",
    "almost_palindrome(\"1234312\") ➞ False"
   ]
  },
  {
   "cell_type": "code",
   "execution_count": 2,
   "metadata": {},
   "outputs": [
    {
     "name": "stdout",
     "output_type": "stream",
     "text": [
      "True\n",
      "True\n",
      "False\n",
      "False\n"
     ]
    }
   ],
   "source": [
    "def almost_palindrome(st):\n",
    "    try:\n",
    "        reverse=st[::-1]\n",
    "        ch=0\n",
    "        for i in range((len(st))):\n",
    "            if st[i]!=reverse[i]:\n",
    "                ch+=1\n",
    "        if ch==2:\n",
    "            return True\n",
    "        else:\n",
    "            return False\n",
    "    except Exception as e:\n",
    "        print(e)     \n",
    "print(almost_palindrome(\"abcdcbg\"))  \n",
    "print(almost_palindrome(\"abccia\"))\n",
    "print(almost_palindrome(\"abcdaaa\"))\n",
    "print(almost_palindrome(\"1234312\"))"
   ]
  },
  {
   "cell_type": "markdown",
   "metadata": {},
   "source": [
    "# 3. Create a function that finds how many prime numbers there are, up to the given integer.\n",
    "Examples:\n",
    "prime_numbers(10) ➞ 4 # 2, 3, 5 and 7\n",
    "prime_numbers(20) ➞ 8 # 2, 3, 5, 7, 11, 13, 17 and 19\n",
    "prime_numbers(30) ➞ 10 # 2, 3, 5, 7, 11, 13, 17, 19, 23 and 29"
   ]
  },
  {
   "cell_type": "code",
   "execution_count": 16,
   "metadata": {},
   "outputs": [
    {
     "name": "stdout",
     "output_type": "stream",
     "text": [
      "25\n",
      "8\n",
      "10\n"
     ]
    }
   ],
   "source": [
    "def prime_numbers(num):\n",
    "    try:\n",
    "        import math\n",
    "        ch=0\n",
    "        for i in range(2,num+1):\n",
    "            flag=0\n",
    "            for j in range(2,int(math.sqrt(i))+1):\n",
    "                if i%j==0:\n",
    "                    flag=1\n",
    "                    break\n",
    "            if flag==0:\n",
    "                ch+=1\n",
    "        return ch\n",
    "    except Exception as e:\n",
    "        print(e)\n",
    "print(prime_numbers(100)) \n",
    "print(prime_numbers(20))\n",
    "print(prime_numbers(30))"
   ]
  },
  {
   "cell_type": "markdown",
   "metadata": {},
   "source": [
    "# 4. If today was Monday, in two days, it would be Wednesday.\n",
    "Create a function that takes in a list of days as input and the number of days to increment by. Return a list of days \n",
    "after n number of days has passed.\n",
    "\n",
    "Examples:\n",
    "after_n_days([\"Thursday\", \"Monday\"], 4) ➞ [\"Monday\", \"Friday\"]\n",
    "after_n_days([\"Sunday\", \"Sunday\", \"Sunday\"], 1) ➞ [\"Monday\", \"Monday\", \"Monday\"]\n",
    "after_n_days([\"Monday\", \"Tuesday\", \"Friday\"], 1) ➞ [\"Tuesday\", \"Wednesday\", \"Saturday\"]"
   ]
  },
  {
   "cell_type": "code",
   "execution_count": 20,
   "metadata": {},
   "outputs": [
    {
     "name": "stdout",
     "output_type": "stream",
     "text": [
      "['Wednesday', 'Friday']\n",
      "['Monday', 'Monday', 'Monday']\n",
      "['Tuesday', 'Wednesday', 'Saturday']\n"
     ]
    }
   ],
   "source": [
    "def after_n_days(l,num):\n",
    "    try:\n",
    "        lis=[\"Sunday\",\"Monday\",\"Tuesday\",\"Wednesday\",\"Thursday\",\"Friday\",\"Saturday\"]\n",
    "        after_n_days=[]\n",
    "        for i in l:\n",
    "            after_n_days.append(lis[(lis.index(i)+num)%7])\n",
    "        return after_n_days\n",
    "    except Exception as e:\n",
    "        print(e)\n",
    "print(after_n_days([\"Thursday\", \"Monday\"], 4)) \n",
    "print(after_n_days([\"Sunday\", \"Sunday\", \"Sunday\"], 1))\n",
    "print(after_n_days(['Monday', 'Tuesday', 'Friday'], 1))"
   ]
  },
  {
   "cell_type": "markdown",
   "metadata": {},
   "source": [
    "# 5. You are in the process of creating a chat application and want to add an anonymous name feature. This anonymous name feature \n",
    "will create an alias that consists of two capitalized words beginning with the same letter as the users first name.\n",
    "Create a function that determines if the list of users is mapped to a list of anonymous names correctly.\n",
    "\n",
    "Examples:\n",
    "is_correct_aliases([\"Adrian M.\", \"Harriet S.\", \"Mandy T.\"], [\"Amazing Artichoke\", \"Hopeful Hedgehog\", \"Marvelous \n",
    "Mouse\"]) ➞ True\n",
    "\n",
    "is_correct_aliases([\"Rachel F.\", \"Pam G.\", \"Fred Z.\", \"Nancy K.\"], [\"Reassuring Rat\", \"Peaceful Panda\", \"Fantastic \n",
    "Frog\", \"Notable Nickel\"]) ➞ True\n",
    "\n",
    "is_correct_aliases([\"Beth T.\"], [\"Brandishing Mimosa\"]) ➞ False\n",
    "# Both words in \"Brandishing Mimosa\" should begin with a \"B\" - \"Brandishing Beaver\" would do the trick."
   ]
  },
  {
   "cell_type": "code",
   "execution_count": 5,
   "metadata": {},
   "outputs": [
    {
     "name": "stdout",
     "output_type": "stream",
     "text": [
      "False\n",
      "True\n",
      "True\n"
     ]
    }
   ],
   "source": [
    "def is_correct_aliases(l1,l2):\n",
    "    try:\n",
    "        for i in range(len(l1)):\n",
    "            user_first=l1[i]\n",
    "            first,last=l2[i].split()\n",
    "            if user_first[0]!=first[0] or user_first[0]!=last[0]:\n",
    "                return False\n",
    "        else:\n",
    "            return True\n",
    "    except Exception as e:\n",
    "        print(e)\n",
    "            \n",
    "print(is_correct_aliases([\"Beth T.\"],[\"Brandishing Mimosa\"])) \n",
    "print(is_correct_aliases([\"Adrian M.\",\"Harriet S.\",\"Mandy T.\"], [\"Amazing Artichoke\", \"Hopeful Hedgehog\", \"Marvelous Mouse\"]))\n",
    "print(is_correct_aliases([\"Rachel F.\",\"Pam G.\",\"Fred Z.\",\"Nancy K.\"], [\"Reassuring Rat\", \"Peaceful Panda\", \"Fantastic Frog\",  \n",
    "                                                             \"Notable    Nickel\"]))"
   ]
  }
 ],
 "metadata": {
  "kernelspec": {
   "display_name": "Python 3 (ipykernel)",
   "language": "python",
   "name": "python3"
  },
  "language_info": {
   "codemirror_mode": {
    "name": "ipython",
    "version": 3
   },
   "file_extension": ".py",
   "mimetype": "text/x-python",
   "name": "python",
   "nbconvert_exporter": "python",
   "pygments_lexer": "ipython3",
   "version": "3.7.6"
  }
 },
 "nbformat": 4,
 "nbformat_minor": 4
}
