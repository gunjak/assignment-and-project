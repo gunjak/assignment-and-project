{
 "cells": [
  {
   "cell_type": "markdown",
   "metadata": {},
   "source": [
    "# Create a function that takes a list and returns a new list containing only prime numbers."
   ]
  },
  {
   "cell_type": "code",
   "execution_count": null,
   "metadata": {},
   "outputs": [],
   "source": [
    "def filter_primes(lis):\n",
    "    l=[]\n",
    "    def isprime(num):\n",
    "        try:\n",
    "            ch=True\n",
    "            if num==0 or num==1:\n",
    "                return False\n",
    "            elif num==2:\n",
    "                return True\n",
    "            else:\n",
    "                for i in range(2,(num//2+1)):\n",
    "                    if num%i==0:\n",
    "                        ch=False\n",
    "                        break\n",
    "                return ch \n",
    "        except Exception as e:\n",
    "            print(e)  \n",
    "    for i in filter(isprime,lis):\n",
    "        l.append(i)\n",
    "    return l  \n",
    "\n",
    "print(filter_primes([7, 9, 3, 9, 10, 11, 27]))\n"
   ]
  },
  {
   "cell_type": "markdown",
   "metadata": {},
   "source": [
    "# Loves me, loves me not&quot; is a traditional game in which a person plucks offall the petals of a flower one by one, saying the phrase Loves me andLoves me not when determining whether the one that they love, loves them back.Given a number of petals, return a string which repeats the phrases Lovesme and Loves me not for every alternating petal, and return the last phrase in all caps. Remember to put a comma and space between phrases."
   ]
  },
  {
   "cell_type": "code",
   "execution_count": null,
   "metadata": {},
   "outputs": [],
   "source": [
    "def loves_me(num):\n",
    "    try:\n",
    "        s=\"Loves me\"\n",
    "        if num>1:\n",
    "            for i in range(2,num+1):\n",
    "                if i%2==0:\n",
    "                    if i!=num:\n",
    "                        s=s+\", Loves me not\"\n",
    "                    else: \n",
    "                        s=s+\", LOVES ME NOT\"\n",
    "                else:\n",
    "                    if i!=num:\n",
    "                        s=s+\", Loves me\"\n",
    "                    else:\n",
    "                        s=s+\", LOVES ME\" \n",
    "            return s\n",
    "        elif num==1:\n",
    "            return 'LOVES ME'\n",
    "    except Exception as e:\n",
    "            print(e)  "
   ]
  },
  {
   "cell_type": "markdown",
   "metadata": {},
   "source": [
    "# There are three cups on a table, at positions A, B, and C. At the start, there is a ball hidden under the cup at position B.However, I perform several swaps on the cups, which is notated as twoletters. For example, if I swap the cups at positions A and B, I could notatethis as AB or BA.Create a function that returns the letter position that the ball is at, once I finishswapping the cups. The swaps will be given to you as a list."
   ]
  },
  {
   "cell_type": "code",
   "execution_count": 2,
   "metadata": {},
   "outputs": [
    {
     "data": {
      "text/plain": [
       "'C'"
      ]
     },
     "execution_count": 2,
     "metadata": {},
     "output_type": "execute_result"
    }
   ],
   "source": [
    "def cup_swapping(l):\n",
    "    ball=\"B\"\n",
    "    for i in l:\n",
    "        if ball in i:\n",
    "            if i[0]!=ball:\n",
    "                ball=i[0]\n",
    "            else:\n",
    "                ball=i[1]\n",
    "    return ball\n"
   ]
  },
  {
   "cell_type": "markdown",
   "metadata": {},
   "source": [
    "# Write a function that sorts each string in a list by the letter in alphabetic ascending order (a-z)."
   ]
  },
  {
   "cell_type": "code",
   "execution_count": 8,
   "metadata": {},
   "outputs": [],
   "source": [
    "def sort_by_letter(l):\n",
    "    try:\n",
    "        r=[]\n",
    "        for i in l:\n",
    "            r.append(\"\".join(sorted(i)))\n",
    "        return sorted(r)    \n",
    "    except Exception as e:\n",
    "         print(e)  \n",
    "print(sort_by_letter(['932c','832u32', '2344']))            "
   ]
  },
  {
   "cell_type": "markdown",
   "metadata": {},
   "source": [
    "# Once a water balloon pops, is soaks the area around it. The ground gets\n",
    "drier the further away you travel from the balloon.\n",
    "The effect of a water balloon popping can be modeled using a list. Create a\n",
    "function that takes a list which takes the pre-pop state and returns the state\n",
    "after the balloon is popped. The pre-pop state will contain at most a single\n",
    "balloon, whose size is represented by the only non-zero element."
   ]
  }
 ],
 "metadata": {
  "kernelspec": {
   "display_name": "Python 3 (ipykernel)",
   "language": "python",
   "name": "python3"
  },
  "language_info": {
   "codemirror_mode": {
    "name": "ipython",
    "version": 3
   },
   "file_extension": ".py",
   "mimetype": "text/x-python",
   "name": "python",
   "nbconvert_exporter": "python",
   "pygments_lexer": "ipython3",
   "version": "3.7.6"
  }
 },
 "nbformat": 4,
 "nbformat_minor": 4
}
