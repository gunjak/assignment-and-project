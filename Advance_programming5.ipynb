{
 "cells": [
  {
   "cell_type": "code",
   "execution_count": null,
   "metadata": {},
   "outputs": [],
   "source": [
    "def f(num):\n",
    "    try:\n",
    "        \"\"\"function check even or odd without condition\"\"\"\n",
    "        l=[\"even\",'odd']\n",
    "        return l[num%2]\n",
    "    except Exception as e:\n",
    "        print(e)"
   ]
  },
  {
   "cell_type": "code",
   "execution_count": null,
   "metadata": {},
   "outputs": [],
   "source": [
    "def majority_vote(lis):\n",
    "    try:\n",
    "       \"\"\" a function that returns the majority vote in a list. A majority vote is an element that occurs > N/2 times in a list\n",
    "        (where N is the length of the list).\"\"\"\n",
    "        from collections import Counter\n",
    "        d=Counter(lis)\n",
    "        for i in d.keys():\n",
    "            if d[i]>len(lis)/2:\n",
    "                return i\n",
    "        else:\n",
    "            return\"None\"    \n",
    "    except Exception as e:\n",
    "        print(e)\n",
    "#check        \n",
    "print(majority_vote([\"A\", \"A\", \"B\"]) )        \n",
    "print(majority_vote([\"A\", \"A\", \"A\", \"B\", \"C\", \"A\"]))\n",
    "print(majority_vote([\"A\", \"B\", \"B\", \"A\", \"C\", \"C\"]))"
   ]
  },
  {
   "cell_type": "code",
   "execution_count": null,
   "metadata": {},
   "outputs": [],
   "source": [
    "def censor_string(txt,lis,ch):\n",
    "    try:\n",
    "        \"\"\"a function that takes a string txt and censors any word from a given list lst. The text removed must be replaced by\n",
    "        the given character char.\"\"\"\n",
    "        import re\n",
    "        for i in lis:\n",
    "            txt=re.sub(i,ch*len(i),txt,flags=re.I)\n",
    "        return txt\n",
    "    except Exception as e:\n",
    "        print(e)\n",
    "#check       \n",
    "print(censor_string(\"Today is a Wednesday!\", [\"Today\", \"a\"], \"-\") )\n",
    "print(censor_string(\"The cow jumped over the moon.\", [\"cow\", \"over\"], \"*\"))\n",
    "print(censor_string(\"Why did the chicken cross the road?\", [\"Did\", \"chicken\", \"road\"], \"*\") )"
   ]
  },
  {
   "cell_type": "code",
   "execution_count": null,
   "metadata": {},
   "outputs": [],
   "source": [
    "def is_polydivisible(num):\n",
    "    try:\n",
    "        \"\"\"function which takes an integer n and returns True if the given number is a Polydivisible Number and False otherwise.\n",
    "        \"\"\"\n",
    "        n=str(num)\n",
    "        for i in range(1,len(n)+1):\n",
    "            if int(n[:i])%(i)!=0:\n",
    "                return False\n",
    "        else:\n",
    "            return True\n",
    "    except Exception as e:\n",
    "        print(e)     \n",
    "#check\n",
    "print(is_polydivisible(1232))\n",
    "print(is_polydivisible(123220 ) )"
   ]
  },
  {
   "cell_type": "code",
   "execution_count": null,
   "metadata": {},
   "outputs": [],
   "source": [
    " def sum_primes(lis):\n",
    "    l=[]\n",
    "    def isprime(num):\n",
    "        try:\n",
    "            \"\"\"a function that takes a list of numbers and returns the sum of all prime numbers in the list.\"\"\"\n",
    "            ch=True\n",
    "            if num==0 or num==1:\n",
    "                return False\n",
    "            elif num==2:\n",
    "                return True\n",
    "            else:\n",
    "                for i in range(2,(num//2+1)):\n",
    "                    if num%i==0:\n",
    "                        ch=False\n",
    "                        break\n",
    "                return ch \n",
    "        except Exception as e:\n",
    "            print(e)\n",
    "    if  list(filter(isprime,lis))==[]: \n",
    "        return \"None\"\n",
    "    else:\n",
    "        return sum(list(filter(isprime,lis)))\n",
    "#check \n",
    "print(sum_primes([1, 2, 3, 4, 5, 6, 7, 8, 9, 10]))\n",
    "print(sum_primes([2, 3, 4, 11, 20, 50, 71]))\n",
    "print(sum_primes([]))"
   ]
  }
 ],
 "metadata": {
  "kernelspec": {
   "display_name": "Python 3 (ipykernel)",
   "language": "python",
   "name": "python3"
  },
  "language_info": {
   "codemirror_mode": {
    "name": "ipython",
    "version": 3
   },
   "file_extension": ".py",
   "mimetype": "text/x-python",
   "name": "python",
   "nbconvert_exporter": "python",
   "pygments_lexer": "ipython3",
   "version": "3.7.6"
  }
 },
 "nbformat": 4,
 "nbformat_minor": 4
}
