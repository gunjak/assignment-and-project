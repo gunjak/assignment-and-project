{
 "cells": [
  {
   "cell_type": "code",
   "execution_count": null,
   "metadata": {},
   "outputs": [],
   "source": [
    "\"\"\"a program that calculates and prints the value according to the given formula:\n",
    "Q = Square root of [(2 * C * D)/H]\n",
    "Following are the fixed values of C and H:\n",
    "C is 50. H is 30.\"\"\"\n",
    "\n",
    "import math\n",
    "def eva(num):\n",
    "    n=round(math.sqrt(100*num/30))\n",
    "    return str(n)\n",
    "val=list(map(float,(input().rsplit(\",\"))))\n",
    "print(\",\".join(list(map(eva,val))))"
   ]
  },
  {
   "cell_type": "code",
   "execution_count": null,
   "metadata": {},
   "outputs": [],
   "source": [
    "\"\"\"a program which takes 2 digits, X,Y as input and generates a 2-dimensional array. The\n",
    "element value in the i-th row and j-th column of the array should be i*j.\"\"\"\n",
    "\n",
    "row,col=input('enter number of rows and column').split()\n",
    "k=[[i*j for j in range(int(col))]for i in range(int(row))]\n",
    "print(k)"
   ]
  },
  {
   "cell_type": "code",
   "execution_count": null,
   "metadata": {},
   "outputs": [],
   "source": [
    "\"\"\"a program that accepts a comma separated sequence of words as input and prints the\n",
    "words in a comma-separated sequence after sorting them alphabetically.\"\"\"\n",
    "\n",
    "l=input().rsplit(\",\")\n",
    "l.sort()\n",
    "print(\",\".join(l))"
   ]
  },
  {
   "cell_type": "code",
   "execution_count": null,
   "metadata": {},
   "outputs": [],
   "source": [
    "\"\"\"a program that accepts a sequence of whitespace separated words as input and prints\n",
    "the words after removing all duplicate words and sorting them alphanumerically.\"\"\"\n",
    "l=list(set(input().split()))\n",
    "l.sort()\n",
    "print(\" \".join(l))"
   ]
  },
  {
   "cell_type": "code",
   "execution_count": null,
   "metadata": {},
   "outputs": [],
   "source": [
    "\"\"\"a program that accepts a sentence and calculate the number of letters and digits.\"\"\"\n",
    "\n",
    "sen=input()\n",
    "LETTERS=0\n",
    "DIGITS=0\n",
    "for i in sen:\n",
    "    if i.isalpha():\n",
    "        LETTERS+=1\n",
    "    if i.isdigit():\n",
    "        DIGITS+=1\n",
    "print(\"LETTERS :\",LETTERS) \n",
    "print(\"DIGITS :\",DIGITS)\n",
    "        "
   ]
  },
  {
   "cell_type": "code",
   "execution_count": null,
   "metadata": {},
   "outputs": [],
   "source": [
    "\"\"\"1. At least 1 letter between [a-z]\n",
    "2. At least 1 number between [0-9]\n",
    "1. At least 1 letter between [A-Z]\n",
    "3. At least 1 character from [$#@]\n",
    "4. Minimum length of transaction password: 6\n",
    "5. Maximum length of transaction password: 12\n",
    "\n",
    "A program  that accept a sequence of comma separated passwords and will check them\n",
    "according to the above criteria. Passwords that match the criteria are to be printed, each\n",
    "separated by a comma.\"\"\"\n",
    "import re\n",
    "passwords=input().rsplit(',')\n",
    "for password in passwords:\n",
    "    if re.search('[a-z]+',password):\n",
    "        if re.search('[0-9]+',password):\n",
    "            if re.search('[A-Z]+',password):\n",
    "                if re.search('[$#@]',password):\n",
    "                    if len(password)>=3 or len(password)<=6:\n",
    "                        print(password,end=\"\")\n",
    "                 "
   ]
  }
 ],
 "metadata": {
  "kernelspec": {
   "display_name": "Python 3",
   "language": "python",
   "name": "python3"
  },
  "language_info": {
   "codemirror_mode": {
    "name": "ipython",
    "version": 3
   },
   "file_extension": ".py",
   "mimetype": "text/x-python",
   "name": "python",
   "nbconvert_exporter": "python",
   "pygments_lexer": "ipython3",
   "version": "3.7.6"
  }
 },
 "nbformat": 4,
 "nbformat_minor": 4
}
