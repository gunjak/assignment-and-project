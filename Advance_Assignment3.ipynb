{
 "cells": [
  {
   "cell_type": "code",
   "execution_count": null,
   "metadata": {},
   "outputs": [],
   "source": [
    "\"\"\"What is the concept of an abstract superclass\"\"\"\n",
    "An abstract superclass has a abstract method which is not instantiate by its subclass."
   ]
  },
  {
   "cell_type": "code",
   "execution_count": null,
   "metadata": {},
   "outputs": [],
   "source": [
    "\"\"\"What happens when a class statement&#39;s top level contains a basic assignment statement?\"\"\"\n",
    "Its means that it is a class variable in which value is assigned.  "
   ]
  },
  {
   "cell_type": "code",
   "execution_count": null,
   "metadata": {},
   "outputs": [],
   "source": [
    "\"\"\"Why does a class need to manually call a superclass&#39;s __init__ method?\"\"\"\n",
    "To initialize data member of the superclass, a class need to manually call a superclass's  __init__ method."
   ]
  },
  {
   "cell_type": "code",
   "execution_count": null,
   "metadata": {},
   "outputs": [],
   "source": [
    "\"\"\"How can you augment, instead of completely replacing, an inherited method?\"\"\"\n",
    "use (.) dot operator to augment an inherited method."
   ]
  },
  {
   "cell_type": "code",
   "execution_count": null,
   "metadata": {},
   "outputs": [],
   "source": [
    "\"\"\"How is the local scope of a class different from that of a function?\"\"\"\n",
    "Declaring a variable in a class , all class functions can access it .\n",
    "\n",
    "while declaring a variable inside a function only that function can access it."
   ]
  }
 ],
 "metadata": {
  "kernelspec": {
   "display_name": "Python 3",
   "language": "python",
   "name": "python3"
  },
  "language_info": {
   "codemirror_mode": {
    "name": "ipython",
    "version": 3
   },
   "file_extension": ".py",
   "mimetype": "text/x-python",
   "name": "python",
   "nbconvert_exporter": "python",
   "pygments_lexer": "ipython3",
   "version": "3.7.6"
  }
 },
 "nbformat": 4,
 "nbformat_minor": 4
}
