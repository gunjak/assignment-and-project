{
 "cells": [
  {
   "cell_type": "markdown",
   "metadata": {},
   "source": [
    "# Given a list of numbers, create a function that removes 25% from every number in the list except the smallest number, and adds the total amountremoved to the smallest number."
   ]
  },
  {
   "cell_type": "code",
   "execution_count": null,
   "metadata": {},
   "outputs": [],
   "source": [
    "def show_the_love(lis):\n",
    "    try:\n",
    "        mi=min(lis)\n",
    "        l=[]\n",
    "        for i in lis:\n",
    "            if i==mi:\n",
    "                l.append(sum(list(map(lambda x:x*0.25,lis)))+(i*0.75))\n",
    "            else:\n",
    "                l.append(i*0.75)\n",
    "        return l\n",
    "    except Exception as e:\n",
    "        print(e)\n",
    "print(show_the_love([4, 1, 4]))\n",
    "print(show_the_love([16, 10, 8]))"
   ]
  },
  {
   "cell_type": "markdown",
   "metadata": {},
   "source": [
    "# Create a function that takes in two words as input and returns a list of three\n",
    "elements, in the following order:\n",
    "1.Shared letters between two words.\n",
    "2.Letters unique to word 1.\n",
    "3.Letters unique to word 2.\n",
    "Each element should have unique letters, and have each letter be\n",
    "alphabetically sorted."
   ]
  },
  {
   "cell_type": "code",
   "execution_count": null,
   "metadata": {},
   "outputs": [],
   "source": [
    "def letters(st1,st2):\n",
    "    try:\n",
    "        s1,s2=set(st1),set(st2)\n",
    "        a=(\"\".join(sorted(s1.intersection(s2))))\n",
    "        b=(\"\".join(sorted(s1.difference(s2))))\n",
    "        c=(\"\".join(sorted(s2.difference(s1))))\n",
    "        return [a,b,c]\n",
    "    except Exception as e:\n",
    "        print(e)  \n",
    "print(letters(\"board\", \"bored\")) \n",
    "print(letters(\"sharp\", \"soap\"))\n",
    "print(letters(\"happiness\", \"envelope\"))"
   ]
  },
  {
   "cell_type": "markdown",
   "metadata": {},
   "source": [
    "# Write a function that pairs the first number in an array with the last, the second number with the second to last, etc."
   ]
  },
  {
   "cell_type": "code",
   "execution_count": null,
   "metadata": {},
   "outputs": [],
   "source": [
    "def pairs(lis):\n",
    "    try:\n",
    "        import itertools\n",
    "        a=[]\n",
    "        b=[]\n",
    "        d=[]\n",
    "        if len(lis)%2==0:\n",
    "            a=lis[:(len(lis)//2)]\n",
    "            b=lis[(len(lis)//2):]\n",
    "            c=len(lis)//2\n",
    "        else:\n",
    "            a=lis[:len(lis)//2+1]\n",
    "            b=lis[len(lis)//2:]\n",
    "            c=(len(lis)//2)+1\n",
    "        b.reverse()    \n",
    "        for i in range(c):\n",
    "            d.append([a[i],b[i]])\n",
    "        return d    \n",
    "    except Exception as e:\n",
    "        print(e)\n",
    "print(pairs([1, 2, 3, 4, 5, 6, 7])) \n",
    "print(pairs([1, 2, 3, 4, 5, 6]))\n",
    "print(pairs([5, 9, 8, 1, 2]))"
   ]
  },
  {
   "cell_type": "markdown",
   "metadata": {},
   "source": [
    "# Write a function that adds two numbers. The catch, however, is that the numbers will be strings."
   ]
  },
  {
   "cell_type": "code",
   "execution_count": null,
   "metadata": {},
   "outputs": [],
   "source": [
    "def add_str_nums(a,b):\n",
    "    try:\n",
    "        if len(a)==0:\n",
    "            return int(b)\n",
    "        elif len(b)==0:\n",
    "             return int(a)\n",
    "        else:\n",
    "            return int(a)+int(b)     \n",
    "    except:\n",
    "        return -1\n",
    "print(add_str_nums('934566778899988776655443322', '5'))  \n",
    "print(add_str_nums('asdfg', '5')) \n",
    "print(add_str_nums('', '1')) \n",
    "print(add_str_nums('4', '8'))"
   ]
  },
  {
   "cell_type": "markdown",
   "metadata": {},
   "source": [
    "# lPaeesh le pemu mnxit ehess rtnisg! Oh, sorry, that was supposed to say:Please help me unmix these strings!Somehow my strings have all become mixed up; every pair of characters has been swapped. Help me undo this so I can understand my strings again."
   ]
  },
  {
   "cell_type": "code",
   "execution_count": null,
   "metadata": {},
   "outputs": [],
   "source": [
    "def unmix(st):\n",
    "    try:\n",
    "        s=''\n",
    "        for i in range(0,len(st),2):\n",
    "            if i==len(st)-1:\n",
    "                s+=st[i]\n",
    "            else:\n",
    "                s+=st[i+1]+st[i]\n",
    "        return s    \n",
    "    except Exception as e:\n",
    "        print(e) \n",
    "print(unmix(\"hTsii  s aimex dpus rtni.g\"))\n",
    "print(unmix(\"123456\"))\n",
    "print(unmix(\"badce\"))"
   ]
  }
 ],
 "metadata": {
  "kernelspec": {
   "display_name": "Python 3 (ipykernel)",
   "language": "python",
   "name": "python3"
  },
  "language_info": {
   "codemirror_mode": {
    "name": "ipython",
    "version": 3
   },
   "file_extension": ".py",
   "mimetype": "text/x-python",
   "name": "python",
   "nbconvert_exporter": "python",
   "pygments_lexer": "ipython3",
   "version": "3.7.6"
  }
 },
 "nbformat": 4,
 "nbformat_minor": 4
}
