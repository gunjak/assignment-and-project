{
 "cells": [
  {
   "cell_type": "code",
   "execution_count": null,
   "metadata": {},
   "outputs": [],
   "source": [
    "Q1. What is the benefit of regular expressions?"
   ]
  },
  {
   "cell_type": "code",
   "execution_count": null,
   "metadata": {},
   "outputs": [],
   "source": [
    " The benefits of regex is that\n",
    "It helps in finding out the correctness of the data \n",
    "It helps in finding out finding, replacing and formatting the data."
   ]
  },
  {
   "cell_type": "code",
   "execution_count": null,
   "metadata": {},
   "outputs": [],
   "source": [
    "Q2. Describe the difference between the effects of '(ab)c+' and 'a(bc)+.' Which of these, if any, is the\n",
    "unqualified pattern 'abc+''?"
   ]
  },
  {
   "cell_type": "code",
   "execution_count": null,
   "metadata": {},
   "outputs": [],
   "source": [
    "Both (ab)c+ and a(bc)+ are valid patterns.\n",
    " (ab)c+  ab is group \n",
    " a(bc)+  bc is a group."
   ]
  },
  {
   "cell_type": "code",
   "execution_count": null,
   "metadata": {},
   "outputs": [],
   "source": [
    "How much do you need to use the following sentence while using regular expressions?"
   ]
  },
  {
   "cell_type": "code",
   "execution_count": null,
   "metadata": {},
   "outputs": [],
   "source": [
    "import re statement always has to be imported before using regular expressions."
   ]
  },
  {
   "cell_type": "code",
   "execution_count": null,
   "metadata": {},
   "outputs": [],
   "source": [
    "Which characters have special significance in square brackets when expressing a range, and\n",
    "under what circumstances?"
   ]
  },
  {
   "cell_type": "code",
   "execution_count": null,
   "metadata": {},
   "outputs": [],
   "source": [
    "The Characters **`.`,`*`,`?`,`^`**,or,**`()`**, have a special signiface when used with square brackets.\n",
    "    They need not be be explicitly escaped by **`\\`** as in case of pattern texts in a raw string."
   ]
  },
  {
   "cell_type": "code",
   "execution_count": null,
   "metadata": {},
   "outputs": [],
   "source": [
    "Q5. How does compiling a regular-expression object benefit you?"
   ]
  },
  {
   "cell_type": "code",
   "execution_count": null,
   "metadata": {},
   "outputs": [],
   "source": [
    "We can Combine a regular expression pattern into pattern Objects.Which can be used for pattern matching.\n",
    "it also helps to search a pattern again without rewritting it."
   ]
  },
  {
   "cell_type": "code",
   "execution_count": null,
   "metadata": {},
   "outputs": [],
   "source": [
    "Q6. What are some examples of how to use the match object returned by re.match and re.search?"
   ]
  },
  {
   "cell_type": "code",
   "execution_count": null,
   "metadata": {},
   "outputs": [],
   "source": [
    "re.match() function of re in Python will search the regular expression pattern at the beginning of the string\n",
    "                   and return the first occurrence\n",
    "        re.match(), it  check all lines of the input string ,returns a match object when the pattern is found \n",
    "                   and “null” if the pattern is not found    "
   ]
  },
  {
   "cell_type": "code",
   "execution_count": null,
   "metadata": {},
   "outputs": [],
   "source": [
    "Q7. What is the difference between using a vertical bar (|) as an alteration and using square brackets\n",
    "as a character set?"
   ]
  },
  {
   "cell_type": "code",
   "execution_count": null,
   "metadata": {},
   "outputs": [],
   "source": [
    "Using Character set in square Brackets searches for all the character set in the square bracket and if match is found, \n",
    "  returns it."
   ]
  },
  {
   "cell_type": "code",
   "execution_count": null,
   "metadata": {},
   "outputs": [],
   "source": [
    "Q8. In regular-expression search patterns, why is it necessary to use the raw-string indicator (r)? In  \n",
    "replacement strings?"
   ]
  },
  {
   "cell_type": "code",
   "execution_count": null,
   "metadata": {},
   "outputs": [],
   "source": [
    "Raw Strings are used in the regular-expression search patterns, so that blackslashes donot have to be escaped."
   ]
  }
 ],
 "metadata": {
  "kernelspec": {
   "display_name": "Python 3 (ipykernel)",
   "language": "python",
   "name": "python3"
  },
  "language_info": {
   "codemirror_mode": {
    "name": "ipython",
    "version": 3
   },
   "file_extension": ".py",
   "mimetype": "text/x-python",
   "name": "python",
   "nbconvert_exporter": "python",
   "pygments_lexer": "ipython3",
   "version": "3.7.6"
  }
 },
 "nbformat": 4,
 "nbformat_minor": 4
}
