{
 "cells": [
  {
   "cell_type": "markdown",
   "metadata": {},
   "source": [
    "# 1. Rondo Form is a type of musical structure, in which there is a recurring theme/refrain, notated as A. Here are the rules for valid rondo forms:\n",
    "Rondo forms always start and end with an A section.\n",
    "In between the A sections, there should be contrasting sections notated as B, then C, then D, etc... No letter should \n",
    "be skipped.\n",
    "There shouldn't be any repeats in the sequence (such as ABBACCA).\n",
    "Create a function which validates whether a given string is a valid Rondo Form.\n",
    "\n",
    "Examples:\n",
    "valid_rondo(\"ABACADAEAFAGAHAIAJA\") ➞ True\n",
    "valid_rondo(\"ABA\") ➞ True\n",
    "valid_rondo(\"ABBACCA\") ➞ False\n",
    "valid_rondo(\"ACAC\") ➞ False\n",
    "valid_rondo(\"A\") ➞ False"
   ]
  },
  {
   "cell_type": "code",
   "execution_count": 4,
   "metadata": {},
   "outputs": [
    {
     "name": "stdout",
     "output_type": "stream",
     "text": [
      "True\n",
      "True\n",
      "False\n",
      "False\n",
      "False\n"
     ]
    }
   ],
   "source": [
    "def valid_rondo(st):\n",
    "    try:\n",
    "        if len(st)>=3 and len(st)%2!=0:\n",
    "            for i in range(len(st)):\n",
    "                if i%2==0 and st[i]!=\"A\":\n",
    "                    return False\n",
    "                elif i%2!=0 and st[i]==\"A\":\n",
    "                    return False\n",
    "            else:\n",
    "                return True\n",
    "        else:\n",
    "            return False\n",
    "    except Exception as e:\n",
    "        print(e)\n",
    "        \n",
    "        \n",
    "print(valid_rondo(\"ABACADAEAFAGAHAIAJA\"))\n",
    "print(valid_rondo(\"ABA\"))\n",
    "print(valid_rondo(\"ABBACCA\"))\n",
    "print(valid_rondo(\"ACAC\"))\n",
    "print(valid_rondo(\"A\"))"
   ]
  },
  {
   "cell_type": "markdown",
   "metadata": {},
   "source": [
    "# 2. Create a function that returns the whole of the first sentence which contains a specific word. Include the full stop at the \n",
    "end of the sentence.\n",
    "Examples:\n",
    "txt = \"I have a cat. I have a mat. Things are going swell.\"\n",
    "sentence_searcher(txt, \"have\") ➞ \"I have a cat.\"\n",
    "sentence_searcher(txt, \"MAT\") ➞ \"I have a mat.\"\n",
    "sentence_searcher(txt, \"things\") ➞ \"Things are going swell.\"\n",
    "sentence_searcher(txt, \"flat\") ➞ \"\""
   ]
  },
  {
   "cell_type": "code",
   "execution_count": 19,
   "metadata": {},
   "outputs": [
    {
     "name": "stdout",
     "output_type": "stream",
     "text": [
      "I have a cat.\n",
      "I have a mat.\n",
      "Things are going swell.\n",
      "None\n"
     ]
    }
   ],
   "source": [
    "def sentence_searcher(s,st):\n",
    "    try:\n",
    "        t=\"\"\n",
    "        S=s.lower()\n",
    "        lis=s.rsplit(\". \")\n",
    "        S=S.rsplit(\".\")\n",
    "        S[len(S)-1],lis[len(lis)-1]=S[len(S)-1].replace('.',\"\"),lis[len(lis)-1].replace('.',\"\")\n",
    "        \n",
    "        for i in range(len(S)):\n",
    "            if st.lower() in S[i]:\n",
    "                t+=lis[i]+\".\"\n",
    "                return t\n",
    "    except Exception as e:\n",
    "        print(e)\n",
    "   \n",
    "txt = \"I have a cat. I have a mat. Things are going swell.\"\n",
    "\n",
    "print(sentence_searcher(txt, \"have\"))\n",
    "print(sentence_searcher(txt, \"MAT\"))\n",
    "print(sentence_searcher(txt, \"things\"))\n",
    "print(sentence_searcher(txt, \"flat\"))"
   ]
  },
  {
   "cell_type": "markdown",
   "metadata": {},
   "source": [
    "# Given a number, find the \"round \"of each digit of the number. An integer is called \"round\" if all its digits except the \n",
    "    leftmost (most significant) are equal to zero.\n",
    "- Round numbers: 4000, 1, 9, 800, 90\n",
    "- Not round numbers: 110, 707, 222, 1001\n",
    "Create a function that takes a number and returns the \"round\" of each digit (except if the digit is zero) as a string. \n",
    "Check out the following examples for more clarification.\n",
    "\n",
    "Examples:\n",
    "sum_round(101) ➞ \"1 100\"\n",
    "sum_round(1234) ➞ \"4 30 200 1000\"\n",
    "sum_round(54210) ➞ \"10 200 4000 50000\""
   ]
  },
  {
   "cell_type": "code",
   "execution_count": 32,
   "metadata": {},
   "outputs": [
    {
     "name": "stdout",
     "output_type": "stream",
     "text": [
      "1 100 \n",
      "4 30 200 1000 \n",
      "10 200 4000 50000 \n"
     ]
    }
   ],
   "source": [
    "def sum_round(num):\n",
    "    try:\n",
    "        st=str(num)\n",
    "        st=st[::-1]\n",
    "        s=\"\"\n",
    "        if st[0]!='0':\n",
    "            s=st[0]+\" \"\n",
    "        for i in range(1,len(st)):\n",
    "            if st[i]!='0':\n",
    "                s+=str(int(st[i])*pow(10,i))+\" \"\n",
    "        return s  \n",
    "    except Exception as e:\n",
    "        print(e)\n",
    "\n",
    "print(sum_round(101))\n",
    "print(sum_round(1234))\n",
    "print(sum_round(54210))        \n",
    "    "
   ]
  },
  {
   "cell_type": "markdown",
   "metadata": {},
   "source": [
    "# 4. Your task, is to create N x N multiplication table, of size n provided in parameter.\n",
    "For example, when n is 5, the multiplication table is:\n",
    "\n",
    "1, 2, 3, 4, 5\n",
    "2, 4, 6, 8, 10\n",
    "3, 6, 9, 12, 15\n",
    "4, 8, 12, 16, 20\n",
    "5, 10, 15, 20, 25\n",
    "This example will result in:[[1, 2, 3, 4, 5], [2, 4, 6, 8, 10], [3, 6, 9, 12, 15], [4, 8, 12, 16, 20], [5, 10, 15, 20,\n",
    "25]]\n",
    "Examples:\n",
    "multiplication_table(1) ➞ [[1]]\n",
    "multiplication_table(3) ➞ [[1, 2, 3], [2, 4, 6], [3, 6, 9]]"
   ]
  },
  {
   "cell_type": "code",
   "execution_count": 35,
   "metadata": {},
   "outputs": [
    {
     "name": "stdout",
     "output_type": "stream",
     "text": [
      "[[1, 2, 3], [2, 4, 6], [3, 6, 9]]\n",
      "[[1, 2, 3, 4, 5], [2, 4, 6, 8, 10], [3, 6, 9, 12, 15], [4, 8, 12, 16, 20], [5, 10, 15, 20, 25]]\n"
     ]
    }
   ],
   "source": [
    "def multiplication_table(num):\n",
    "    try:\n",
    "        l=[[i*j for i in range(1,num+1)]for j in range(1,num+1)]\n",
    "        return l\n",
    "    except Exception as e:\n",
    "        print(e)\n",
    "print(multiplication_table(3))        \n",
    "print(multiplication_table(5)) "
   ]
  },
  {
   "cell_type": "markdown",
   "metadata": {},
   "source": [
    "# Create a function that returns True if two lines rhyme and False otherwise.For the purposes of this exercise, two lines rhyme if the last word from eachsentence contains the same vowels."
   ]
  },
  {
   "cell_type": "code",
   "execution_count": 8,
   "metadata": {},
   "outputs": [
    {
     "name": "stdout",
     "output_type": "stream",
     "text": [
      "True\n",
      "True\n",
      "False\n",
      "False\n"
     ]
    }
   ],
   "source": [
    "def does_rhyme(st1,st2):\n",
    "    try:\n",
    "        lis1=st1.split()\n",
    "        lis2=st2.split()\n",
    "        s1,s2=[],[]\n",
    "        for i in lis1[-1].lower():\n",
    "            if i in ['a','e','i','o','u']:\n",
    "                s1+=[i]\n",
    "        for i in lis2[-1].lower():\n",
    "            if i in ['a','e','i','o','u']:\n",
    "                s2+=[i]\n",
    "        s1.sort()\n",
    "        s2.sort()\n",
    "        if s1==s2:\n",
    "            return True\n",
    "        else:\n",
    "            return False\n",
    "                \n",
    "    except Exception as e:\n",
    "        print(e)    \n",
    "print(does_rhyme('Sam I am!','Green eggs and ham.') ) \n",
    "print(does_rhyme('Sam I am!', 'Green eggs and HAM.'))\n",
    "print(does_rhyme('quot;You are off to the races','a splendid day.'))\n",
    "print(does_rhyme('and frequently do?','you gotta move.'))"
   ]
  }
 ],
 "metadata": {
  "kernelspec": {
   "display_name": "Python 3 (ipykernel)",
   "language": "python",
   "name": "python3"
  },
  "language_info": {
   "codemirror_mode": {
    "name": "ipython",
    "version": 3
   },
   "file_extension": ".py",
   "mimetype": "text/x-python",
   "name": "python",
   "nbconvert_exporter": "python",
   "pygments_lexer": "ipython3",
   "version": "3.7.6"
  }
 },
 "nbformat": 4,
 "nbformat_minor": 4
}
