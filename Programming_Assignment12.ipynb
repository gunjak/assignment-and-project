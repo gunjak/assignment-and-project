{
 "cells": [
  {
   "cell_type": "markdown",
   "metadata": {},
   "source": [
    "# Write a Python program to Extract Unique values dictionary values?"
   ]
  },
  {
   "cell_type": "code",
   "execution_count": 1,
   "metadata": {},
   "outputs": [
    {
     "data": {
      "text/plain": [
       "{2, 3, 4}"
      ]
     },
     "execution_count": 1,
     "metadata": {},
     "output_type": "execute_result"
    }
   ],
   "source": [
    "def unique(dic):\n",
    "    try:\n",
    "        return set(dic.values())\n",
    "    except Exception as e:\n",
    "        print(e)\n",
    "        \n",
    "dict_1 = {'aditi': 2, 'Kenny': 2, 'Ankita': 3, 'Ricky': 4}\n",
    "unique(dict_1)"
   ]
  },
  {
   "cell_type": "markdown",
   "metadata": {},
   "source": [
    "# Write a Python program to find the sum of all items in a dictionary?"
   ]
  },
  {
   "cell_type": "code",
   "execution_count": 2,
   "metadata": {},
   "outputs": [
    {
     "data": {
      "text/plain": [
       "11"
      ]
     },
     "execution_count": 2,
     "metadata": {},
     "output_type": "execute_result"
    }
   ],
   "source": [
    "def add(d):\n",
    "    try:\n",
    "        return(sum(d.values()))\n",
    "    except Exception as e:\n",
    "        print(e)\n",
    "dict_1 = {'aditi': 2, 'Kenny': 2, 'Ankita': 3, 'Ricky': 4}\n",
    "add(dict_1)"
   ]
  },
  {
   "cell_type": "markdown",
   "metadata": {},
   "source": [
    "# Write a Python program to Merging two Dictionaries?"
   ]
  },
  {
   "cell_type": "code",
   "execution_count": 3,
   "metadata": {},
   "outputs": [
    {
     "data": {
      "text/plain": [
       "{'aditi': 2, 'Kenny': 2, 'Ankita': 3, 'Ricky': 4, 'apple': 6, 'banana': 9}"
      ]
     },
     "execution_count": 3,
     "metadata": {},
     "output_type": "execute_result"
    }
   ],
   "source": [
    "def merge(d1,d2):\n",
    "    try:\n",
    "        new_dic=d1\n",
    "        new_dic.update(d2)\n",
    "        return new_dic\n",
    "    except Exception as e:\n",
    "        print(e)\n",
    "dict_1 = {'aditi': 2, 'Kenny': 2, 'Ankita': 3, 'Ricky': 4}\n",
    "dict_2={'apple':6,'banana':9}\n",
    "merge(dict_1,dict_2)\n",
    "        "
   ]
  },
  {
   "cell_type": "markdown",
   "metadata": {},
   "source": [
    "# Write a Python program to convert key-values list to flat dictionary?"
   ]
  },
  {
   "cell_type": "code",
   "execution_count": 4,
   "metadata": {},
   "outputs": [
    {
     "name": "stdout",
     "output_type": "stream",
     "text": [
      "Flattened dictionary : {1: 'Jan', 2: 'Feb', 3: 'March'}\n"
     ]
    }
   ],
   "source": [
    "test_dict = {'month' : [1, 2, 3],\n",
    "             'name' : ['Jan', 'Feb', 'March']}\n",
    "flat = dict(zip(test_dict['month'], test_dict['name']))\n",
    "print(\"Flattened dictionary : \" + str(flat)) "
   ]
  },
  {
   "cell_type": "markdown",
   "metadata": {},
   "source": [
    "# 5. Write a Python program to insertion at the beginning in OrderedDict?"
   ]
  },
  {
   "cell_type": "code",
   "execution_count": 5,
   "metadata": {},
   "outputs": [
    {
     "data": {
      "text/plain": [
       "OrderedDict([('manjeet', '3'),\n",
       "             ('aditi', 2),\n",
       "             ('Kenny', 2),\n",
       "             ('Ankita', 3),\n",
       "             ('Ricky', 4)])"
      ]
     },
     "execution_count": 5,
     "metadata": {},
     "output_type": "execute_result"
    }
   ],
   "source": [
    "from collections import OrderedDict\n",
    "dict_1 = OrderedDict({'aditi': 2, 'Kenny': 2, 'Ankita': 3, 'Ricky': 4})\n",
    "dict_1.update({'manjeet':'3'})\n",
    "dict_1.move_to_end('manjeet', last = False)\n",
    "dict_1"
   ]
  },
  {
   "cell_type": "markdown",
   "metadata": {},
   "source": [
    "# 6. Write a Python program to check order of character in string using OrderedDict()?"
   ]
  },
  {
   "cell_type": "code",
   "execution_count": 6,
   "metadata": {},
   "outputs": [
    {
     "name": "stdout",
     "output_type": "stream",
     "text": [
      "true\n"
     ]
    }
   ],
   "source": [
    "from collections import OrderedDict \n",
    "  \n",
    "def checkOrder(input, pattern):  \n",
    "    dict = OrderedDict.fromkeys(input) \n",
    "    ptrlen = 0\n",
    "    for key,value in dict.items(): \n",
    "        if (key == pattern[ptrlen]): \n",
    "            ptrlen = ptrlen + 1\n",
    "        if (ptrlen == (len(pattern))): \n",
    "            return 'true'\n",
    "    return 'false'\n",
    "if __name__ == \"__main__\": \n",
    "    input = 'engineers rock'\n",
    "    pattern = 'egr'\n",
    "    print (checkOrder(input,pattern)) "
   ]
  },
  {
   "cell_type": "markdown",
   "metadata": {},
   "source": [
    "# Write a Python program to sort Python Dictionaries by Key or Value?"
   ]
  },
  {
   "cell_type": "code",
   "execution_count": 7,
   "metadata": {},
   "outputs": [
    {
     "data": {
      "text/plain": [
       "[('Kenny', 2), ('aditi', 2), ('Ankita', 3), ('Ricky', 4)]"
      ]
     },
     "execution_count": 7,
     "metadata": {},
     "output_type": "execute_result"
    }
   ],
   "source": [
    "def sort(d1,s):\n",
    "    try:\n",
    "        if s==\"key\":\n",
    "            return sorted(d1.items())\n",
    "        if s==\"value\":\n",
    "            return sorted(d1.items(),key=lambda d:(d[1],d[0]))\n",
    "        \n",
    "    except Exception as e:\n",
    "        print(e)\n",
    "sort({'aditi': 2, 'Kenny': 2, 'Ankita': 3, 'Ricky': 4},'value')        "
   ]
  }
 ],
 "metadata": {
  "kernelspec": {
   "display_name": "Python 3 (ipykernel)",
   "language": "python",
   "name": "python3"
  },
  "language_info": {
   "codemirror_mode": {
    "name": "ipython",
    "version": 3
   },
   "file_extension": ".py",
   "mimetype": "text/x-python",
   "name": "python",
   "nbconvert_exporter": "python",
   "pygments_lexer": "ipython3",
   "version": "3.7.6"
  }
 },
 "nbformat": 4,
 "nbformat_minor": 4
}
