{
 "cells": [
  {
   "cell_type": "code",
   "execution_count": 70,
   "metadata": {},
   "outputs": [
    {
     "name": "stdout",
     "output_type": "stream",
     "text": [
      "\n",
      "1\n"
     ]
    },
    {
     "data": {
      "text/plain": [
       "'3'"
      ]
     },
     "execution_count": 70,
     "metadata": {},
     "output_type": "execute_result"
    }
   ],
   "source": [
    "def meme_sum(n1,n2):\n",
    "    try:\n",
    "        s=\"\"\n",
    "        s1=str(n1)\n",
    "        s2=str(n2)\n",
    "        add=\"\"\n",
    "        if len(s1)>len(s2):\n",
    "            ma=len(s2)\n",
    "            s=s1[:len(s1)-len(s2)]\n",
    "        elif len(s1)<len(s2):\n",
    "            ma=len(s1)\n",
    "            s=s2[:len(s2)-len(s1)]\n",
    "        else:\n",
    "            ma=len(s1)\n",
    "        for i in range(ma,0):\n",
    "            add=str(int(s1[i-1])+int(s2[i-1]))+add\n",
    "        if len(s)!=0:\n",
    "            return s+add\n",
    "        else:\n",
    "            return add\n",
    "    except Exception as e:\n",
    "        print(e)\n",
    "print(meme_sum(26, 39))  \n",
    "print(meme_sum(122, 81))\n",
    "meme_sum(1222, 30277)"
   ]
  },
  {
   "cell_type": "code",
   "execution_count": 7,
   "metadata": {},
   "outputs": [],
   "source": [
    "def boxes(lis):\n",
    "    try:\n",
    "        ch,s=0,0\n",
    "        for i in range(len(lis)):\n",
    "            s=s+lis[i]\n",
    "            if s>10 and i<len(lis)-1:\n",
    "                s=lis[i]\n",
    "                ch+=1\n",
    "            elif s<=10 and i==len(lis)-1:\n",
    "                ch+=1\n",
    "        return ch   \n",
    "    except Exception as e:\n",
    "        print(e)\n",
    "        \n",
    "print(boxes([2, 1, 2, 5, 4, 3, 6, 1, 1, 9, 3, 2]))        "
   ]
  },
  {
   "cell_type": "code",
   "execution_count": 13,
   "metadata": {},
   "outputs": [
    {
     "name": "stdout",
     "output_type": "stream",
     "text": [
      "3\n",
      "5\n",
      "2\n"
     ]
    }
   ],
   "source": [
    "def kempner(num):\n",
    "    try:\n",
    "        import math\n",
    "        for i in range(num+1):\n",
    "            if math.factorial(i)%num==0:\n",
    "                return i\n",
    "    except Exception as e:\n",
    "        print(e)  \n",
    "print(kempner(6))\n",
    "print(kempner(10)) \n",
    "print(kempner(2)) "
   ]
  },
  {
   "cell_type": "code",
   "execution_count": 55,
   "metadata": {},
   "outputs": [
    {
     "name": "stdout",
     "output_type": "stream",
     "text": [
      "13\n",
      "29\n",
      "11\n"
     ]
    }
   ],
   "source": [
    "def next_prime(num):\n",
    "    try:\n",
    "        import math\n",
    "        ch=0\n",
    "        for i in range(2,int(math.sqrt(num)+1)):\n",
    "            if num%i==0:\n",
    "                ch=1\n",
    "                break       \n",
    "        if ch==1:\n",
    "            p=num+1\n",
    "            while(True):\n",
    "                chh=0\n",
    "                for j in range(2,int(math.sqrt(p)+1)):\n",
    "                    if p%j==0:\n",
    "                        chh+=1\n",
    "                        break        \n",
    "                if chh!=1:\n",
    "                    return p\n",
    "                p+=1\n",
    "        else:\n",
    "            return num \n",
    "    except Exception as e:\n",
    "        print(e)\n",
    "print(next_prime(12))\n",
    "print(next_prime(24))\n",
    "print(next_prime(11))            "
   ]
  },
  {
   "cell_type": "code",
   "execution_count": 16,
   "metadata": {},
   "outputs": [
    {
     "name": "stdout",
     "output_type": "stream",
     "text": [
      "30.0\n",
      "15.0\n",
      "12.0\n"
     ]
    }
   ],
   "source": [
    "def ave_spd(time,up_spd,dwn_spd):\n",
    "    try:\n",
    "        dis=up_spd*(time/60)\n",
    "        time2=dis/dwn_spd\n",
    "        return (2*dis)/((time/60)+time2)\n",
    "    except Exception as e:\n",
    "        print(e) \n",
    "print(ave_spd(18, 20, 60))\n",
    "print(ave_spd(30, 10, 30))\n",
    "print(ave_spd(30, 8, 24))"
   ]
  },
  {
   "cell_type": "code",
   "execution_count": 62,
   "metadata": {},
   "outputs": [
    {
     "data": {
      "text/plain": [
       "0"
      ]
     },
     "execution_count": 62,
     "metadata": {},
     "output_type": "execute_result"
    }
   ],
   "source": [
    "len(\"\")"
   ]
  },
  {
   "cell_type": "code",
   "execution_count": null,
   "metadata": {},
   "outputs": [],
   "source": []
  }
 ],
 "metadata": {
  "kernelspec": {
   "display_name": "Python 3 (ipykernel)",
   "language": "python",
   "name": "python3"
  },
  "language_info": {
   "codemirror_mode": {
    "name": "ipython",
    "version": 3
   },
   "file_extension": ".py",
   "mimetype": "text/x-python",
   "name": "python",
   "nbconvert_exporter": "python",
   "pygments_lexer": "ipython3",
   "version": "3.7.6"
  }
 },
 "nbformat": 4,
 "nbformat_minor": 4
}
