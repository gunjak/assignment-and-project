{
 "cells": [
  {
   "cell_type": "markdown",
   "metadata": {},
   "source": [
    "# 1. For this challenge, forget how to add two numbers together. The best explanation on what to do for this function is this meme:"
   ]
  },
  {
   "cell_type": "code",
   "execution_count": 1,
   "metadata": {},
   "outputs": [
    {
     "name": "stdout",
     "output_type": "stream",
     "text": [
      "515\n",
      "1103\n",
      "31499\n"
     ]
    }
   ],
   "source": [
    "def meme_sum(n1,n2):\n",
    "    try:\n",
    "        s1,s2=str(n1),str(n2)\n",
    "        add=''\n",
    "        while len(s1)!=len(s2):\n",
    "            if len(s1)>len(s2):\n",
    "                s2=\"0\"+ s2\n",
    "            else:\n",
    "                s1=\"0\"+ s1\n",
    "        for i in range(len(s1)):\n",
    "            add=add+str(int(s1[i])+int(s2[i]))\n",
    "        return add\n",
    "    except Exception as e:\n",
    "        print(e)\n",
    "\n",
    "print(meme_sum(26, 39))\n",
    "print(meme_sum(122, 81))\n",
    "print(meme_sum(1222, 30277))         \n",
    "            "
   ]
  },
  {
   "cell_type": "markdown",
   "metadata": {},
   "source": [
    "# You work in a factory, and your job is to take items from a conveyor belt and pack them into boxes. Each box can hold a maximum of 10 kgs. Given a list containing the weight (in kg) of each item, how many boxes would you need to pack all of the items?"
   ]
  },
  {
   "cell_type": "code",
   "execution_count": 5,
   "metadata": {},
   "outputs": [
    {
     "name": "stdout",
     "output_type": "stream",
     "text": [
      "5\n"
     ]
    }
   ],
   "source": [
    "def boxes(lis):\n",
    "    try:\n",
    "        ch,s=0,0\n",
    "        for i in range(len(lis)):\n",
    "            s=s+lis[i]\n",
    "            if s>10 and i<len(lis)-1:\n",
    "                s=lis[i]\n",
    "                ch+=1\n",
    "            elif s<=10 and i==len(lis)-1:\n",
    "                ch+=1\n",
    "        return ch   \n",
    "    except Exception as e:\n",
    "        print(e)\n",
    "        \n",
    "print(boxes([2, 1, 2, 5, 4, 3, 6, 1, 1, 9, 3, 2]))        "
   ]
  },
  {
   "cell_type": "markdown",
   "metadata": {},
   "source": [
    "# The Kempner Function, applied to a composite number, permits to find thesmallest integer greater than zero whose factorial is exactly divided by the number.kempner(6) ➞ 3\n",
    "1! = 1 % 6 &gt; 0\n",
    "2! = 2 % 6 &gt; 0\n",
    "3! = 6 % 6 === 0\n",
    "kempner(10) ➞ 5\n",
    "1! = 1 % 10 &gt; 0\n",
    "2! = 2 % 10 &gt; 0\n",
    "3! = 6 % 10 &gt; 0\n",
    "4! = 24 % 10 &gt; 0\n",
    "5! = 120 % 10 === 0\n",
    "A Kempner Function applied to a prime will always return the prime itself."
   ]
  },
  {
   "cell_type": "code",
   "execution_count": 4,
   "metadata": {},
   "outputs": [
    {
     "name": "stdout",
     "output_type": "stream",
     "text": [
      "3\n",
      "5\n",
      "2\n"
     ]
    }
   ],
   "source": [
    "def kempner(num):\n",
    "    try:\n",
    "        import math\n",
    "        for i in range(num+1):\n",
    "            if math.factorial(i)%num==0:\n",
    "                return i\n",
    "    except Exception as e:\n",
    "        print(e)  \n",
    "print(kempner(6))\n",
    "print(kempner(10)) \n",
    "print(kempner(2)) "
   ]
  },
  {
   "cell_type": "markdown",
   "metadata": {},
   "source": [
    "# Given an integer, create a function that returns the next prime. If the number is prime, return the number itself."
   ]
  },
  {
   "cell_type": "code",
   "execution_count": 3,
   "metadata": {},
   "outputs": [
    {
     "name": "stdout",
     "output_type": "stream",
     "text": [
      "13\n",
      "29\n",
      "11\n"
     ]
    }
   ],
   "source": [
    "def next_prime(num):\n",
    "    try:\n",
    "        import math\n",
    "        ch=0\n",
    "        for i in range(2,int(math.sqrt(num)+1)):\n",
    "            if num%i==0:\n",
    "                ch=1\n",
    "                break       \n",
    "        if ch==1:\n",
    "            p=num+1\n",
    "            while(True):\n",
    "                chh=0\n",
    "                for j in range(2,int(math.sqrt(p)+1)):\n",
    "                    if p%j==0:\n",
    "                        chh+=1\n",
    "                        break        \n",
    "                if chh!=1:\n",
    "                    return p\n",
    "                p+=1\n",
    "        else:\n",
    "            return num \n",
    "    except Exception as e:\n",
    "        print(e)\n",
    "print(next_prime(12))\n",
    "print(next_prime(24))\n",
    "print(next_prime(11))            "
   ]
  },
  {
   "cell_type": "markdown",
   "metadata": {},
   "source": [
    "# If a person traveled up a hill for 18mins at 20mph and then traveled backdown the same path at 60mph then their average speed traveled was 30mph.Write a function that returns the average speed traveled given an uphill time,uphill rate and a downhill rate. Uphill time is given in minutes. Return the rateas an integer (mph). No rounding is necessary."
   ]
  },
  {
   "cell_type": "code",
   "execution_count": 2,
   "metadata": {},
   "outputs": [
    {
     "name": "stdout",
     "output_type": "stream",
     "text": [
      "30.0\n",
      "15.0\n",
      "12.0\n"
     ]
    }
   ],
   "source": [
    "def ave_spd(time,up_spd,dwn_spd):\n",
    "    try:\n",
    "        dis=up_spd*(time/60)\n",
    "        time2=dis/dwn_spd\n",
    "        return (2*dis)/((time/60)+time2)\n",
    "    except Exception as e:\n",
    "        print(e) \n",
    "print(ave_spd(18, 20, 60))\n",
    "print(ave_spd(30, 10, 30))\n",
    "print(ave_spd(30, 8, 24))"
   ]
  }
 ],
 "metadata": {
  "kernelspec": {
   "display_name": "Python 3 (ipykernel)",
   "language": "python",
   "name": "python3"
  },
  "language_info": {
   "codemirror_mode": {
    "name": "ipython",
    "version": 3
   },
   "file_extension": ".py",
   "mimetype": "text/x-python",
   "name": "python",
   "nbconvert_exporter": "python",
   "pygments_lexer": "ipython3",
   "version": "3.7.6"
  }
 },
 "nbformat": 4,
 "nbformat_minor": 4
}
