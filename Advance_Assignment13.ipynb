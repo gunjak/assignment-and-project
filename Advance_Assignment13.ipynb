{
 "cells": [
  {
   "cell_type": "code",
   "execution_count": null,
   "metadata": {},
   "outputs": [],
   "source": [
    "Q1.Can you create a programme or function that employs both positive and negative indexing? Is there any repercussion if you\n",
    "do so?\n",
    "A.\n",
    "\n",
    "def func1(a):\n",
    "    st1=a[1:4]\n",
    "    l=len(a)\n",
    "    st2=a[-1:-(l+1):-1]\n",
    "    st3=a[1:-6]\n",
    "       \n",
    "    return st1,st2,st3\n",
    "\n",
    "a=\"hello world\"\n",
    "func1(a)\n",
    "output:\n",
    "('ell', 'dlrow olleh', 'ello')"
   ]
  },
  {
   "cell_type": "code",
   "execution_count": null,
   "metadata": {},
   "outputs": [],
   "source": [
    "Q2. What is the most effective way of starting with 1,000 elements in a Python list? Assume that all elements should be set to\n",
    "the same value.\n",
    " Use list comprehension to create a list of 1000 elements\n",
    "A.    \n",
    "val=10\n",
    "lst=[val for i in range(0,1000)]\n",
    "print(lst)\n"
   ]
  },
  {
   "cell_type": "code",
   "execution_count": null,
   "metadata": {},
   "outputs": [],
   "source": [
    "Q3. How do you slice a list to get any other part while missing the rest? (For example, suppose you want to make a new list\n",
    "   with the elements first, third, fifth, seventh, and so on.)\n",
    "\n",
    "lst=[1,2,3,4,5,6,7,8,9,10]\n",
    "\n",
    "lst[0:len(lst):2]\n",
    "[1, 3, 5, 7, 9]"
   ]
  },
  {
   "cell_type": "code",
   "execution_count": null,
   "metadata": {},
   "outputs": [],
   "source": [
    "Q4. Explain the distinctions between indexing and slicing.\n",
    "Indexing refers to an element of an iterable by its position within the iterable.\n",
    "Slicing means getting a subset of elements from an iterable based on their indexes.\n"
   ]
  },
  {
   "cell_type": "code",
   "execution_count": null,
   "metadata": {},
   "outputs": [],
   "source": [
    "Q5. What happens if one of the slicing expression's indexes is out of range?\n",
    " If the indexes are out of range, python will throw a Index error saying \n",
    " IndexError: string index out of range"
   ]
  },
  {
   "cell_type": "code",
   "execution_count": null,
   "metadata": {},
   "outputs": [],
   "source": [
    "Q6. If you pass a list to a function, and if you want the function to be able to change the values of the list—so that the list\n",
    "is different after the function returns—what action should you avoid?\n",
    "\n",
    "#should not pass list as slice[:]\n",
    "\n",
    " lst1=[1,2,3,4,5,6,7,89,78]\n",
    "\n",
    "\n",
    "def func1(lst1):\n",
    "    print(\"Inside function:\",lst1)\n",
    "    lst1[3]=9\n",
    "    return lst1\n",
    "    \n",
    "print(\"First:\",lst1)\n",
    "func1(lst1)\n",
    "print(\"End:\", lst1)\n",
    "    \n",
    "First: [1, 2, 3, 4, 5, 6, 7, 89, 78]\n",
    "End: [1, 2, 4, 5, 6, 7, 89, 78]   "
   ]
  },
  {
   "cell_type": "code",
   "execution_count": null,
   "metadata": {},
   "outputs": [],
   "source": [
    "Q7. What is the concept of an unbalanced matrix?\n",
    "\n",
    "A. Whenever the cost matrix of an assignment problem is not a square matrix, \n",
    " that is, whenever the number of sources is not equal to the number of destinations,\n",
    " the assignment problem is called an unbalanced assignment problem and the matrix is called unbalanced matrix."
   ]
  },
  {
   "cell_type": "code",
   "execution_count": null,
   "metadata": {},
   "outputs": [],
   "source": [
    "Q8. Why is it necessary to use either list comprehension or a loop to create arbitrarily large matrices?\n",
    "A.\n",
    "List Comprehension is fast and elegant in cases where simple expressions are involved. \n",
    "for-loop is bulkier in general, but it is fastest if storing is not required. \n",
    " So should be preferred in cases where we need to simply iterate and perform operations. "
   ]
  }
 ],
 "metadata": {
  "kernelspec": {
   "display_name": "Python 3 (ipykernel)",
   "language": "python",
   "name": "python3"
  },
  "language_info": {
   "codemirror_mode": {
    "name": "ipython",
    "version": 3
   },
   "file_extension": ".py",
   "mimetype": "text/x-python",
   "name": "python",
   "nbconvert_exporter": "python",
   "pygments_lexer": "ipython3",
   "version": "3.7.6"
  }
 },
 "nbformat": 4,
 "nbformat_minor": 4
}
