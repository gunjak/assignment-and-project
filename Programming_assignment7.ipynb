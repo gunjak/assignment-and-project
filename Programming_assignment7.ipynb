{
 "cells": [
  {
   "cell_type": "code",
   "execution_count": null,
   "metadata": {},
   "outputs": [],
   "source": [
    "def add_arr(a1,a2):\n",
    "    \"\"\"Python Program to find sum of arrays\"\"\"\n",
    "    try:\n",
    "        l=[]\n",
    "        for i in range(len(a1)):\n",
    "            l.append(a1[i]+a2[i])\n",
    "        return l        \n",
    "    except Exception as e:\n",
    "        print(e)\n",
    "    "
   ]
  },
  {
   "cell_type": "code",
   "execution_count": null,
   "metadata": {},
   "outputs": [],
   "source": [
    "def maxim(arr):\n",
    "    \"\"\"Python Program to find largest element in an array\"\"\"\n",
    "    try:\n",
    "        maxi=arr[0]\n",
    "        for i in range(len(arr)-1):\n",
    "            if arr[i+1]>maxi:\n",
    "                maxi=arr[i+1]\n",
    "        return maxi        \n",
    "    except Exception as e:\n",
    "        print(e)"
   ]
  },
  {
   "cell_type": "code",
   "execution_count": null,
   "metadata": {},
   "outputs": [],
   "source": [
    "def arr_rot(arr,n):\n",
    "    \"\"\"Python Program for array rotation\"\"\"\n",
    "    try:\n",
    "        arr=arr[n:]+arr[:n]\n",
    "        return arr\n",
    "    except Exception as e:\n",
    "        print(e)"
   ]
  },
  {
   "cell_type": "code",
   "execution_count": null,
   "metadata": {},
   "outputs": [],
   "source": [
    "def split(arr):\n",
    "    \"\"\"Python Program to Split the array and add the first part to the end\"\"\"\n",
    "    try:\n",
    "        a=arr[1:]\n",
    "        b=arr[0]\n",
    "        arr=a+[b]\n",
    "        return arr\n",
    "    except Exception as e:\n",
    "        print(e)"
   ]
  },
  {
   "cell_type": "code",
   "execution_count": 10,
   "metadata": {},
   "outputs": [
    {
     "data": {
      "text/plain": [
       "True"
      ]
     },
     "execution_count": 10,
     "metadata": {},
     "output_type": "execute_result"
    }
   ],
   "source": [
    "def ismono(arr):\n",
    "    \"\"\"Python Program to check if given array is Monotonic\"\"\"\n",
    "    try:\n",
    "        i=0\n",
    "        c=True\n",
    "        d=True\n",
    "        while i<(len(arr)-1):\n",
    "            if arr[i]>=arr[i+1]:\n",
    "                pass\n",
    "            else:\n",
    "                c=False\n",
    "            i+=1    \n",
    "        i=0        \n",
    "        while i<(len(arr)-1):\n",
    "            if arr[i]<=arr[i+1]:\n",
    "                pass\n",
    "            else:\n",
    "                d=False\n",
    "            i+=1    \n",
    "        return c or d\n",
    "    except Exception as e:\n",
    "        print(e)\n",
    "ismono([10,9,8,8,7])\n",
    "            "
   ]
  }
 ],
 "metadata": {
  "kernelspec": {
   "display_name": "Python 3",
   "language": "python",
   "name": "python3"
  },
  "language_info": {
   "codemirror_mode": {
    "name": "ipython",
    "version": 3
   },
   "file_extension": ".py",
   "mimetype": "text/x-python",
   "name": "python",
   "nbconvert_exporter": "python",
   "pygments_lexer": "ipython3",
   "version": "3.7.6"
  }
 },
 "nbformat": 4,
 "nbformat_minor": 4
}
