{
 "cells": [
  {
   "cell_type": "code",
   "execution_count": null,
   "metadata": {},
   "outputs": [],
   "source": [
    "def count_layers(l):\n",
    "    try:\n",
    "        if len(l)%2==0:\n",
    "            return len(l)//2\n",
    "        else:\n",
    "            return (len(l)//2)+1\n",
    "    except Exception as e:\n",
    "        print(e)\n",
    "#check\n",
    "print(count_layers([\n",
    "  \"AAAA\",\n",
    "  \"ABBA\",\n",
    "  \"AAAA\"\n",
    "]) )\n",
    "print(count_layers([\n",
    "  \"AAAAAAAAA\",\n",
    "  \"ABBBBBBBA\",\n",
    "  \"ABBAAABBA\",\n",
    "  \"ABBBBBBBA\",\n",
    "  \"AAAAAAAAA\"\n",
    "]))\n",
    "print(count_layers([\n",
    "  \"AAAAAAAAAAA\",\n",
    "  \"AABBBBBBBAA\",\n",
    "  \"AABCCCCCBAA\",\n",
    "  \"AABCAAACBAA\",\n",
    "  \"AABCADACBAA\",\n",
    "  \"AABCAAACBAA\",\n",
    "  \"AABCCCCCBAA\",\n",
    "  \"AABBBBBBBAA\",\n",
    "  \"AAAAAAAAAAA\"\n",
    "]))\n"
   ]
  },
  {
   "cell_type": "code",
   "execution_count": null,
   "metadata": {},
   "outputs": [],
   "source": [
    "def unique_styles(lis):\n",
    "    lis=set(lis)\n",
    "    return len(lis)\n",
    "print(unique_styles([\n",
    "  \"Dub,Dancehall\",\n",
    "  \"Industrial,Heavy Metal\",\n",
    "  \"Techno,Dubstep\",\n",
    "  \"Synth-pop,Euro-Disco\",\n",
    "  \"Industrial,Techno,Minimal\"\n",
    "])) \n",
    "print(unique_styles([\"Soul\",\n",
    "  \"House,Folk\",\n",
    "  \"Trance,Downtempo,Big Beat,House\",\n",
    "  \"Deep House\",\n",
    "  \"Soul\"\n",
    "])) \n",
    "\n"
   ]
  },
  {
   "cell_type": "code",
   "execution_count": null,
   "metadata": {},
   "outputs": [],
   "source": [
    "def power_ranger(a,b,c):\n",
    "    ch,i=0,1\n",
    "    while(True):\n",
    "        if pow(i,a)>=b  pow(i,a)==c:\n",
    "            ch+=1\n",
    "        elif pow(i,a)>c:\n",
    "            break\n",
    "        i+=1\n",
    "    return ch\n",
    "power_ranger(2, 49, 65) "
   ]
  },
  {
   "cell_type": "code",
   "execution_count": 2,
   "metadata": {},
   "outputs": [],
   "source": [
    "def rearranged_difference(num):\n",
    "    try:\n",
    "        mi=int(\"\".join(sorted(str(num))))\n",
    "        ma=int(\"\".join(sorted(str(num),reverse=True)))\n",
    "        return ma-mi\n",
    "    except Exception as e:\n",
    "        print(e)"
   ]
  },
  {
   "cell_type": "code",
   "execution_count": 20,
   "metadata": {},
   "outputs": [
    {
     "name": "stdout",
     "output_type": "stream",
     "text": [
      "No\n",
      "yes\n"
     ]
    }
   ],
   "source": [
    "def is_primes(primes,num):\n",
    "    def prime(primes,num,h,l):\n",
    "        if h>=l:\n",
    "            mid=(h+l)//2\n",
    "            if primes[mid]==num:\n",
    "                return 'yes'\n",
    "            elif primes[mid]>num:\n",
    "                return prime(primes,num,mid-1,l)\n",
    "            elif primes[mid]<num:\n",
    "                return prime(primes,num,h,mid+1)\n",
    "        else:\n",
    "            return \"No\"\n",
    "    return prime(primes,num,len(primes)-1,0)\n",
    "primes = [2, 3, 5, 7, 11, 13, 17, 19, 23, 29, 31, 37, 41, 43, 47, 53, 59, 61, 67,71, 73, 79, 83, 89, 97]\n",
    "print(is_primes(primes,4))\n",
    "print(is_primes(primes,47))\n",
    "    \n",
    "    "
   ]
  }
 ],
 "metadata": {
  "kernelspec": {
   "display_name": "Python 3 (ipykernel)",
   "language": "python",
   "name": "python3"
  },
  "language_info": {
   "codemirror_mode": {
    "name": "ipython",
    "version": 3
   },
   "file_extension": ".py",
   "mimetype": "text/x-python",
   "name": "python",
   "nbconvert_exporter": "python",
   "pygments_lexer": "ipython3",
   "version": "3.7.6"
  }
 },
 "nbformat": 4,
 "nbformat_minor": 4
}
