{
 "cells": [
  {
   "cell_type": "code",
   "execution_count": null,
   "metadata": {},
   "outputs": [],
   "source": [
    "def lis_1(a):\n",
    "    \"\"\"This function return addition of int or float in the list\n",
    "    a--> argument takes list\n",
    "    \"\"\"\n",
    "    try:\n",
    "        if type(a)==list:\n",
    "            s=0\n",
    "            for i in a:\n",
    "                if type(i)==int or type(i)==float:\n",
    "                    s=s+i\n",
    "        return s \n",
    "    except: \n",
    "        print(\"invalid argument\")"
   ]
  },
  {
   "cell_type": "code",
   "execution_count": null,
   "metadata": {},
   "outputs": [],
   "source": [
    "def lis_2(a):\n",
    "    \"\"\"This function return mulitiply of int or float in the list\"\"\"\n",
    "    try:\n",
    "        if type(a)==list:\n",
    "            m=1\n",
    "            for i in a:\n",
    "                if type(i)==int or type(i)==float:\n",
    "                    m=m*i\n",
    "        return m  \n",
    "    except:\n",
    "        print(\"invalid argument\")"
   ]
  },
  {
   "cell_type": "code",
   "execution_count": null,
   "metadata": {},
   "outputs": [],
   "source": [
    "def lis_3(a):\n",
    "    \"\"\"this function returns minimum value\"\"\"\n",
    "    try:\n",
    "        if type(a)==list:\n",
    "            mini=a[0]\n",
    "            for i in a:\n",
    "                if type(i)==int or type(i)==float:\n",
    "                    if mini>i:\n",
    "                        mini=i\n",
    "        return mini\n",
    "    except:\n",
    "        print('invalid argument')\n",
    "    "
   ]
  },
  {
   "cell_type": "code",
   "execution_count": null,
   "metadata": {},
   "outputs": [],
   "source": [
    "def lis_4(a):\n",
    "    \"\"\"this function returns maximum value\"\"\"\n",
    "    try:\n",
    "        if type(a)==list:\n",
    "            mini=a[0]\n",
    "            for i in a:\n",
    "                if type(i)==int or type(i)==float:\n",
    "                    if mini<i:\n",
    "                        mini=i\n",
    "        return mini \n",
    "    except:\n",
    "        print(\"invalid argument\")"
   ]
  },
  {
   "cell_type": "code",
   "execution_count": null,
   "metadata": {},
   "outputs": [],
   "source": [
    "def lis_5(a):\n",
    "    \"\"\"this function return second largest number\"\"\"\n",
    "    try:\n",
    "        if type(a)==list:\n",
    "            a.sort()\n",
    "        return a[(len(a)-2)]\n",
    "    except:\n",
    "        print('invalid argument')"
   ]
  },
  {
   "cell_type": "code",
   "execution_count": null,
   "metadata": {},
   "outputs": [],
   "source": [
    "def lis_6(N,a):\n",
    "    '''this function return N largest number'''\n",
    "    try:\n",
    "        if type(a)==list and len(a)>=N and type(N)==int:\n",
    "            a.sort()\n",
    "            return a[len(a)-N:]\n",
    "    except:\n",
    "        print(\"invalid argument\")    "
   ]
  },
  {
   "cell_type": "code",
   "execution_count": null,
   "metadata": {},
   "outputs": [],
   "source": [
    "lis_6(3,[6,4,8,2,1,9])"
   ]
  },
  {
   "cell_type": "code",
   "execution_count": null,
   "metadata": {},
   "outputs": [],
   "source": [
    "def lis_7(a):\n",
    "    \"\"\"this function genrate even number from list\"\"\"\n",
    "    try:\n",
    "        if type(a)==list:\n",
    "            for i in a:\n",
    "                if type(i)==int and i%2==0:\n",
    "                    yield i     \n",
    "    except:\n",
    "        print(\"invalid argument\")"
   ]
  },
  {
   "cell_type": "code",
   "execution_count": null,
   "metadata": {},
   "outputs": [],
   "source": [
    "def lis_8(a):\n",
    "    \"\"\"this function genrate odd number from list\"\"\"\n",
    "    for i in a:\n",
    "        if type(i)==int and i%2!=0:\n",
    "            yield i "
   ]
  },
  {
   "cell_type": "code",
   "execution_count": null,
   "metadata": {},
   "outputs": [],
   "source": [
    "def lis_9(b):\n",
    "    \"\"\"this function removes empty list\"\"\"\n",
    "    try:\n",
    "        if type(b)==list:\n",
    "            for i in b:\n",
    "                if type(i)==list and len(i)==0:\n",
    "                    b.remove(i)\n",
    "        return b \n",
    "    except:\n",
    "        print(\"invalid argument\")"
   ]
  },
  {
   "cell_type": "code",
   "execution_count": null,
   "metadata": {},
   "outputs": [],
   "source": [
    "def lis_10(a):\n",
    "    \"\"\"this function returns copy of list\"\"\"\n",
    "    try:\n",
    "        if type(a)==list:\n",
    "            b=a\n",
    "            return b\n",
    "    except:\n",
    "        print(\"invalid argument\") "
   ]
  },
  {
   "cell_type": "code",
   "execution_count": null,
   "metadata": {},
   "outputs": [],
   "source": [
    "def lis_11(ele,c):\n",
    "    \"\"\"this function return number of element in the list\"\"\"\n",
    "    try:\n",
    "        if type(c)==list:\n",
    "            ch=0\n",
    "            for i in c:\n",
    "                if i==ele:\n",
    "                    ch+=1\n",
    "        return ch  \n",
    "    except:\n",
    "        print(\"invalid argument\")\n",
    "    "
   ]
  }
 ],
 "metadata": {
  "kernelspec": {
   "display_name": "Python 3",
   "language": "python",
   "name": "python3"
  },
  "language_info": {
   "codemirror_mode": {
    "name": "ipython",
    "version": 3
   },
   "file_extension": ".py",
   "mimetype": "text/x-python",
   "name": "python",
   "nbconvert_exporter": "python",
   "pygments_lexer": "ipython3",
   "version": "3.7.6"
  }
 },
 "nbformat": 4,
 "nbformat_minor": 4
}
