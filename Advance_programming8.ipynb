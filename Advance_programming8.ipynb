{
 "cells": [
  {
   "cell_type": "code",
   "execution_count": null,
   "metadata": {},
   "outputs": [],
   "source": [
    "def vowel_links(s):\n",
    "    try:\n",
    "        \"\"\"a sentence as txt, return True if any two adjacent words have this property: One word ends with a vowel, while the \n",
    "        word immediately after begins with a vowel (a e i o u).\"\"\"\n",
    "        l=s.split()\n",
    "        for i in range(len(l)-1):\n",
    "            first,sec=l[i],l[i+1]\n",
    "            if first[-1] in 'aeiouAEIOU' and sec[0] in 'aeiouAEIOU':\n",
    "                return True\n",
    "        return False\n",
    "    except Exception as e:\n",
    "        print(e)\n",
    "    "
   ]
  },
  {
   "cell_type": "code",
   "execution_count": null,
   "metadata": {},
   "outputs": [],
   "source": [
    "def char_at_pos(data, b):\n",
    "    try:\"\"\"a function that returns the characters from a list or string r on odd or even positions, depending on the specifier\n",
    "    s. The specifier will be \"odd\" for items on odd positions (1, 3, 5, ...) and \"even\" for items on even positions (2, 4, 6, \n",
    "    ...).\"\"\"\n",
    "        if b=='even':\n",
    "            from_=1\n",
    "        else:\n",
    "            from_=0\n",
    "        return data[from_:len(data):2] \n",
    "    except Exception as e:\n",
    "        print(e)    \n",
    "    "
   ]
  },
  {
   "cell_type": "code",
   "execution_count": null,
   "metadata": {},
   "outputs": [],
   "source": [
    ". A number/string is a palindrome if the digits/characters are the same when read both forward and backward. Examples include \n",
    "\"racecar\" and 12321. Given a positive number n, check if n or the binary representation of n is palindromic. Return the \n",
    "following:\n",
    "\n",
    "- \"Decimal only.\" if only n is a palindrome.\n",
    "- \"Binary only.\" if only the binary representation of n is a palindrome.\n",
    "- \"Decimal and binary.\" if both are palindromes.\n",
    "- \"Neither!\" if neither are palindromes.\n"
   ]
  },
  {
   "cell_type": "code",
   "execution_count": null,
   "metadata": {},
   "outputs": [],
   "source": [
    "def palindrome_type(num):\n",
    "    try:\n",
    "        s=str(num)\n",
    "        binary=bin(num)\n",
    "        binary=binary[2:]\n",
    "        if s==s[::-1] and binary!=binary[::-1]:\n",
    "            return 'Decimal only.'\n",
    "        if s==s[::-1] and binary==binary[::-1]:\n",
    "            return 'Decimal and Binary.'\n",
    "        if s!=s[::-1] and binary!=binary[::-1]:\n",
    "            return \"Neither!\"\n",
    "        if s!=s[::-1] and binary==binary[::-1]:\n",
    "            return \"Binary only.\" \n",
    "    except Exception as e:\n",
    "        print(e)\n",
    "#check \n",
    "print(palindrome_type(1306031))\n",
    "print(palindrome_type(427787) )\n",
    "print(palindrome_type(313) )\n",
    "print(palindrome_type(934))"
   ]
  },
  {
   "cell_type": "code",
   "execution_count": null,
   "metadata": {},
   "outputs": [],
   "source": [
    "def GCD(l):\n",
    "    import math\n",
    "    \"\"\"a function that returns the greatest common divisor of all list elements. If the greatest common divisor is 1, return 1.\n",
    "    \"\"\"\n",
    "    try:\n",
    "        p=l[0]\n",
    "        for i in range(1,len(l)):\n",
    "            p=math.gcd(l[i],p)\n",
    "        return p\n",
    "    except Exception as e:\n",
    "        print(e)"
   ]
  },
  {
   "cell_type": "code",
   "execution_count": null,
   "metadata": {},
   "outputs": [],
   "source": [
    "def first_before_second(st,a,b):\n",
    "    try:\n",
    "        \"\"\"function that returns True if every instance of the first letter occurs before every instance of the second letter.\n",
    "        \"\"\"\n",
    "        t=[]\n",
    "        for i in st:\n",
    "            if i==a or i==b:\n",
    "                t.append(i)\n",
    "        s=t[0]        \n",
    "        for i in t:\n",
    "            if b==s:\n",
    "                if i==a:\n",
    "                    return False\n",
    "            else:\n",
    "                s=i\n",
    "        return True\n",
    "    except Exception as e:\n",
    "        print(e)\n",
    "                "
   ]
  }
 ],
 "metadata": {
  "kernelspec": {
   "display_name": "Python 3 (ipykernel)",
   "language": "python",
   "name": "python3"
  },
  "language_info": {
   "codemirror_mode": {
    "name": "ipython",
    "version": 3
   },
   "file_extension": ".py",
   "mimetype": "text/x-python",
   "name": "python",
   "nbconvert_exporter": "python",
   "pygments_lexer": "ipython3",
   "version": "3.7.6"
  }
 },
 "nbformat": 4,
 "nbformat_minor": 4
}
