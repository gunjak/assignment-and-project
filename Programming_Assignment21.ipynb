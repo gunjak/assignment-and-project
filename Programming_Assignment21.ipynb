{
 "cells": [
  {
   "cell_type": "code",
   "execution_count": null,
   "metadata": {},
   "outputs": [],
   "source": [
    "def next_in_line(lis,num):\n",
    "    \"\"\"a function that takes a list and a number as arguments. Add the number to the end of\n",
    "the list, then remove the first element of the list.  return the updated list.\"\"\"\n",
    "    try: \n",
    "        if type(lis)==list:\n",
    "            lis.append(num)\n",
    "            lis.__delitem__(0)\n",
    "            if lis==[]:\n",
    "                print('No list has been selected')\n",
    "            else:    \n",
    "                return lis  \n",
    "    except Exception as e:\n",
    "        print(e)"
   ]
  },
  {
   "cell_type": "code",
   "execution_count": null,
   "metadata": {},
   "outputs": [],
   "source": [
    "def get_budgets(k):\n",
    "    \"\"\"function that takes a list of dictionaries and returns the sum of people&#39;s budgets.\"\"\"\n",
    "    try:\n",
    "        budget=0\n",
    "        for i in k:\n",
    "            budget=i['budget']+budget\n",
    "        return budget\n",
    "    except Exception as e:\n",
    "        print(e)\n",
    "get_budgets([\n",
    "{ 'name': 'John', 'age': 21, 'budget': 23000 },\n",
    "{ 'name': 'Steve', 'age': 32, 'budget': 40000 },\n",
    "{ 'name':'Martin', 'age': 16, 'budget': 2700 }\n",
    "])\n",
    "    \n",
    "    "
   ]
  },
  {
   "cell_type": "code",
   "execution_count": null,
   "metadata": {},
   "outputs": [],
   "source": [
    "def alphabet_soup(st):\n",
    "    \"\"\"function that takes a string and returns a string with its letters in alphabetical order.\"\"\"\n",
    "    try:\n",
    "        return \"\".join(sorted(st))\n",
    "    except Exception as e:\n",
    "        print(e)\n",
    "            "
   ]
  },
  {
   "cell_type": "code",
   "execution_count": null,
   "metadata": {},
   "outputs": [],
   "source": [
    "def compound_interest(p,t,r,n):\n",
    "    \"\"\"a function that accepts the principal p, the term in years t, the interest rate r, and the\n",
    "number of compounding periods per year n. The function returns the value at the end of term\n",
    "rounded to the nearest cent.\"\"\"\n",
    "    try:\n",
    "        return round(pow((1+r/n),n*t)*p,2)\n",
    "    except Exception as e:\n",
    "        print(e)"
   ]
  },
  {
   "cell_type": "code",
   "execution_count": null,
   "metadata": {},
   "outputs": [],
   "source": [
    "def return_only_integer(lis):\n",
    "    \"\"\"function that takes a list of elements and returns only the integers.\"\"\"\n",
    "    try:\n",
    "        if type(lis)==list:\n",
    "            l=[i for i in lis if type(i)==int]\n",
    "        return l\n",
    "    except Exception as e:\n",
    "        print(e)"
   ]
  }
 ],
 "metadata": {
  "kernelspec": {
   "display_name": "Python 3",
   "language": "python",
   "name": "python3"
  },
  "language_info": {
   "codemirror_mode": {
    "name": "ipython",
    "version": 3
   },
   "file_extension": ".py",
   "mimetype": "text/x-python",
   "name": "python",
   "nbconvert_exporter": "python",
   "pygments_lexer": "ipython3",
   "version": "3.7.6"
  }
 },
 "nbformat": 4,
 "nbformat_minor": 4
}
