{
 "cells": [
  {
   "cell_type": "code",
   "execution_count": null,
   "metadata": {},
   "outputs": [],
   "source": [
    "def pentagonal(num):\n",
    "    try:\n",
    "        \"\"\"a function that takes a positive integer num and calculates how many dots exist in a pentagonal shape around \n",
    "        the center dot on the Nth iteration\"\"\"\n",
    "        if num==1:\n",
    "            return 1\n",
    "        else:\n",
    "            return (num-1)*5+pentagonal(num-1)\n",
    "    except Exception as e:\n",
    "        print(e)\n",
    "           \n",
    "            "
   ]
  },
  {
   "cell_type": "code",
   "execution_count": null,
   "metadata": {},
   "outputs": [],
   "source": [
    "def encrypt(st):\n",
    "    try:\n",
    "        \"\"\"this function encrypts a given input\"\"\"\n",
    "        if type(st)==str:\n",
    "            st=st[::-1]\n",
    "            st=st.replace(\"a\",'0')\n",
    "            st=st.replace(\"e\",'1')\n",
    "            st=st.replace('i','2')\n",
    "            st=st.replace('o','2')\n",
    "            st=st.replace('u','3')\n",
    "            return st+'aca'\n",
    "        else:\n",
    "            raise Exception(\"invalid argument\")\n",
    "    except Exception as e:\n",
    "        print(e)\n",
    "#check\n",
    "print(encrypt(\"banana\"))\n",
    "print(encrypt(\"karaca\"))\n",
    "print(encrypt(\"burak\"))\n",
    "print(encrypt(\"alpaca\"))"
   ]
  },
  {
   "cell_type": "code",
   "execution_count": null,
   "metadata": {},
   "outputs": [],
   "source": [
    "def has_friday_13(month,year):\n",
    "    try:\n",
    "        \"\"\"check whether the month has friday on day 13\"\"\"\n",
    "        import datetime\n",
    "        if datetime.date(year,month,13).isoweekday()==5:\n",
    "            return True\n",
    "        else:\n",
    "            return False\n",
    "    except Exception as e:\n",
    "        print(e)\n",
    "#check\n",
    "print(has_friday_13(3, 2020))\n",
    "print(has_friday_13(10, 2017))\n",
    "print(has_friday_13(1, 1985))"
   ]
  },
  {
   "cell_type": "code",
   "execution_count": null,
   "metadata": {},
   "outputs": [],
   "source": [
    "lst=['bad cookie','good cookie','bad cookie','good cookie','good cookie']\n",
    "pattern='(?<!good cookie)bad cookie'\n",
    "len(re.findall(pattern,','.join(lst)))"
   ]
  },
  {
   "cell_type": "code",
   "execution_count": null,
   "metadata": {},
   "outputs": [],
   "source": [
    "def pluralize(lis):\n",
    "    try:\n",
    "        \"\"\"return a set of those words in the plural form if they appear more than once in the list.\"\"\"\n",
    "        import collections\n",
    "        s=collections.Counter(lis) \n",
    "        c={}\n",
    "        for i,j in s.items():\n",
    "            if j>1:\n",
    "                c[i+'s']=j\n",
    "            else:\n",
    "                c[i]=j\n",
    "                \n",
    "        return  set(c.keys())      \n",
    "    except Exception as e:\n",
    "        print(e)\n",
    "#check\n",
    "print(pluralize([\"cow\", \"pig\", \"cow\", \"cow\"]))\n",
    "print(pluralize([\"table\", \"table\", \"table\"]))\n",
    "print(pluralize([\"chair\", \"pencil\", \"arm\"]))"
   ]
  }
 ],
 "metadata": {
  "kernelspec": {
   "display_name": "Python 3",
   "language": "python",
   "name": "python3"
  },
  "language_info": {
   "codemirror_mode": {
    "name": "ipython",
    "version": 3
   },
   "file_extension": ".py",
   "mimetype": "text/x-python",
   "name": "python",
   "nbconvert_exporter": "python",
   "pygments_lexer": "ipython3",
   "version": "3.7.6"
  }
 },
 "nbformat": 4,
 "nbformat_minor": 4
}
