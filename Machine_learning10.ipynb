{
 "cells": [
  {
   "cell_type": "markdown",
   "metadata": {},
   "source": [
    "# 1. Define the Bayesian interpretation of probability."
   ]
  },
  {
   "cell_type": "code",
   "execution_count": null,
   "metadata": {},
   "outputs": [],
   "source": [
    "Bayesian probability is an interpretation of the concept of probability, in which, instead of frequency or propensity of some \n",
    "phenomenon, probability is interpreted as reasonable expectation representing a state of knowledge or as quantification of a \n",
    "personal belief."
   ]
  },
  {
   "cell_type": "markdown",
   "metadata": {},
   "source": [
    "# 2. Define probability of a union of two events with equation."
   ]
  },
  {
   "cell_type": "code",
   "execution_count": null,
   "metadata": {},
   "outputs": [],
   "source": [
    "The probability of the union of two events E and F equals the sum of the probability of E and the probability of F minus the\n",
    "probability of E and F occurring together ."
   ]
  },
  {
   "cell_type": "markdown",
   "metadata": {},
   "source": [
    "# 3. What is joint probability? What is its formula?"
   ]
  },
  {
   "cell_type": "code",
   "execution_count": null,
   "metadata": {},
   "outputs": [],
   "source": [
    "Probabilities are combined using multiplication, therefore the joint probability of independent events is calculated as the \n",
    "probability of event A multiplied by the probability of event B. This can be stated formally as follows: Joint Probability: \n",
    "        P(A and B) = P(A) * P(B)"
   ]
  },
  {
   "cell_type": "markdown",
   "metadata": {},
   "source": [
    "# 4. What is chain rule of probability?"
   ]
  },
  {
   "cell_type": "code",
   "execution_count": null,
   "metadata": {},
   "outputs": [],
   "source": [
    "the chain rule permits the calculation of any member of the joint distribution of a set of random variables using only \n",
    "conditional probabilities. The rule is useful in the study of Bayesian networks, which describe a probability distribution in \n",
    "terms of conditional probabilities."
   ]
  },
  {
   "cell_type": "markdown",
   "metadata": {},
   "source": [
    "# 5. What is conditional probability means? What is the formula of it?"
   ]
  },
  {
   "cell_type": "code",
   "execution_count": null,
   "metadata": {},
   "outputs": [],
   "source": [
    "Conditional probability is known as the possibility of an event or outcome happening, based on the existence of a previous event\n",
    "or outcome. It is calculated by multiplying the probability of the preceding event by the renewed probability of the succeeding,\n",
    "or conditional, event.The probability of occurrence of any event A when another event B in relation to A has already occurred is\n",
    "known as conditional probability.formula\n",
    "P(A|B) = N(A∩B)/N(B)\n",
    "Or\n",
    "\n",
    "P(B|A) = N(A∩B)/N(A)"
   ]
  },
  {
   "cell_type": "markdown",
   "metadata": {},
   "source": [
    "# 6. What are continuous random variables? "
   ]
  },
  {
   "cell_type": "code",
   "execution_count": null,
   "metadata": {},
   "outputs": [],
   "source": [
    "A continuous random variable is one which takes an infinite number of possible values. Continuous random variables are usually\n",
    "measurements. Examples include height, weight, the amount of sugar in an orange, the time required to run a mile."
   ]
  },
  {
   "cell_type": "markdown",
   "metadata": {},
   "source": [
    "# 7. What are Bernoulli distributions? What is the formula of it?"
   ]
  },
  {
   "cell_type": "code",
   "execution_count": null,
   "metadata": {},
   "outputs": [],
   "source": [
    "Bernoulli Distribution is a special kind of distribution that is used to model real-life examples and can be used in many \n",
    "different types of applications. A random experiment that can only have an outcome of either 1 or 0 is known as a Bernoulli \n",
    "trial. Such an experiment is used in a Bernoulli distribution.\n",
    " P(n)=p^n(1-p)^(1-n). \n",
    "    where \n",
    "    p=probability\n",
    "    n is number of labelled outcomes."
   ]
  },
  {
   "cell_type": "markdown",
   "metadata": {},
   "source": [
    "# 8. What is binomial distribution? What is the formula?"
   ]
  },
  {
   "cell_type": "code",
   "execution_count": null,
   "metadata": {},
   "outputs": [],
   "source": [
    "The binomial distribution formula helps to check the probability of getting “x” successes in “n” independent trials of a \n",
    "binomial experiment. To recall, the binomial distribution is a type of probability distribution in statistics that has two \n",
    "possible outcomes. In probability theory, the binomial distribution comes with two parameters n and p.\n",
    "\n",
    "The probability distribution becomes a binomial probability distribution when it meets the following requirements.\n",
    "\n",
    "Each trial can have only two outcomes or the outcomes that can be reduced to two outcomes. These outcomes can be either a \n",
    "success or a failure.\n",
    "The trails must be a fixed number.\n",
    "The outcome of each trial must be independent of each others.\n",
    "And the success of probability must remain the same for each trial.\n",
    "\n",
    "P(x) = nCx · px (1 − p)n−x\n",
    "Where,\n",
    "\n",
    "n = Total number of events\n",
    "r (or) x = Total number of successful events.\n",
    "p = Probability of success on a single trial.\n",
    "nCr = [n!/r!(n−r)]!\n",
    "1 – p = Probability of failure."
   ]
  },
  {
   "cell_type": "markdown",
   "metadata": {},
   "source": [
    "# 9. What is Poisson distribution? What is the formula?"
   ]
  },
  {
   "cell_type": "code",
   "execution_count": null,
   "metadata": {},
   "outputs": [],
   "source": [
    "In statistics, a Poisson distribution is a probability distribution that is used to show how many times an event is likely to \n",
    "occur over a specified period. In other words, it is a count distribution.\n",
    "A Poisson distribution is a tool that helps to predict the probability of certain events happening when you know how often the\n",
    "event has occurred. It gives us the probability of a given number of events happening in a fixed interval of time.\n",
    "The formula for Poisson distribution is f(x) = P(X=x) = (e-λ λx )/x!.\n",
    "Where\n",
    "\n",
    "x = 0, 1, 2, 3...\n",
    "e is the Euler's number(e = 2.718)\n",
    "λ is an average rate of the expected value and λ = variance, also λ>0\n"
   ]
  },
  {
   "cell_type": "markdown",
   "metadata": {},
   "source": [
    "# 10. Define covariance."
   ]
  },
  {
   "cell_type": "code",
   "execution_count": null,
   "metadata": {},
   "outputs": [],
   "source": [
    "Covariance is a measure of the relationship between two random variables and to what extent, they change together.Or we can say,\n",
    "in other words, it defines the changes between the two variables, such that change in one variable is equal to change in another\n",
    "variable. This is the property of a function of maintaining its form when the variables are linearly transformed. Covariance is \n",
    "measured in units, which are calculated by multiplying the units of the two variables.\n",
    "If the covariance for any two variables is positive, that means, both the variables move in the same direction.\n",
    "If the covariance for any two variables is negative, that means, both the variables move in the opposite direction."
   ]
  },
  {
   "cell_type": "markdown",
   "metadata": {},
   "source": [
    "# 11. Define correlation"
   ]
  },
  {
   "cell_type": "code",
   "execution_count": null,
   "metadata": {},
   "outputs": [],
   "source": [
    "Correlation estimates the depth of the relationship between variables. It is the estimated measure of covariance and is \n",
    "dimensionless. In other words, the correlation coefficient is a constant value always and does not have any units. \n",
    "\n",
    "Correlation,ρ(X,Y) = Cov(X,Y)/σX σy\n",
    "Where:\n",
    "\n",
    "ρ(X,Y) = correlation between the variables X and Y\n",
    "Cov(X,Y) = covariance between the variables X and Y\n",
    "σX = standard deviation of the X variable\n",
    "σY = standard deviation of the Y variable"
   ]
  },
  {
   "cell_type": "markdown",
   "metadata": {},
   "source": [
    "# 12. Define sampling with replacement. Give example"
   ]
  },
  {
   "cell_type": "code",
   "execution_count": null,
   "metadata": {},
   "outputs": [],
   "source": [
    "Sampling with replacement is used to find probability with replacement. In other words, you want to find the probability of some\n",
    "event where there's a number of balls, cards or other objects, and you replace the item each time you choose one."
   ]
  },
  {
   "cell_type": "markdown",
   "metadata": {},
   "source": [
    "# 13. What is sampling without replacement? Give example."
   ]
  },
  {
   "cell_type": "code",
   "execution_count": null,
   "metadata": {},
   "outputs": [],
   "source": [
    "In sampling without replacement, each sample unit of the population has only one chance to be selected in the sample. For \n",
    "example, if one draws a simple random sample such that no unit occurs more than one time in the sample, the sample is drawn \n",
    "without replacement"
   ]
  },
  {
   "cell_type": "markdown",
   "metadata": {},
   "source": [
    "# 14. What is hypothesis? Give example."
   ]
  },
  {
   "cell_type": "code",
   "execution_count": null,
   "metadata": {},
   "outputs": [],
   "source": [
    "A hypothesis is a potential explanation for something that happens or that you observe and think to be true. It can also be used\n",
    "to determine the relationship between two or more variables that you think might be related to each other.\n",
    "Hypotheses are usually written as if/then statements, such as if someone eats a lot of sugar, then they will develop cavities in\n",
    "their teeth. These statements identify specific variables (in this case, eating a large amount of sugar) and propose a result \n",
    "(in this case, teeth developing cavities)."
   ]
  }
 ],
 "metadata": {
  "kernelspec": {
   "display_name": "jup_kernel",
   "language": "python",
   "name": "jup_kernel"
  },
  "language_info": {
   "codemirror_mode": {
    "name": "ipython",
    "version": 3
   },
   "file_extension": ".py",
   "mimetype": "text/x-python",
   "name": "python",
   "nbconvert_exporter": "python",
   "pygments_lexer": "ipython3",
   "version": "3.10.2"
  }
 },
 "nbformat": 4,
 "nbformat_minor": 5
}
