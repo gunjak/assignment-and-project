{
 "cells": [
  {
   "cell_type": "markdown",
   "metadata": {},
   "source": [
    "# 1. Create a function based on the input and output. Look at the examples, there is a pattern.\n",
    "Examples:\n",
    "secret(\"p.one.two.three\") ➞ \"<p class='one two three'></p>\"\n",
    "secret(\"p.one\") ➞ \"<p class='one'></p>\"\n",
    "secret(\"p.four.five\") ➞ \"<p class='four five'></p>\""
   ]
  },
  {
   "cell_type": "code",
   "execution_count": 1,
   "metadata": {},
   "outputs": [
    {
     "name": "stdout",
     "output_type": "stream",
     "text": [
      "<p class='one two three'></p>\n",
      "<p class='one'></p>\n",
      "<p class='four five'></p>\n"
     ]
    }
   ],
   "source": [
    "def secret(st):\n",
    "    try:\n",
    "        s=st[2:]\n",
    "        s=\" \".join(s.rsplit(\".\"))\n",
    "        return f\"<p class='{s}'></p>\"\n",
    "    except Exception as e:\n",
    "        print(e) \n",
    "print(secret(\"p.one.two.three\") )       \n",
    "print(secret(\"p.one\"))\n",
    "print(secret(\"p.four.five\"))"
   ]
  },
  {
   "cell_type": "markdown",
   "metadata": {},
   "source": [
    "# 2. Create a function which counts how many lone 1s appear in a given number. Lone means the number doesn't appear twice or more \n",
    "in a row.\n",
    "Examples:\n",
    "count_lone_ones(101) ➞ 2\n",
    "count_lone_ones(1191) ➞ 1\n",
    "count_lone_ones(1111) ➞ 0\n",
    "count_lone_ones(462) ➞ 0"
   ]
  },
  {
   "cell_type": "code",
   "execution_count": 2,
   "metadata": {},
   "outputs": [
    {
     "name": "stdout",
     "output_type": "stream",
     "text": [
      "2\n",
      "1\n",
      "0\n",
      "0\n"
     ]
    }
   ],
   "source": [
    "def count_lone_ones(num):\n",
    "    import re\n",
    "    try:\n",
    "        return len(re.findall(\"(?<!1)1(?!1)\",str(num)))\n",
    "    except Exception as e:\n",
    "        print(e)                \n",
    "print(count_lone_ones(101))\n",
    "print(count_lone_ones(1191))\n",
    "print(count_lone_ones(1111))\n",
    "print(count_lone_ones(462))"
   ]
  },
  {
   "cell_type": "markdown",
   "metadata": {},
   "source": [
    "# . Write a method that accepts two integer parameters rows and cols. The output is a 2d array of numbers displayed in column-\n",
    "major order, meaning the numbers shown increase sequentially down each column and wrap to the top of the next column to the \n",
    "right once the bottom of the current column is reached.\n",
    "Examples:\n",
    "printGrid(3, 6) ➞ [\n",
    "  [1, 4, 7, 10, 13, 16],\n",
    "  [2, 5, 8, 11, 14, 17],\n",
    "  [3, 6, 9, 12, 15, 18]\n",
    "]\n",
    "\n",
    "printGrid(5, 3) ➞ [\n",
    "  [1, 6, 11],\n",
    "  [2, 7, 12],\n",
    "  [3, 8, 13],\n",
    "  [4, 9, 14],\n",
    "  [5, 10, 15]\n",
    "]\n",
    "\n",
    "printGrid(4, 1) ➞ [\n",
    "  [1],\n",
    "  [2],\n",
    "  [3],\n",
    "  [4]\n",
    "]"
   ]
  },
  {
   "cell_type": "code",
   "execution_count": 3,
   "metadata": {},
   "outputs": [
    {
     "name": "stdout",
     "output_type": "stream",
     "text": [
      "[[1, 4, 7, 10, 13, 16], [2, 5, 8, 11, 14, 17], [3, 6, 9, 12, 15, 18]]\n",
      "[[1, 6, 11], [2, 7, 12], [3, 8, 13], [4, 9, 14], [5, 10, 15]]\n",
      "[[1], [2], [3], [4]]\n"
     ]
    }
   ],
   "source": [
    "def printGrid(n,num):\n",
    "    try:\n",
    "        lis,l=[],[]\n",
    "        for i in range(1,n+1):\n",
    "            arb=i\n",
    "            l=[]\n",
    "            for j in range(num):\n",
    "                l.append(arb)\n",
    "                arb+=n\n",
    "            lis.append(l)         \n",
    "        return lis      \n",
    "    except Exception as e:\n",
    "        print(e)    \n",
    "print(printGrid(3, 6))  \n",
    "print(printGrid(5,3))\n",
    "print(printGrid(4,1))\n"
   ]
  },
  {
   "cell_type": "markdown",
   "metadata": {},
   "source": [
    "# 4. Given a list of integers, return the smallest positive integer not present in the list.\n",
    "Here is a representative example.\n",
    "Consider the list: [-2, 6, 4, 5, 7, -1, 7, 1, 3, 6, 6, -2, 9, 10, 2, 2]\n",
    "After reordering, the list becomes: [-2, -2, -1, 1, 2, 2, 3, 4, 5, 6, 6, 6, 7, 7, 9, 10]\n",
    "from which we see that the smallest missing positive integer is 8.\n",
    "\n",
    "Examples:\n",
    "min_miss_pos([-2, 6, 4, 5, 7, -1, 1, 3, 6, -2, 9, 10, 2, 2]) ➞ 8\n",
    "# After sorting, list becomes [-2, -2, -1, 1, 2, 2, 3, 4, 5, 6, 6, 7, 9, 10]\n",
    "# So the smallest missing positive integer is 8\n",
    "\n",
    "min_miss_pos([5, 9, -2, 0, 1, 3, 9, 3, 8, 9]) ➞ 2\n",
    "# After sorting, list becomes [-2, 0, 1, 3, 3, 5, 8, 9, 9, 9]\n",
    "# So the smallest missing positive integer is 2\n",
    "\n",
    "min_miss_pos([0, 4, 4, -1, 9, 4, 5, 2, 10, 7, 6, 3, 10, 9]) ➞ 1\n",
    "# After sorting, list becomes [-1, 0, 2, 3, 4, 4, 4, 5, 6, 7, 9, 9, 10, 10]\n",
    "# So the smallest missing positive integer is 1"
   ]
  },
  {
   "cell_type": "code",
   "execution_count": 4,
   "metadata": {},
   "outputs": [
    {
     "name": "stdout",
     "output_type": "stream",
     "text": [
      "8\n",
      "2\n",
      "1\n"
     ]
    }
   ],
   "source": [
    "def min_miss_pos(lis):\n",
    "    try:\n",
    "        se=list(set(lis))\n",
    "        ch=1\n",
    "        for j in se:\n",
    "            if j>0:\n",
    "                ind=se.index(j)\n",
    "                break\n",
    "        for i in se[ind:]:\n",
    "            if i!=ch:\n",
    "                return ch\n",
    "            else:\n",
    "                ch+=1\n",
    "    except Exception as e:\n",
    "        print(e)\n",
    "            \n",
    "print(min_miss_pos([-2, 6, 4, 5, 7, -1, 1, 3, 6, -2, 9, 10, 2, 2])) \n",
    "print(min_miss_pos([5, 9, -2, 0, 1, 3, 9, 3, 8, 9]))\n",
    "print(min_miss_pos([0, 4, 4, -1, 9, 4, 5, 2, 10, 7, 6, 3, 10, 9]))\n",
    "        "
   ]
  },
  {
   "cell_type": "markdown",
   "metadata": {},
   "source": [
    "# 5. Google is launching a network of autonomous pizza delivery drones and wants you to create a flexible rewards system \n",
    "(Pizza Points™) that can be tweaked in the future. The rules are simple: if a customer has made at least N orders of at least Y\n",
    "price, they get a FREE pizza!\n",
    "Create a function that takes a dictionary of customers, a minimum number of orders and a minimum order price. Return a \n",
    "list of customers that are eligible for a free pizza.\n",
    "\n",
    "Examples:\n",
    "\n",
    "customers = {\n",
    "  \"Batman\": [22, 30, 11, 17, 15, 52, 27, 12],\n",
    "  \"Spider-Man\": [5, 17, 30, 33, 40, 22, 26, 10, 11, 45]\n",
    "}\n",
    "\n",
    "pizza_points(customers, 5, 20) ➞ [\"Spider-Man\"]\n",
    "pizza_points(customers, 3, 10) ➞ [\"Batman\", \"Spider-Man\"]\n",
    "pizza_points(customers, 5, 100) ➞ []"
   ]
  },
  {
   "cell_type": "code",
   "execution_count": 5,
   "metadata": {},
   "outputs": [
    {
     "name": "stdout",
     "output_type": "stream",
     "text": [
      "['Spider-Man']\n",
      "['Batman', 'Spider-Man']\n",
      "[]\n"
     ]
    }
   ],
   "source": [
    "def pizza_points(customers,max_ord,price):\n",
    "    try:\n",
    "        l=[]\n",
    "        for i,j in customers.items():\n",
    "            num_ord=0\n",
    "            for k in j:\n",
    "                if k>price:\n",
    "                    num_ord+=1\n",
    "            if num_ord>=max_ord:\n",
    "                l.append(i)\n",
    "        return l       \n",
    "    except Exception as e:\n",
    "        print(e)\n",
    "customers = {\n",
    "  \"Batman\": [22, 30, 11, 17, 15, 52, 27, 12],\n",
    "  \"Spider-Man\": [5, 17, 30, 33, 40, 22, 26, 10, 11, 45]\n",
    "}\n",
    "    \n",
    "print(pizza_points(customers, 5, 20))\n",
    "print(pizza_points(customers, 3, 10))\n",
    "print(pizza_points(customers, 5, 100))        "
   ]
  }
 ],
 "metadata": {
  "kernelspec": {
   "display_name": "Python 3 (ipykernel)",
   "language": "python",
   "name": "python3"
  },
  "language_info": {
   "codemirror_mode": {
    "name": "ipython",
    "version": 3
   },
   "file_extension": ".py",
   "mimetype": "text/x-python",
   "name": "python",
   "nbconvert_exporter": "python",
   "pygments_lexer": "ipython3",
   "version": "3.7.6"
  }
 },
 "nbformat": 4,
 "nbformat_minor": 4
}
