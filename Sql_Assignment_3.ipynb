{
 "cells": [
  {
   "cell_type": "code",
   "execution_count": null,
   "metadata": {},
   "outputs": [],
   "source": [
    "\"\"\"Write an SQL query to print the FIRST_NAME from Worker table after removing\n",
    "white spaces from the right side.\"\"\"\n",
    "\n",
    "SELECT RTRIM(first_name) FROM worker;."
   ]
  },
  {
   "cell_type": "code",
   "execution_count": null,
   "metadata": {},
   "outputs": [],
   "source": [
    "\"\"\"Write an SQL query to print the FIRST_NAME from Worker table after removing\n",
    "white spaces from the right side.\"\"\"\n",
    "SELECT DISTINCT department, LENGTH(department) AS departmentNameLength FROM worker;\n"
   ]
  },
  {
   "cell_type": "code",
   "execution_count": null,
   "metadata": {},
   "outputs": [],
   "source": [
    "\"\"\"Write an SQL query to print the FIRST_NAME from Worker table after removing\n",
    "white spaces from the right side.\"\"\"\n",
    "SELECT Salary FROM WORKER ORDER BY Salary DESC LIMIT n-1,1;"
   ]
  }
 ],
 "metadata": {
  "kernelspec": {
   "display_name": "Python 3",
   "language": "python",
   "name": "python3"
  },
  "language_info": {
   "codemirror_mode": {
    "name": "ipython",
    "version": 3
   },
   "file_extension": ".py",
   "mimetype": "text/x-python",
   "name": "python",
   "nbconvert_exporter": "python",
   "pygments_lexer": "ipython3",
   "version": "3.7.6"
  }
 },
 "nbformat": 4,
 "nbformat_minor": 4
}
