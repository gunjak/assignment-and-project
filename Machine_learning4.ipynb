{
 "cells": [
  {
   "cell_type": "markdown",
   "metadata": {},
   "source": [
    "# What are the key tasks involved in getting ready to work with machine learning modeling?"
   ]
  },
  {
   "cell_type": "code",
   "execution_count": null,
   "metadata": {},
   "outputs": [],
   "source": [
    "Data collection\n",
    "Prepare the data\n",
    "Choose the model\n",
    "Train your machine model\n",
    "Evaluation\n",
    "Parameter Tuning\n",
    "Prediction or Inference"
   ]
  },
  {
   "cell_type": "markdown",
   "metadata": {},
   "source": [
    "# What are the different forms of data used in machine learning? Give a specific example for each of them."
   ]
  },
  {
   "cell_type": "code",
   "execution_count": null,
   "metadata": {},
   "outputs": [],
   "source": [
    "Quantitative:\n",
    "    Discrete Data Type: Numeric data which have whole numbers are discrete data.\n",
    "        E.G.: – No. Of Cars You Have, No. Of Marbles In Containers\n",
    "    Continuous Data Type:\n",
    "        The Numerical Measures Which Can Take The Value Within A Certain Range. This Type Of Variable Value If Expressed In\n",
    "        Decimal Format Has True Meaning. Their Values Can Not Be Counted But Measured.\n",
    "        E.G.: – Height, Weight, Time, Area, Distance, Measurement Of Rainfall, Etc.\n",
    "Qualitative:\n",
    "    Structured Data:\n",
    "    This Type Of Data Is Either Number Or Words. This Can Take Numerical Values But Mathematical Operations Cannot Be Performed\n",
    "    On It.E.G= Binary Form Data Like 0 Or1, Good Or Bad, Etc.\n",
    " "
   ]
  },
  {
   "cell_type": "markdown",
   "metadata": {},
   "source": [
    "# Distinguish:\n",
    "\n",
    "1. Numeric vs. categorical attributes\n",
    "\n",
    "2. Feature selection vs. dimensionality reduction"
   ]
  },
  {
   "cell_type": "code",
   "execution_count": null,
   "metadata": {},
   "outputs": [],
   "source": [
    "Numerical data refers to the data that is in the form of numbers, and not in any language or descriptive form.While Categorical \n",
    "data refers to a data type that can be stored and identified based on the names or labels given to them.\n",
    "\n",
    "Feature selection is simply selecting and excluding given features WITHOUT changing them\n",
    "Whereas Dimensionally Reduction transforms the features into a lower dimension."
   ]
  },
  {
   "cell_type": "markdown",
   "metadata": {},
   "source": [
    "# Make quick notes on any two of the following:\n",
    "\n",
    "1. The histogram\n",
    "\n",
    "2. Use a scatter plot\n",
    "\n",
    "3.PCA (Personal Computer Aid) "
   ]
  },
  {
   "cell_type": "code",
   "execution_count": null,
   "metadata": {},
   "outputs": [],
   "source": [
    "1.A histogram is a graphical representation that organizes a group of data points into user-specified ranges.\n",
    "2.A scatter plot  is a type of  mathematical diagram using Cartesian coordinates to display values for typically two variables\n",
    "for a set of data."
   ]
  },
  {
   "cell_type": "markdown",
   "metadata": {},
   "source": [
    "# Why is it necessary to investigate data? Is there a discrepancy in how qualitative and quantitative data are explored?"
   ]
  },
  {
   "cell_type": "code",
   "execution_count": null,
   "metadata": {},
   "outputs": [],
   "source": [
    " It is necessary to investigate data to get less and less wrong for prediction.\n",
    "The quantitative data is statistical and is typically structured in nature – meaning it is more rigid and defined. This data\n",
    "type is measured using numbers and values, making it a more suitable candidate for data analysis.\n",
    "Qualitative is open for exploration, quantitative data is much more concise and close-ended."
   ]
  },
  {
   "cell_type": "markdown",
   "metadata": {},
   "source": [
    "# What are the various histogram shapes? What exactly are ‘bins'?"
   ]
  },
  {
   "cell_type": "code",
   "execution_count": null,
   "metadata": {},
   "outputs": [],
   "source": [
    "Normal Distribution\n",
    "Skewed Distribution\n",
    "Double-Peaked or Bimodal\n",
    "Plateau or Multimodal Distribution\n",
    "Edge Peak Distribution\n",
    "Comb Distribution\n",
    "Truncated or Heart-Cut Distribution\n",
    "Dog Food Distribution\n",
    "\n",
    "A histogram displays numerical data by grouping data into \"bins\" of equal width. Each bin is plotted as a bar whose height \n",
    "corresponds to how many data points are in that bin."
   ]
  },
  {
   "cell_type": "markdown",
   "metadata": {},
   "source": [
    "# How do we deal with data outliers?"
   ]
  },
  {
   "cell_type": "code",
   "execution_count": null,
   "metadata": {},
   "outputs": [],
   "source": [
    "we can filter or remove  the outliers.\n",
    "Or Change the outlier with mean,meadian or mode.\n"
   ]
  },
  {
   "cell_type": "markdown",
   "metadata": {},
   "source": [
    "# What are the various central inclination measures? Why does mean vary too much from median in certain data sets? "
   ]
  },
  {
   "cell_type": "code",
   "execution_count": null,
   "metadata": {},
   "outputs": [],
   "source": [
    "Mean,Median,Mode are central inclination measures.\n",
    "some feuing data points makes mean much vary from median in certain data sets."
   ]
  },
  {
   "cell_type": "markdown",
   "metadata": {},
   "source": [
    "# 9. Describe how a scatter plot can be used to investigate bivariate relationships. Is it possible to find outliers using a scatter plot?"
   ]
  },
  {
   "cell_type": "code",
   "execution_count": null,
   "metadata": {},
   "outputs": [],
   "source": [
    "A scatterplot is a type of data display that shows the relationship between two numerical variables. Each member of the dataset\n",
    "gets plotted as a point whose (x, y)(x,y)left parenthesis, x, comma, y, right parenthesis coordinates relates to its values for\n",
    "the two variables.\n",
    "When the y variable tends to increase as the x variable increases, we say there is a positive correlation between the variables.\n",
    "When the y variable tends to decrease as the x variable increases, we say there is a negative correlation between the variables.\n",
    "When there is no clear relationship between the two variables, we say there is no correlation between the two variables.\n",
    "\n",
    "\n",
    "yes  it is possible to find outliers using a scatter plot.\n",
    "An outlier for a scatter plot is the point or points that are farthest from the regression line. There is at least one outlier \n",
    "on a scatter plot in most cases, and there is usually only one outlier."
   ]
  },
  {
   "cell_type": "markdown",
   "metadata": {},
   "source": [
    "# 10. Describe how cross-tabs can be used to figure out how two variables are related."
   ]
  },
  {
   "cell_type": "code",
   "execution_count": null,
   "metadata": {},
   "outputs": [],
   "source": [
    " In a cross-tabulation, the categories of one variable determine the rows of the table, and the categories of the other variable\n",
    "determine the columns.\n",
    "The cells of the table contain the number of times that a particular combination of categories occurred. \n",
    "The \"edges\" of the table typically contain the total number of observations for that category."
   ]
  }
 ],
 "metadata": {
  "kernelspec": {
   "display_name": "Python 3 (ipykernel)",
   "language": "python",
   "name": "python3"
  },
  "language_info": {
   "codemirror_mode": {
    "name": "ipython",
    "version": 3
   },
   "file_extension": ".py",
   "mimetype": "text/x-python",
   "name": "python",
   "nbconvert_exporter": "python",
   "pygments_lexer": "ipython3",
   "version": "3.7.6"
  }
 },
 "nbformat": 4,
 "nbformat_minor": 4
}
