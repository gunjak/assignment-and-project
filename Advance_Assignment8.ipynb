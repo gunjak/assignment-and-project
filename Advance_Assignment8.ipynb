{
 "cells": [
  {
   "cell_type": "code",
   "execution_count": null,
   "metadata": {},
   "outputs": [],
   "source": [
    "Q1. What are the two latest user-defined exception constraints in Python 3.X?\n",
    "\n",
    "raise and assert are the two latest user-defined exception constraints in Python"
   ]
  },
  {
   "cell_type": "code",
   "execution_count": null,
   "metadata": {},
   "outputs": [],
   "source": [
    "Q2. How are class-based exceptions that have been raised matched to handlers?\n",
    "\n",
    " Class-based exceptions match by superclass relationships: naming a superclass in\n",
    "an exception handler will catch instances of that class, as well as instances of any\n",
    "of its subclasses lower in the class tree. Because of this, you can think of superclasses\n",
    "as general exception categories and subclasses as more specific types of exceptions\n",
    "within those categories.\n"
   ]
  },
  {
   "cell_type": "code",
   "execution_count": null,
   "metadata": {},
   "outputs": [],
   "source": [
    "Q3. Describe two methods for attaching context information to exception artefacts.\n",
    "\n",
    "\n",
    " By passing the instance\n",
    "attributes in the object raised, usually in a custom class constructor.\n",
    "\n",
    "Built-in Exception superclass provide a constructor that stores its\n",
    "arguments on the instance automatically\n",
    "\n"
   ]
  },
  {
   "cell_type": "code",
   "execution_count": null,
   "metadata": {},
   "outputs": [],
   "source": [
    "Q4. Describe two methods for specifying the text of an exception object's error message.\n",
    "\n",
    "\n",
    "\n",
    "(1) By overloading the __str__ method\n",
    "(2) By using the Exception superclass which will raise the error by default\n"
   ]
  },
  {
   "cell_type": "code",
   "execution_count": null,
   "metadata": {},
   "outputs": [],
   "source": [
    "Q.Why do you no longer use string-based exceptions?\n",
    "\n",
    "Because they have been deprecated in latest version of python"
   ]
  }
 ],
 "metadata": {
  "kernelspec": {
   "display_name": "Python 3 (ipykernel)",
   "language": "python",
   "name": "python3"
  },
  "language_info": {
   "codemirror_mode": {
    "name": "ipython",
    "version": 3
   },
   "file_extension": ".py",
   "mimetype": "text/x-python",
   "name": "python",
   "nbconvert_exporter": "python",
   "pygments_lexer": "ipython3",
   "version": "3.7.6"
  }
 },
 "nbformat": 4,
 "nbformat_minor": 4
}
