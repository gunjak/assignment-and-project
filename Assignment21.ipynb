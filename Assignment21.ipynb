{
 "cells": [
  {
   "cell_type": "code",
   "execution_count": null,
   "metadata": {},
   "outputs": [],
   "source": [
    "def add_cur_date():\n",
    "    \"\"\"this function add the current date to the text file today.txt as a string.\"\"\"\n",
    "    import datetime\n",
    "    try:\n",
    "        f=open('today.text','w')\n",
    "        f.write(str(datetime.datetime.now()))\n",
    "        f.close()\n",
    "    except Exception as e:\n",
    "        print(e)"
   ]
  },
  {
   "cell_type": "code",
   "execution_count": null,
   "metadata": {},
   "outputs": [],
   "source": [
    "\"\"\"Read the text file today.txt into the string today_string\"\"\"\n",
    "try:\n",
    "    f=open('today.text','r')\n",
    "    today_string=f.read()\n",
    "except Exception as e:\n",
    "    print(e)    "
   ]
  },
  {
   "cell_type": "code",
   "execution_count": null,
   "metadata": {},
   "outputs": [],
   "source": [
    "\"\"\"Parse the date from today_string.\"\"\"\n",
    "datetime.datetime.strptime(today_string,'%Y-%m-%d %H:%M:%S.%f')"
   ]
  },
  {
   "cell_type": "code",
   "execution_count": null,
   "metadata": {},
   "outputs": [],
   "source": [
    "def lis_file():\n",
    "    \"\"\"List the files in your current directory\"\"\"\n",
    "    import os\n",
    "    l=[]\n",
    "    for i in os.listdir(os.getcwd()):\n",
    "        l.append(i)\n",
    "    return l    \n"
   ]
  },
  {
   "cell_type": "code",
   "execution_count": null,
   "metadata": {},
   "outputs": [],
   "source": [
    "def file_par_dir():\n",
    "    try:\n",
    "        \"\"\"Create a list of all of the files in your parent directory\"\"\"\n",
    "        import os\n",
    "        if len(os.listdir((os.path.abspath(os.path.join(os.getcwd(), os.pardir)))))<5:\n",
    "            raise Exception(\"number of files less than 5\")\n",
    "        else:    \n",
    "            l=[]\n",
    "            for i in os.listdir((os.path.abspath(os.path.join(os.getcwd(), os.pardir)))):\n",
    "                l.append(i)\n",
    "        return l\n",
    "    except Exception as e:\n",
    "        print(e)"
   ]
  },
  {
   "cell_type": "code",
   "execution_count": null,
   "metadata": {},
   "outputs": [],
   "source": [
    "\"\"\"Use multiprocessing to create three separate processes. Make each one wait a random number of\n",
    "seconds between one and five, print the current time, and then exit.\"\"\"\n",
    "import multiprocessing\n",
    "import time \n",
    "import random\n",
    "import datetime\n",
    "def prin():\n",
    "    time.sleep(random.randint(1,5))\n",
    "    print(datetime.datetime.now())\n",
    "if __name__==\"__main__\":    \n",
    "    mul_p1=multiprocessing.Process(target=prin) \n",
    "    mul_p2=multiprocessing.Process(target=prin)\n",
    "    mul_p3=multiprocessing.Process(target=prin)\n",
    "    mul_p1.start()\n",
    "    mul_p2.start()\n",
    "    mul_p3.start()\n",
    "    mul_p1.join()\n",
    "    mul_p2.join()\n",
    "    mul_p3.join()"
   ]
  },
  {
   "cell_type": "code",
   "execution_count": null,
   "metadata": {},
   "outputs": [],
   "source": [
    "\"\"\"Create a date object of your day of birth.\"\"\"\n",
    "import datetime\n",
    "date=datetime(2000,8,18)"
   ]
  },
  {
   "cell_type": "code",
   "execution_count": null,
   "metadata": {},
   "outputs": [],
   "source": [
    "\"\"\"What day of the week was your day of birth?\"\"\"\n",
    "l=['Monday','Tuesday','Wednesday','Thursday',\"Friday\",\"Saturday\",'Sunday']\n",
    "week_number = date.isocalendar()[2]\n",
    "print(l[week_number])"
   ]
  },
  {
   "cell_type": "code",
   "execution_count": null,
   "metadata": {},
   "outputs": [],
   "source": [
    "\"\"\"When will you be (or when were you) 10,000 days old?\"\"\"\n",
    "print(date+datetime.timedelta(days=10000))"
   ]
  }
 ],
 "metadata": {
  "kernelspec": {
   "display_name": "Python 3",
   "language": "python",
   "name": "python3"
  },
  "language_info": {
   "codemirror_mode": {
    "name": "ipython",
    "version": 3
   },
   "file_extension": ".py",
   "mimetype": "text/x-python",
   "name": "python",
   "nbconvert_exporter": "python",
   "pygments_lexer": "ipython3",
   "version": "3.7.6"
  }
 },
 "nbformat": 4,
 "nbformat_minor": 4
}
