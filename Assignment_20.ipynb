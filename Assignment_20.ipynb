{
 "cells": [
  {
   "cell_type": "code",
   "execution_count": null,
   "metadata": {},
   "outputs": [],
   "source": [
    "test1='This is a test of the emergency text system'\n",
    "test=open(\"test.text\",'w')\n",
    "test.write(test1)"
   ]
  },
  {
   "cell_type": "code",
   "execution_count": null,
   "metadata": {},
   "outputs": [],
   "source": [
    "for test2 in open('test.text','r'):\n",
    "    print(i)\n",
    "#no difference"
   ]
  },
  {
   "cell_type": "code",
   "execution_count": null,
   "metadata": {},
   "outputs": [],
   "source": [
    "import csv\n",
    "w=[[title,author,year]\n",
    "[The Weirdstone of Brisingamen,Alan Garner,1960]\n",
    "[Perdido Street Station,China Miéville,2000]\n",
    "[Thud!,Terry Pratchett,2005]\n",
    "[The Spellman Files,Lisa Lutz,2007]\n",
    "[Small Gods,Terry Pratchett,1992]]\n",
    "with open('books.csv','w',newline='') as file:\n",
    "    wr=csv.writer(file)\n",
    "    wr.writerows(w)"
   ]
  },
  {
   "cell_type": "code",
   "execution_count": null,
   "metadata": {},
   "outputs": [],
   "source": [
    "import sqlite3\n",
    "c=sqlite3.connect('books.db')\n",
    "cn=c.cursor()\n",
    "cn.execute('create table book(title varchar(20),author varchar(20),year int)')\n",
    "cn.commit()\n",
    "cn.close()"
   ]
  },
  {
   "cell_type": "code",
   "execution_count": null,
   "metadata": {},
   "outputs": [],
   "source": [
    "try:\n",
    "    import csv\n",
    "    import sqlite3\n",
    "    file=open(\"books.csv\",'r')\n",
    "    cont=csv.reader(file)\n",
    "    con=sqlite3.connect('books.db') \n",
    "    cursor=con.cursor()\n",
    "    cursor.executemany(\"insert into books values(?,?,?)\",conts )\n",
    "    con.commit()\n",
    "    c.close()              \n",
    "except Exception as e:\n",
    "               print(e)\n",
    "        \n",
    "    "
   ]
  },
  {
   "cell_type": "code",
   "execution_count": null,
   "metadata": {},
   "outputs": [],
   "source": [
    "try:\n",
    "    import sqlite3\n",
    "    cn=sqlite3.connect('books.db')\n",
    "    cur=c.cursor()\n",
    "    cur.execute(\"select title from books order by title\")\n",
    "    print(cur.fetchall())\n",
    "    cn.commit()\n",
    "    cn.close()\n",
    "except Exception as e:\n",
    "               print(e)    "
   ]
  },
  {
   "cell_type": "code",
   "execution_count": null,
   "metadata": {},
   "outputs": [],
   "source": [
    "try:\n",
    "    import sqlite3\n",
    "    cn=sqlite3.connect('books.db')\n",
    "    cur=c.cursor()\n",
    "    cur.execute(\"select * from books order by year\")\n",
    "    print(cur.fetchall())\n",
    "    cn.commit()\n",
    "    cn.close()\n",
    "except Exception as e:\n",
    "               print(e)    "
   ]
  },
  {
   "cell_type": "code",
   "execution_count": null,
   "metadata": {},
   "outputs": [],
   "source": [
    "try:\n",
    "    from SQLAlchemy import create_engine\n",
    "    engine=create_engine(\"sqlite:////books.db\")\n",
    "    engine.connect()\n",
    "except Exception as e:\n",
    "               print(e)     "
   ]
  },
  {
   "cell_type": "code",
   "execution_count": null,
   "metadata": {},
   "outputs": [],
   "source": [
    "import redis\n",
    "conn = redis.Redis()\n",
    "conn.hmset('test', {'count': 1, 'name': 'Fester Bestertester'})\n",
    "print(conn.hgetall('test'))\n"
   ]
  },
  {
   "cell_type": "code",
   "execution_count": null,
   "metadata": {},
   "outputs": [],
   "source": [
    "conn.hincrby('test', 'count', 3)\n",
    "print(conn.hget('test', 'count'))"
   ]
  }
 ],
 "metadata": {
  "kernelspec": {
   "display_name": "Python 3",
   "language": "python",
   "name": "python3"
  },
  "language_info": {
   "codemirror_mode": {
    "name": "ipython",
    "version": 3
   },
   "file_extension": ".py",
   "mimetype": "text/x-python",
   "name": "python",
   "nbconvert_exporter": "python",
   "pygments_lexer": "ipython3",
   "version": "3.7.6"
  }
 },
 "nbformat": 4,
 "nbformat_minor": 4
}
