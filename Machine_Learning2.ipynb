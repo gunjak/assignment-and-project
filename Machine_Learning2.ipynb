{
 "cells": [
  {
   "cell_type": "markdown",
   "metadata": {},
   "source": [
    "# What is the concept of human learning? Please give two examples."
   ]
  },
  {
   "cell_type": "code",
   "execution_count": null,
   "metadata": {},
   "outputs": [],
   "source": [
    "In a concept learning , a human  learner is trained to classify objects by being shown a set of example objects \n",
    "along with their class labels.\n",
    "Learning occurs continuously throughout a person's lifetime. To define learning, it is necessary to analyze what happens to\n",
    "the individual. For example, an individual's way of perceiving, thinking, feeling, and doing may change as a result of a \n",
    "learning experience."
   ]
  },
  {
   "cell_type": "markdown",
   "metadata": {},
   "source": [
    "# What different forms of human learning are there? Are there any machine learning equivalents?"
   ]
  },
  {
   "cell_type": "code",
   "execution_count": null,
   "metadata": {},
   "outputs": [],
   "source": [
    "classical conditioning, operant conditioning, and observational learning."
   ]
  },
  {
   "cell_type": "markdown",
   "metadata": {},
   "source": [
    "# What is machine learning, and how does it work? What are the key responsibilities of machine learning?"
   ]
  },
  {
   "cell_type": "code",
   "execution_count": null,
   "metadata": {},
   "outputs": [],
   "source": [
    "Machine learning is the study of computer algorithms that can improve automatically through experience and by the use of data.\n",
    "Learning and improving upon past experiences. It works by exploring data and identifying patterns, and involves minimal human\n",
    "intervention.\n",
    "Machine learning uses two types of techniques: supervised learning, which trains a model on known input and output data so \n",
    "that it can predict future outputs, and unsupervised learning, which finds hidden patterns or intrinsic structures in input \n",
    "data.\n",
    "The key responsibility of machine learning:\n",
    "Study and transform data science prototypes\n",
    "Design machine learning systems\n",
    "Research and implement appropriate ML algorithms and tools\n",
    "Develop machine learning applications according to requirements\n",
    "Select appropriate datasets and data representation methods\n",
    "Run machine learning tests and experiments\n",
    "Perform statistical analysis and fine-tuning using test results\n",
    "Train and retrain systems when necessary\n",
    "Extend existing ML libraries and frameworks\n",
    "Keep abreast of developments in the field"
   ]
  },
  {
   "cell_type": "markdown",
   "metadata": {},
   "source": [
    "# Define the terms penalty and reward in the context of reinforcement learning."
   ]
  },
  {
   "cell_type": "code",
   "execution_count": null,
   "metadata": {},
   "outputs": [],
   "source": [
    "In reinforcement learning the agent is rewarded for correct moves and punished for the wrong ones. In doing so, the agent tries\n",
    "to minimize wrong moves and maximize the right ones"
   ]
  },
  {
   "cell_type": "markdown",
   "metadata": {},
   "source": [
    "# Explain the term learning as a search? "
   ]
  },
  {
   "cell_type": "code",
   "execution_count": null,
   "metadata": {},
   "outputs": [],
   "source": [
    "Concept learning can be viewed as the task of searching through a large\n",
    "space of hypotheses implicitly defined by the hypothesis representation.\n",
    "• The goal of this search is to find the hypothesis that best fits the training\n",
    "examples.\n",
    "• By selecting a hypothesis representation, the designer of the learning\n",
    "algorithm implicitly defines the space of all hypotheses that the program\n",
    "can ever represent and therefore can ever learn."
   ]
  },
  {
   "cell_type": "markdown",
   "metadata": {},
   "source": [
    "# What are the various goals of machine learning? What is the relationship between these and human learning?"
   ]
  },
  {
   "cell_type": "code",
   "execution_count": null,
   "metadata": {},
   "outputs": [],
   "source": [
    "(1) To make the computers smarter, more intelligent. The more direct objective in this aspect is to\n",
    "develop systems (programs) for specific practical learning tasks in application domains.\n",
    "(2) To develop computational models of human learning process and perform computer simulations.\n",
    "The study in this aspect is also called cognitive modeling.\n",
    "(3) To explore new learning methods and develop general learning algorithms independent of applications.\n",
    "The main goal of machine learning is to give computers the ability to learn itself without being explicitly programmed. It \n",
    "identifies patterns from preprocessed data and make decisions with minimal human intervention.\n",
    "Humans acquire knowledge through experience either directly or shared by others. Machines acquire knowledge through experience \n",
    "shared in the form of past data. We have the terms, Knowledge, Skill, and Memory being used to define intelligence. "
   ]
  },
  {
   "cell_type": "markdown",
   "metadata": {},
   "source": [
    "# Illustrate the various elements of machine learning using a real-life illustration."
   ]
  },
  {
   "cell_type": "code",
   "execution_count": null,
   "metadata": {},
   "outputs": [],
   "source": [
    "Image Recognition\n",
    "Speech Recognition\n",
    "Medical diagnosis\n",
    "Statistical Arbitrage\n",
    "Learning associations\n",
    "Classification\n",
    "Prediction\n",
    "Financial Services"
   ]
  },
  {
   "cell_type": "markdown",
   "metadata": {},
   "source": [
    "# Provide an example of the abstraction method."
   ]
  },
  {
   "cell_type": "code",
   "execution_count": null,
   "metadata": {},
   "outputs": [],
   "source": [
    "Abstraction methods can be either model driven (by analyzing the transition table and approximating it using a dynamic Bayesian\n",
    "network), or value driven (by analyzing the function V, and learning for it a compact representation, such as a decision tree), \n",
    "or policy driven."
   ]
  },
  {
   "cell_type": "markdown",
   "metadata": {},
   "source": [
    "# What is the concept of generalization? What function does it play in the machine learning process?"
   ]
  },
  {
   "cell_type": "code",
   "execution_count": null,
   "metadata": {},
   "outputs": [],
   "source": [
    "Generalization is to demonstrate how well is a trained model to classify or forecast unseen data. Training a\n",
    "generalized machine learning model means, in general, it works for all subset of unseen data."
   ]
  },
  {
   "cell_type": "markdown",
   "metadata": {},
   "source": [
    "# What is classification, exactly? What are the main distinctions between classification and regression?"
   ]
  },
  {
   "cell_type": "code",
   "execution_count": null,
   "metadata": {},
   "outputs": [],
   "source": [
    "In machine learning, classification refers to a predictive modeling problem where a class label is predicted for a given example\n",
    "of input data.\n",
    "Classification is the task of predicting a discrete class label. Regression is the task of predicting a continuous quantity"
   ]
  },
  {
   "cell_type": "markdown",
   "metadata": {},
   "source": [
    "# What is regression, and how does it work? Give an example of a real-world problem that was solved using regression."
   ]
  },
  {
   "cell_type": "code",
   "execution_count": null,
   "metadata": {},
   "outputs": [],
   "source": [
    "Regression is a statistical method used in finance, investing, and other disciplines that attempts to determine the strength \n",
    "and character of the relationship between one dependent variable (usually denoted by Y) and a series of other variables \n",
    "known as independent variables.\n",
    "Medical researchers often use linear regression to understand the relationship between drug dosage and blood pressure of \n",
    "patients."
   ]
  },
  {
   "cell_type": "markdown",
   "metadata": {},
   "source": [
    "# Describe the clustering mechanism in detail."
   ]
  },
  {
   "cell_type": "code",
   "execution_count": null,
   "metadata": {},
   "outputs": [],
   "source": [
    "Clustering is the task of dividing the population or data points into a number of groups such that data points in the same \n",
    "groups are more similar to other data points in the same group than those in other groups. In simple words, the aim is to \n",
    "segregate groups with similar traits and assign them into clusters."
   ]
  },
  {
   "cell_type": "markdown",
   "metadata": {},
   "source": [
    "# Make brief observations on two of the following topics:\n",
    "i. Machine learning algorithms are used\n",
    "ii. Studying under supervision\n",
    "iii. Studying without supervision\n",
    "\n",
    "iv. Reinforcement learning is a form of learning based on positive reinforcement."
   ]
  },
  {
   "cell_type": "code",
   "execution_count": null,
   "metadata": {},
   "outputs": [],
   "source": [
    "Supervised learning is a process of providing input data as well as correct output data to the machine learning model. \n",
    "The aim of a supervised learning algorithm is to find a mapping function to map the input variable(x) with the output variable\n",
    "(y).\n",
    "Positive reinforcement is common type of reinforcement used in reinforcement learning, as it helps models maximize the \n",
    "performance on a given task."
   ]
  }
 ],
 "metadata": {
  "kernelspec": {
   "display_name": "Python 3 (ipykernel)",
   "language": "python",
   "name": "python3"
  },
  "language_info": {
   "codemirror_mode": {
    "name": "ipython",
    "version": 3
   },
   "file_extension": ".py",
   "mimetype": "text/x-python",
   "name": "python",
   "nbconvert_exporter": "python",
   "pygments_lexer": "ipython3",
   "version": "3.7.6"
  }
 },
 "nbformat": 4,
 "nbformat_minor": 4
}
