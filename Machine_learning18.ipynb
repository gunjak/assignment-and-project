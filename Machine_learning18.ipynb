{
 "cells": [
  {
   "cell_type": "markdown",
   "metadata": {},
   "source": [
    "# 1. What is the difference between supervised and unsupervised learning? Give some examples to illustrate your point."
   ]
  },
  {
   "cell_type": "code",
   "execution_count": null,
   "metadata": {},
   "outputs": [],
   "source": [
    "Supervised learning algorithms are trained using labeled data. Unsupervised learning algorithms are trained using unlabeled \n",
    "data. Supervised learning model takes direct feedback to check if it is predicting correct output or not. Unsupervised learning \n",
    "model does not take any feedback.\n",
    "Supervised learning has two problem regression and classification.\n",
    "Unsupervised learning has clustering, Association and dimensionality reduction problem."
   ]
  },
  {
   "cell_type": "markdown",
   "metadata": {},
   "source": [
    "# 2. Mention a few unsupervised learning applications."
   ]
  },
  {
   "cell_type": "code",
   "execution_count": null,
   "metadata": {},
   "outputs": [],
   "source": [
    "Product Recommendations\n",
    "Customer Segmentation\n",
    "Similarity Detection\n",
    "Recommendation Systems.\n",
    "Labelling unlabelled datasets."
   ]
  },
  {
   "cell_type": "markdown",
   "metadata": {},
   "source": [
    "# 3. What are the three main types of clustering methods? Briefly describe the characteristics of each."
   ]
  },
  {
   "cell_type": "code",
   "execution_count": null,
   "metadata": {},
   "outputs": [],
   "source": [
    "Centroid-based clustering organizes the data into non-hierarchical clusters, in contrast to hierarchical clustering defined \n",
    "below. Centroid-based algorithms are efficient but sensitive to initial conditions and outliers.\n",
    "\n",
    "Density-based clustering connects areas of high example density into clusters. This allows for arbitrary-shaped distributions as\n",
    "long as dense areas can be connected. These algorithms have difficulty with data of varying densities and high dimensions. \n",
    "\n",
    "clustering approach assumes data is composed of distributions, such as Gaussian distributions. In Figure 3, the \n",
    "distribution-based algorithm clusters data into three Gaussian distributions. As distance from the distribution's center \n",
    "increases, the probability that a point belongs to the distribution decreases."
   ]
  },
  {
   "cell_type": "markdown",
   "metadata": {},
   "source": [
    "# 4. Explain how the k-means algorithm determines the consistency of clustering."
   ]
  },
  {
   "cell_type": "code",
   "execution_count": null,
   "metadata": {},
   "outputs": [],
   "source": [
    "K-means uses an iterative refinement method to produce its final clustering based on the number of clusters defined by the user \n",
    "and the dataset."
   ]
  },
  {
   "cell_type": "markdown",
   "metadata": {},
   "source": [
    "# 5. With a simple illustration, explain the key difference between the k-means and k-medoids algorithms."
   ]
  },
  {
   "cell_type": "code",
   "execution_count": null,
   "metadata": {},
   "outputs": [],
   "source": [
    "K-means attempts to minimize the total squared error, while k-medoids minimizes the sum of dissimilarities between points \n",
    "labeled to be in a cluster and a point designated as the center of that cluster. In contrast to the k -means algorithm, \n",
    "k -medoids chooses datapoints as centers ."
   ]
  },
  {
   "cell_type": "markdown",
   "metadata": {},
   "source": [
    "# 6. What is a dendrogram, and how does it work? Explain how to do it."
   ]
  },
  {
   "cell_type": "code",
   "execution_count": null,
   "metadata": {},
   "outputs": [],
   "source": [
    "A dendrogram is a tree-like structure that explains the relationship between all the data points in the system.\n",
    "A dendrogram is a diagram that shows the attribute distances between each pair of sequentially merged classes. To avoid crossing\n",
    "lines, the diagram is graphically arranged so that members of each pair of classes to be merged are neighbors in the diagram. \n",
    "The Dendrogram tool uses a hierarchical clustering algorithm."
   ]
  },
  {
   "cell_type": "markdown",
   "metadata": {},
   "source": [
    "# 7. What exactly is SSE? What role does it play in the k-means algorithm?"
   ]
  },
  {
   "cell_type": "code",
   "execution_count": null,
   "metadata": {},
   "outputs": [],
   "source": [
    "SSE is defined as the sum of the squared distance between centroid and each member of the cluster. Then plot a K against SSE \n",
    "graph. We will observe that as K increases SSE decreases as disortation will be small. So the idea of this algorithm is to \n",
    "choose the value of K at which the graph decrease abruptly."
   ]
  },
  {
   "cell_type": "markdown",
   "metadata": {},
   "source": [
    "# 8. With a step-by-step algorithm, explain the k-means procedure."
   ]
  },
  {
   "cell_type": "code",
   "execution_count": null,
   "metadata": {},
   "outputs": [],
   "source": [
    "Step-1: Select the number K to decide the number of clusters.\n",
    "\n",
    "Step-2: Select random K points or centroids. (It can be other from the input dataset).\n",
    "\n",
    "Step-3: Assign each data point to their closest centroid, which will form the predefined K clusters.\n",
    "\n",
    "Step-4: Calculate the variance and place a new centroid of each cluster.\n",
    "\n",
    "Step-5: Repeat the third steps, which means reassign each datapoint to the new closest centroid of each cluster.\n",
    "\n",
    "Step-6: If any reassignment occurs, then go to step-4 else go to FINISH.\n",
    "\n",
    "Step-7: The model is ready."
   ]
  },
  {
   "cell_type": "markdown",
   "metadata": {},
   "source": [
    "# 9. In the sense of hierarchical clustering, define the terms single link and complete link."
   ]
  },
  {
   "cell_type": "code",
   "execution_count": null,
   "metadata": {},
   "outputs": [],
   "source": [
    "Single-link clusters at step are maximal sets of points that are linked via at least one link  of similarity ; complete-link \n",
    "clusters at step are maximal sets of points that are completely linked with each other via links of similarity ."
   ]
  },
  {
   "cell_type": "markdown",
   "metadata": {},
   "source": [
    "# 10. How does the apriori concept aid in the reduction of measurement overhead in a business\n",
    "basket analysis? Give an example to demonstrate your point."
   ]
  },
  {
   "cell_type": "code",
   "execution_count": null,
   "metadata": {},
   "outputs": [],
   "source": [
    "Apriori algorithm assumes that any subset of a frequent itemset must be frequent. \n",
    "a transaction containing {Grapes, Apple, Mango} also contains {Grapes, Mango}. So, according to the principle of Apriori, if\n",
    "{Grapes, Apple, Mango} is frequent, then {Grapes, Mango} must also be frequent.\n",
    "Its the algorithm behind Market Basket Analysis.Market Basket  It works by looking for combinations of items that occur together\n",
    "frequently in transactions. To put itanother way, it allows retailers to identify relationships between the items that people \n",
    "buy."
   ]
  }
 ],
 "metadata": {
  "kernelspec": {
   "display_name": "Python 3 (ipykernel)",
   "language": "python",
   "name": "python3"
  },
  "language_info": {
   "codemirror_mode": {
    "name": "ipython",
    "version": 3
   },
   "file_extension": ".py",
   "mimetype": "text/x-python",
   "name": "python",
   "nbconvert_exporter": "python",
   "pygments_lexer": "ipython3",
   "version": "3.7.6"
  }
 },
 "nbformat": 4,
 "nbformat_minor": 4
}
