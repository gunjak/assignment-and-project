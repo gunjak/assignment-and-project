{
 "cells": [
  {
   "cell_type": "code",
   "execution_count": null,
   "metadata": {},
   "outputs": [],
   "source": [
    "def double_char(string):\n",
    "    \"\"\"function that takes a string and returns a string in which each character is repeated\n",
    "       once.\"\"\"\n",
    "    try:\n",
    "        l=[]\n",
    "        for st in string.split():\n",
    "            s=\"\"\n",
    "            for i in st:\n",
    "                s=s+i*2\n",
    "            l.append(s)\n",
    "        return \" \".join(l)\n",
    "    except Exception as e:\n",
    "        print(e)"
   ]
  },
  {
   "cell_type": "code",
   "execution_count": null,
   "metadata": {},
   "outputs": [],
   "source": [
    "def reverse(s):\n",
    "    \"\"\"this function  reverses a boolean value and returns the string &quot;boolean expected&quot;\n",
    "if another variable type is given.\"\"\"\n",
    "    if type(s)!=bool:\n",
    "        print('boolean expected')\n",
    "    return not s    "
   ]
  },
  {
   "cell_type": "code",
   "execution_count": null,
   "metadata": {},
   "outputs": [],
   "source": [
    "def num_layers(n):\n",
    "    \"\"\"returns the thickness (in meters) of a piece of paper after folding it n\n",
    "     number of times. The paper starts off with a thickness of 0.5mm.\"\"\"\n",
    "    try:\n",
    "        return str(pow(2,n)*0.0005)+'m'\n",
    "    except Exception as e:\n",
    "        print(e)"
   ]
  },
  {
   "cell_type": "code",
   "execution_count": null,
   "metadata": {},
   "outputs": [],
   "source": [
    "def index_of_caps(s):\n",
    "    \"\"\"this function takes a single string as argument and returns an ordered list containing\n",
    "the indices of all capital letters in the string.\"\"\"\n",
    "    try:\n",
    "        l=[]\n",
    "        for i,j in enumerate(s):\n",
    "            if j.isupper():\n",
    "                l.append(i)\n",
    "        return l\n",
    "    except Exception as e:\n",
    "        print(e)"
   ]
  },
  {
   "cell_type": "code",
   "execution_count": null,
   "metadata": {},
   "outputs": [],
   "source": [
    "def even(num):\n",
    "    \"\"\"this function finds all even numbers from 1 to the given\n",
    "      number.\"\"\"\n",
    "    try:\n",
    "        l=[i for i in range(1,num+1) if i%2==0]\n",
    "        return l\n",
    "    except Exception as e:\n",
    "        print(e)"
   ]
  }
 ],
 "metadata": {
  "kernelspec": {
   "display_name": "Python 3",
   "language": "python",
   "name": "python3"
  },
  "language_info": {
   "codemirror_mode": {
    "name": "ipython",
    "version": 3
   },
   "file_extension": ".py",
   "mimetype": "text/x-python",
   "name": "python",
   "nbconvert_exporter": "python",
   "pygments_lexer": "ipython3",
   "version": "3.7.6"
  }
 },
 "nbformat": 4,
 "nbformat_minor": 4
}
