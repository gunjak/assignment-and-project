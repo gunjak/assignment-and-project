{
 "cells": [
  {
   "cell_type": "code",
   "execution_count": null,
   "metadata": {},
   "outputs": [],
   "source": [
    "_getter_ is called Called when an attribute lookup has not found the attribute in the usual places.this method return attribute\n",
    "or raise error.\n",
    "__getattribute__ is Called unconditionally to implement attribute accesses for instances of the class."
   ]
  },
  {
   "cell_type": "code",
   "execution_count": null,
   "metadata": {},
   "outputs": [],
   "source": [
    "property() returns the property attribute from the given getter, setter, and deleter.\n",
    "If no arguments are given, property() returns a base property attribute that doesn't contain any getter, setter or deleter.\n",
    "If doc isn't provided, property() takes the docstring of the getter function.\n",
    "\n",
    "descriptors are created to manage the attributes of different classes which use the object as reference. In descriptors \n",
    "we used three different methods that are __getters__(), __setters__(), and __delete__()\n",
    "Descriptors are invoked by the __getattribute__() method.\n",
    "Descriptors are invoked automatically whenever it receives the call for a set() method or get() method"
   ]
  },
  {
   "cell_type": "code",
   "execution_count": null,
   "metadata": {},
   "outputs": [],
   "source": [
    "getattribute: Is used to retrieve an attribute from an instance. It captures every attempt to access an instance attribute by \n",
    "using dot notation or getattr() built-in function. getattr: Is executed as the last resource when attribute is not found in \n",
    "an object.\n",
    "\n",
    "descriptors are a low-level mechanism that lets you hook into an object's attributes being accessed. Properties are a high-level\n",
    "application of this; that is, properties are implemented using descriptors"
   ]
  }
 ],
 "metadata": {
  "kernelspec": {
   "display_name": "Python 3 (ipykernel)",
   "language": "python",
   "name": "python3"
  },
  "language_info": {
   "codemirror_mode": {
    "name": "ipython",
    "version": 3
   },
   "file_extension": ".py",
   "mimetype": "text/x-python",
   "name": "python",
   "nbconvert_exporter": "python",
   "pygments_lexer": "ipython3",
   "version": "3.7.6"
  }
 },
 "nbformat": 4,
 "nbformat_minor": 4
}
