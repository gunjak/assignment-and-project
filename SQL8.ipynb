{
 "cells": [
  {
   "cell_type": "code",
   "execution_count": null,
   "metadata": {},
   "outputs": [],
   "source": [
    "SELECT  * FROM TABLE1\n",
    "   LEFT JOIN ORDERS\n",
    "   ON TABLE1.ID = TABLE2.TABLE2_ID\n",
    "INTERSECT\n",
    "   SELECT  *\n",
    "   FROM TABLE1\n",
    "   RIGHT JOIN ORDERS\n",
    "   ON TABLE1.ID = TABLE2.TABLE2_ID;\n",
    "\n",
    "      OR\n",
    "\n",
    "SELECT *\n",
    "FROM table1 \n",
    "INNER JOIN table2\n",
    "ON table1.matching_column = table2.matching_column;\n",
    "\n"
   ]
  },
  {
   "cell_type": "code",
   "execution_count": null,
   "metadata": {},
   "outputs": [],
   "source": [
    "SELECT *\n",
    "FROM table1 \n",
    "LEFT JOIN table2  ON t2.ID = t1.ID"
   ]
  }
 ],
 "metadata": {
  "kernelspec": {
   "display_name": "Python 3 (ipykernel)",
   "language": "python",
   "name": "python3"
  },
  "language_info": {
   "codemirror_mode": {
    "name": "ipython",
    "version": 3
   },
   "file_extension": ".py",
   "mimetype": "text/x-python",
   "name": "python",
   "nbconvert_exporter": "python",
   "pygments_lexer": "ipython3",
   "version": "3.7.6"
  }
 },
 "nbformat": 4,
 "nbformat_minor": 4
}
