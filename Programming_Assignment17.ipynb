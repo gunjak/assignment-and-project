{
 "cells": [
  {
   "cell_type": "code",
   "execution_count": 22,
   "metadata": {},
   "outputs": [],
   "source": [
    "def evenly_divisible(a,b,c):\n",
    "    \"\"\"this function returns the sum of the numbers that are\n",
    "      evenly divided by c from the range a, b inclusive.\"\"\"\n",
    "    if c>b:\n",
    "        raise Exception (f\"No number between {a} and {b} can be evenly divided by {c}.\")\n",
    "    s,i=0,a+c-1\n",
    "    while(i<=b):\n",
    "        s=s+i\n",
    "        i+=c\n",
    "    return s    "
   ]
  },
  {
   "cell_type": "code",
   "execution_count": 25,
   "metadata": {},
   "outputs": [],
   "source": [
    "def correct_signs():\n",
    "    \"\"\"returns True if a given inequality expression is correct and\n",
    "       False otherwise.\"\"\"\n",
    "    try:\n",
    "        return eval(input())\n",
    "    except Exception as e:\n",
    "        return e"
   ]
  },
  {
   "cell_type": "code",
   "execution_count": 38,
   "metadata": {},
   "outputs": [],
   "source": [
    "def replace_vowels(string,s):\n",
    "    \"\"\"this function replace all the vowels in a string with a specified character.\"\"\"\n",
    "    try:\n",
    "        import re \n",
    "        return re.sub(\"[a,i,e,o,u]\",s,string,flags=re.IGNORECASE)\n",
    "    except Exception as e:\n",
    "        return e"
   ]
  },
  {
   "cell_type": "code",
   "execution_count": 47,
   "metadata": {},
   "outputs": [],
   "source": [
    "def factorial(num):\n",
    "    \"\"\"this function calculates the factorial of a number recursively.\"\"\"\n",
    "    try:\n",
    "        if num==0:\n",
    "            return 1\n",
    "        else :\n",
    "            return num*factorial(num-1)\n",
    "    except :\n",
    "        print(\"error\")"
   ]
  },
  {
   "cell_type": "code",
   "execution_count": 43,
   "metadata": {},
   "outputs": [],
   "source": [
    "def hamming_distance(st,string):\n",
    "    \"\"\"this function computes the hamming distance between two strings.\"\"\"\n",
    "    try:\n",
    "        if len(st)==len(string) and type(st)==str and type(string)==str:\n",
    "            ch=0\n",
    "            for i in range(len(st)):\n",
    "                if st[i]!=string[i]:\n",
    "                    ch+=1\n",
    "        return ch \n",
    "    except Exception as e:\n",
    "        print(e)\n",
    "        "
   ]
  }
 ],
 "metadata": {
  "kernelspec": {
   "display_name": "Python 3",
   "language": "python",
   "name": "python3"
  },
  "language_info": {
   "codemirror_mode": {
    "name": "ipython",
    "version": 3
   },
   "file_extension": ".py",
   "mimetype": "text/x-python",
   "name": "python",
   "nbconvert_exporter": "python",
   "pygments_lexer": "ipython3",
   "version": "3.7.6"
  }
 },
 "nbformat": 4,
 "nbformat_minor": 4
}
